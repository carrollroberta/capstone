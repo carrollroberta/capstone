{
 "cells": [
  {
   "cell_type": "markdown",
   "metadata": {},
   "source": [
    "# Coronavirus Data Analysis"
   ]
  },
  {
   "cell_type": "code",
   "execution_count": 1,
   "metadata": {},
   "outputs": [],
   "source": [
    "import pandas as pd\n",
    "import numpy as np"
   ]
  },
  {
   "cell_type": "code",
   "execution_count": 2,
   "metadata": {},
   "outputs": [
    {
     "data": {
      "text/plain": [
       "'application_1636170550178_0012'"
      ]
     },
     "execution_count": 2,
     "metadata": {},
     "output_type": "execute_result"
    }
   ],
   "source": [
    "spark.sparkContext.applicationId"
   ]
  },
  {
   "cell_type": "code",
   "execution_count": 3,
   "metadata": {},
   "outputs": [],
   "source": [
    "pd.options.display.max_columns = 35"
   ]
  },
  {
   "cell_type": "markdown",
   "metadata": {},
   "source": [
    "### Create Variables for Queries"
   ]
  },
  {
   "cell_type": "code",
   "execution_count": 4,
   "metadata": {},
   "outputs": [
    {
     "name": "stdout",
     "output_type": "stream",
     "text": [
      "365\n",
      "365\n",
      "365\n",
      "user_rc047407\n",
      "CoronavirusLengthOfStay_HighLevel\n"
     ]
    }
   ],
   "source": [
    "# Look back days variables\n",
    "daysInterval = 365\n",
    "print(daysInterval)\n",
    "maxDays = 365\n",
    "print(maxDays)\n",
    "oneYearInterval=365\n",
    "print(oneYearInterval)\n",
    "\n",
    "# Username variable\n",
    "user_id = 'rc047407'           ####<-------------------- change to your user id (Ex: tl068507)\n",
    "userName = 'user_' + user_id\n",
    "print(userName)\n",
    "\n",
    "# Algorithm name variable\n",
    "algorithmName='CoronavirusLengthOfStay_HighLevel'\n",
    "print(algorithmName)"
   ]
  },
  {
   "cell_type": "code",
   "execution_count": 5,
   "metadata": {},
   "outputs": [
    {
     "name": "stdout",
     "output_type": "stream",
     "text": [
      "12.8\n"
     ]
    }
   ],
   "source": [
    "stdVar = spark.sql(f\"\"\"\n",
    "  select  round(std(h.length_of_stay),2) as std_length_of_stay\n",
    "       \n",
    "  from {userName}.{algorithmName}_Hospital h\n",
    "  \n",
    "  left join {userName}.{algorithmName}_Vaccine v\n",
    "    on h.personid = v.personId\n",
    "      and h.tenant = v.tenant\n",
    "\n",
    "   where    \n",
    "      datediff(h.serviceDate, h.dischargeDate) < 0\n",
    "      and h.length_of_stay > 0\n",
    "       \n",
    "\"\"\")\n",
    "stdValue = stdVar.first()['std_length_of_stay']\n",
    "print(stdValue)"
   ]
  },
  {
   "cell_type": "code",
   "execution_count": 6,
   "metadata": {},
   "outputs": [
    {
     "name": "stdout",
     "output_type": "stream",
     "text": [
      "12.81\n"
     ]
    }
   ],
   "source": [
    "stdVar = spark.sql(f\"\"\"\n",
    "  select  round(std(h.length_of_stay),2) as std_length_of_stay\n",
    "       \n",
    "  from {userName}.{algorithmName}_Hospital h\n",
    "  \n",
    "  left join {userName}.{algorithmName}_Vaccine v\n",
    "    on h.personid = v.personId\n",
    "      and h.tenant = v.tenant\n",
    "\n",
    "   where    \n",
    "      datediff(h.serviceDate, h.dischargeDate) < 0\n",
    "      and h.length_of_stay > 0\n",
    " \n",
    "      and  ( datediff(h.serviceDate, v.vaccine_date) <= 0\n",
    "             or v.vaccine_date is null) \n",
    "       \n",
    "\"\"\")\n",
    "stdValue_nonVac = stdVar.first()['std_length_of_stay']\n",
    "print(stdValue_nonVac)"
   ]
  },
  {
   "cell_type": "code",
   "execution_count": 7,
   "metadata": {},
   "outputs": [
    {
     "name": "stdout",
     "output_type": "stream",
     "text": [
      "5.62\n"
     ]
    }
   ],
   "source": [
    "stdVar = spark.sql(f\"\"\"\n",
    "  select  round(std(h.length_of_stay),2) as std_length_of_stay\n",
    "       \n",
    "  from {userName}.{algorithmName}_Hospital h\n",
    "  \n",
    "  left join {userName}.{algorithmName}_Vaccine v\n",
    "    on h.personid = v.personId\n",
    "      and h.tenant = v.tenant\n",
    "\n",
    "   where    \n",
    "      datediff(h.serviceDate, h.dischargeDate) < 0\n",
    "      and h.length_of_stay > 0\n",
    "               \n",
    "      and  ( datediff(h.serviceDate, v.vaccine_date) > 0\n",
    "             and v.vaccine_date is not null)        \n",
    "      \n",
    "    \n",
    "\"\"\")\n",
    "stdValue_vac = stdVar.first()['std_length_of_stay']\n",
    "print(stdValue_vac)"
   ]
  },
  {
   "cell_type": "code",
   "execution_count": 8,
   "metadata": {},
   "outputs": [
    {
     "data": {
      "text/html": [
       "<div>\n",
       "<style scoped>\n",
       "    .dataframe tbody tr th:only-of-type {\n",
       "        vertical-align: middle;\n",
       "    }\n",
       "\n",
       "    .dataframe tbody tr th {\n",
       "        vertical-align: top;\n",
       "    }\n",
       "\n",
       "    .dataframe thead th {\n",
       "        text-align: right;\n",
       "    }\n",
       "</style>\n",
       "<table border=\"1\" class=\"dataframe\">\n",
       "  <thead>\n",
       "    <tr style=\"text-align: right;\">\n",
       "      <th></th>\n",
       "      <th>discharge_to</th>\n",
       "      <th>count_of_non_vaccinated_patients</th>\n",
       "      <th>mean_length_of_stay</th>\n",
       "    </tr>\n",
       "  </thead>\n",
       "  <tbody>\n",
       "    <tr>\n",
       "      <th>0</th>\n",
       "      <td>Home</td>\n",
       "      <td>216584</td>\n",
       "      <td>6.69</td>\n",
       "    </tr>\n",
       "    <tr>\n",
       "      <th>1</th>\n",
       "      <td>Hospice Care</td>\n",
       "      <td>6994</td>\n",
       "      <td>9.36</td>\n",
       "    </tr>\n",
       "    <tr>\n",
       "      <th>2</th>\n",
       "      <td>Long Term Care Facility</td>\n",
       "      <td>1925</td>\n",
       "      <td>13.36</td>\n",
       "    </tr>\n",
       "    <tr>\n",
       "      <th>3</th>\n",
       "      <td>Mortuary</td>\n",
       "      <td>37663</td>\n",
       "      <td>11.20</td>\n",
       "    </tr>\n",
       "    <tr>\n",
       "      <th>4</th>\n",
       "      <td>Rehab Facility</td>\n",
       "      <td>3107</td>\n",
       "      <td>11.98</td>\n",
       "    </tr>\n",
       "    <tr>\n",
       "      <th>5</th>\n",
       "      <td>Skilled Nursing Facility</td>\n",
       "      <td>27034</td>\n",
       "      <td>10.00</td>\n",
       "    </tr>\n",
       "  </tbody>\n",
       "</table>\n",
       "</div>"
      ],
      "text/plain": [
       "               discharge_to  count_of_non_vaccinated_patients  \\\n",
       "0                      Home                            216584   \n",
       "1              Hospice Care                              6994   \n",
       "2   Long Term Care Facility                              1925   \n",
       "3                  Mortuary                             37663   \n",
       "4            Rehab Facility                              3107   \n",
       "5  Skilled Nursing Facility                             27034   \n",
       "\n",
       "   mean_length_of_stay  \n",
       "0                 6.69  \n",
       "1                 9.36  \n",
       "2                13.36  \n",
       "3                11.20  \n",
       "4                11.98  \n",
       "5                10.00  "
      ]
     },
     "execution_count": 8,
     "metadata": {},
     "output_type": "execute_result"
    }
   ],
   "source": [
    "spark.sql(f\"\"\"\n",
    "\n",
    "          select\n",
    "              case\n",
    "                    when discharged_to_skilled_nursing_facility = 1 then \"Skilled Nursing Facility\"\n",
    "                    when discharged_to_hospice = 1 then 'Hospice Care'\n",
    "                    when died_in_the_hospital = 1 then 'Mortuary'\n",
    "                    when discharged_to_rehab_facility = 1 then 'Rehab Facility'\n",
    "                    when discharged_to_long_term_care_facility = 1 then 'Long Term Care Facility'\n",
    "                else 'Home'\n",
    "                end as discharge_to\n",
    "              , count(h.personId) as count_of_non_vaccinated_patients\n",
    "              , round(mean(h.length_of_stay),2) as mean_length_of_stay\n",
    "        from {userName}.{algorithmName}_Hospital h\n",
    "          \n",
    "        left join {userName}.{algorithmName}_Vaccine v\n",
    "            on h.personid = v.personId\n",
    "              and h.tenant = v.tenant\n",
    "\n",
    "           where    \n",
    "              datediff(h.serviceDate, h.dischargeDate) < 0\n",
    "              and h.length_of_stay > 0\n",
    "              and h.length_of_stay < 2*{stdValue_nonVac}\n",
    "\n",
    "              and  ( datediff(h.serviceDate, v.vaccine_date) <= 0\n",
    "                     or v.vaccine_date is null) \n",
    "               \n",
    "        group by 1\n",
    "        order by 1\n",
    "     \n",
    "\"\"\").toPandas()"
   ]
  },
  {
   "cell_type": "code",
   "execution_count": 9,
   "metadata": {},
   "outputs": [
    {
     "data": {
      "text/html": [
       "<div>\n",
       "<style scoped>\n",
       "    .dataframe tbody tr th:only-of-type {\n",
       "        vertical-align: middle;\n",
       "    }\n",
       "\n",
       "    .dataframe tbody tr th {\n",
       "        vertical-align: top;\n",
       "    }\n",
       "\n",
       "    .dataframe thead th {\n",
       "        text-align: right;\n",
       "    }\n",
       "</style>\n",
       "<table border=\"1\" class=\"dataframe\">\n",
       "  <thead>\n",
       "    <tr style=\"text-align: right;\">\n",
       "      <th></th>\n",
       "      <th>count_of_non_vaccinated_patients</th>\n",
       "      <th>mean_length_of_stay</th>\n",
       "    </tr>\n",
       "  </thead>\n",
       "  <tbody>\n",
       "    <tr>\n",
       "      <th>0</th>\n",
       "      <td>8092</td>\n",
       "      <td>7.15</td>\n",
       "    </tr>\n",
       "  </tbody>\n",
       "</table>\n",
       "</div>"
      ],
      "text/plain": [
       "   count_of_non_vaccinated_patients  mean_length_of_stay\n",
       "0                              8092                 7.15"
      ]
     },
     "execution_count": 9,
     "metadata": {},
     "output_type": "execute_result"
    }
   ],
   "source": [
    "spark.sql(f\"\"\"\n",
    "\n",
    "        select count(h.personId) as count_of_non_vaccinated_patients\n",
    "               , round(mean(h.length_of_stay),2) as mean_length_of_stay\n",
    "        from {userName}.{algorithmName}_Hospital h\n",
    "          \n",
    "        left join {userName}.{algorithmName}_Vaccine v\n",
    "            on h.personid = v.personId\n",
    "              and h.tenant = v.tenant\n",
    "\n",
    "           where    \n",
    "              datediff(h.serviceDate, h.dischargeDate) < 0\n",
    "              and h.length_of_stay > 0\n",
    "              and h.length_of_stay < 2*{stdValue_nonVac}\n",
    "\n",
    "              and length(h.dischargeDate) > 3\n",
    "              and length(h.serviceDate) > 3\n",
    "\n",
    "\n",
    "              and  ( datediff(h.serviceDate, v.vaccine_date) <= 0\n",
    "                    or v.vaccine_date is not null)  \n",
    "\n",
    "\"\"\").toPandas()"
   ]
  },
  {
   "cell_type": "code",
   "execution_count": 10,
   "metadata": {},
   "outputs": [
    {
     "data": {
      "text/html": [
       "<div>\n",
       "<style scoped>\n",
       "    .dataframe tbody tr th:only-of-type {\n",
       "        vertical-align: middle;\n",
       "    }\n",
       "\n",
       "    .dataframe tbody tr th {\n",
       "        vertical-align: top;\n",
       "    }\n",
       "\n",
       "    .dataframe thead th {\n",
       "        text-align: right;\n",
       "    }\n",
       "</style>\n",
       "<table border=\"1\" class=\"dataframe\">\n",
       "  <thead>\n",
       "    <tr style=\"text-align: right;\">\n",
       "      <th></th>\n",
       "      <th>discharge_to</th>\n",
       "      <th>count_of_vaccinated_patients</th>\n",
       "      <th>mean_length_of_stay</th>\n",
       "    </tr>\n",
       "  </thead>\n",
       "  <tbody>\n",
       "    <tr>\n",
       "      <th>0</th>\n",
       "      <td>Home</td>\n",
       "      <td>295</td>\n",
       "      <td>5.26</td>\n",
       "    </tr>\n",
       "    <tr>\n",
       "      <th>1</th>\n",
       "      <td>Hospice Care</td>\n",
       "      <td>11</td>\n",
       "      <td>6.00</td>\n",
       "    </tr>\n",
       "    <tr>\n",
       "      <th>2</th>\n",
       "      <td>Mortuary</td>\n",
       "      <td>15</td>\n",
       "      <td>4.60</td>\n",
       "    </tr>\n",
       "    <tr>\n",
       "      <th>3</th>\n",
       "      <td>Skilled Nursing Facility</td>\n",
       "      <td>18</td>\n",
       "      <td>5.61</td>\n",
       "    </tr>\n",
       "  </tbody>\n",
       "</table>\n",
       "</div>"
      ],
      "text/plain": [
       "               discharge_to  count_of_vaccinated_patients  mean_length_of_stay\n",
       "0                      Home                           295                 5.26\n",
       "1              Hospice Care                            11                 6.00\n",
       "2                  Mortuary                            15                 4.60\n",
       "3  Skilled Nursing Facility                            18                 5.61"
      ]
     },
     "execution_count": 10,
     "metadata": {},
     "output_type": "execute_result"
    }
   ],
   "source": [
    "spark.sql(f\"\"\"\n",
    "\n",
    "          select\n",
    "                 case\n",
    "                    when discharged_to_skilled_nursing_facility = 1 then \"Skilled Nursing Facility\"\n",
    "                    when discharged_to_hospice = 1 then 'Hospice Care'\n",
    "                    when died_in_the_hospital = 1 then 'Mortuary'\n",
    "                    when discharged_to_rehab_facility = 1 then 'Rehab Facility'\n",
    "                    when discharged_to_long_term_care_facility = 1 then 'Long Term Care Facility'\n",
    "                else 'Home'\n",
    "                end as discharge_to\n",
    "              , count(h.personId) as count_of_vaccinated_patients\n",
    "              , round(mean(h.length_of_stay),2) as mean_length_of_stay\n",
    "        from {userName}.{algorithmName}_Hospital h\n",
    "          \n",
    "        left join {userName}.{algorithmName}_Vaccine v\n",
    "            on h.personid = v.personId\n",
    "              and h.tenant = v.tenant\n",
    "\n",
    "           where    \n",
    "              datediff(h.serviceDate, h.dischargeDate) < 0\n",
    "              and h.length_of_stay > 0\n",
    "              and h.length_of_stay < 2*{stdValue_vac}\n",
    "\n",
    "              and  ( datediff(h.serviceDate, v.vaccine_date) > 0\n",
    "                    and v.vaccine_date is not null)  \n",
    "               \n",
    "        group by 1\n",
    "        order by 1\n",
    "     \n",
    "\"\"\").toPandas()"
   ]
  },
  {
   "cell_type": "code",
   "execution_count": 11,
   "metadata": {},
   "outputs": [
    {
     "data": {
      "text/html": [
       "<div>\n",
       "<style scoped>\n",
       "    .dataframe tbody tr th:only-of-type {\n",
       "        vertical-align: middle;\n",
       "    }\n",
       "\n",
       "    .dataframe tbody tr th {\n",
       "        vertical-align: top;\n",
       "    }\n",
       "\n",
       "    .dataframe thead th {\n",
       "        text-align: right;\n",
       "    }\n",
       "</style>\n",
       "<table border=\"1\" class=\"dataframe\">\n",
       "  <thead>\n",
       "    <tr style=\"text-align: right;\">\n",
       "      <th></th>\n",
       "      <th>count_of_vaccinated_patients</th>\n",
       "      <th>mean_length_of_stay</th>\n",
       "    </tr>\n",
       "  </thead>\n",
       "  <tbody>\n",
       "    <tr>\n",
       "      <th>0</th>\n",
       "      <td>339</td>\n",
       "      <td>5.28</td>\n",
       "    </tr>\n",
       "  </tbody>\n",
       "</table>\n",
       "</div>"
      ],
      "text/plain": [
       "   count_of_vaccinated_patients  mean_length_of_stay\n",
       "0                           339                 5.28"
      ]
     },
     "execution_count": 11,
     "metadata": {},
     "output_type": "execute_result"
    }
   ],
   "source": [
    "spark.sql(f\"\"\"\n",
    "\n",
    "          select count(h.personId) as count_of_vaccinated_patients\n",
    "                , round(mean(h.length_of_stay),2) as mean_length_of_stay\n",
    "        from {userName}.{algorithmName}_Hospital h\n",
    "          \n",
    "        left join {userName}.{algorithmName}_Vaccine v\n",
    "            on h.personid = v.personId\n",
    "              and h.tenant = v.tenant\n",
    "\n",
    "           where    \n",
    "              datediff(h.serviceDate, h.dischargeDate) < 0\n",
    "              and h.length_of_stay > 0\n",
    "              and h.length_of_stay < 2*{stdValue_vac}\n",
    "\n",
    "              and length(h.dischargeDate) > 3\n",
    "              and length(h.serviceDate) > 3\n",
    "\n",
    "\n",
    "              and  ( datediff(h.serviceDate, v.vaccine_date) > 0\n",
    "                    and v.vaccine_date is not null)  \n",
    "               \n",
    "      \n",
    "\"\"\").toPandas()"
   ]
  },
  {
   "cell_type": "code",
   "execution_count": 12,
   "metadata": {},
   "outputs": [
    {
     "data": {
      "text/html": [
       "<div>\n",
       "<style scoped>\n",
       "    .dataframe tbody tr th:only-of-type {\n",
       "        vertical-align: middle;\n",
       "    }\n",
       "\n",
       "    .dataframe tbody tr th {\n",
       "        vertical-align: top;\n",
       "    }\n",
       "\n",
       "    .dataframe thead th {\n",
       "        text-align: right;\n",
       "    }\n",
       "</style>\n",
       "<table border=\"1\" class=\"dataframe\">\n",
       "  <thead>\n",
       "    <tr style=\"text-align: right;\">\n",
       "      <th></th>\n",
       "      <th>discharge_to</th>\n",
       "      <th>count_of_all_patients</th>\n",
       "      <th>mean_length_of_stay</th>\n",
       "    </tr>\n",
       "  </thead>\n",
       "  <tbody>\n",
       "    <tr>\n",
       "      <th>0</th>\n",
       "      <td>Home</td>\n",
       "      <td>216915</td>\n",
       "      <td>6.69</td>\n",
       "    </tr>\n",
       "    <tr>\n",
       "      <th>1</th>\n",
       "      <td>Hospice Care</td>\n",
       "      <td>7013</td>\n",
       "      <td>9.37</td>\n",
       "    </tr>\n",
       "    <tr>\n",
       "      <th>2</th>\n",
       "      <td>Long Term Care Facility</td>\n",
       "      <td>1926</td>\n",
       "      <td>13.36</td>\n",
       "    </tr>\n",
       "    <tr>\n",
       "      <th>3</th>\n",
       "      <td>Mortuary</td>\n",
       "      <td>37695</td>\n",
       "      <td>11.20</td>\n",
       "    </tr>\n",
       "    <tr>\n",
       "      <th>4</th>\n",
       "      <td>Rehab Facility</td>\n",
       "      <td>3110</td>\n",
       "      <td>11.99</td>\n",
       "    </tr>\n",
       "    <tr>\n",
       "      <th>5</th>\n",
       "      <td>Skilled Nursing Facility</td>\n",
       "      <td>27056</td>\n",
       "      <td>9.99</td>\n",
       "    </tr>\n",
       "  </tbody>\n",
       "</table>\n",
       "</div>"
      ],
      "text/plain": [
       "               discharge_to  count_of_all_patients  mean_length_of_stay\n",
       "0                      Home                 216915                 6.69\n",
       "1              Hospice Care                   7013                 9.37\n",
       "2   Long Term Care Facility                   1926                13.36\n",
       "3                  Mortuary                  37695                11.20\n",
       "4            Rehab Facility                   3110                11.99\n",
       "5  Skilled Nursing Facility                  27056                 9.99"
      ]
     },
     "execution_count": 12,
     "metadata": {},
     "output_type": "execute_result"
    }
   ],
   "source": [
    "spark.sql(f\"\"\"\n",
    "\n",
    "          select\n",
    "                case\n",
    "                    when discharged_to_skilled_nursing_facility = 1 then \"Skilled Nursing Facility\"\n",
    "                    when discharged_to_hospice = 1 then 'Hospice Care'\n",
    "                    when died_in_the_hospital = 1 then 'Mortuary'\n",
    "                    when discharged_to_rehab_facility = 1 then 'Rehab Facility'\n",
    "                    when discharged_to_long_term_care_facility = 1 then 'Long Term Care Facility'\n",
    "                else 'Home'\n",
    "                end as discharge_to\n",
    "              , count(h.personId) as count_of_all_patients\n",
    "              , round(mean(h.length_of_stay),2) as mean_length_of_stay\n",
    "        from {userName}.{algorithmName}_Hospital h\n",
    "          \n",
    "        left join {userName}.{algorithmName}_Vaccine v\n",
    "            on h.personid = v.personId\n",
    "              and h.tenant = v.tenant\n",
    "\n",
    "           where    \n",
    "              datediff(h.serviceDate, h.dischargeDate) < 0\n",
    "              and h.length_of_stay > 0\n",
    "              and h.length_of_stay < 2*{stdValue}\n",
    "\n",
    "        group by 1\n",
    "        order by 1\n",
    "     \n",
    "\"\"\").toPandas()"
   ]
  },
  {
   "cell_type": "code",
   "execution_count": 13,
   "metadata": {},
   "outputs": [
    {
     "data": {
      "text/html": [
       "<div>\n",
       "<style scoped>\n",
       "    .dataframe tbody tr th:only-of-type {\n",
       "        vertical-align: middle;\n",
       "    }\n",
       "\n",
       "    .dataframe tbody tr th {\n",
       "        vertical-align: top;\n",
       "    }\n",
       "\n",
       "    .dataframe thead th {\n",
       "        text-align: right;\n",
       "    }\n",
       "</style>\n",
       "<table border=\"1\" class=\"dataframe\">\n",
       "  <thead>\n",
       "    <tr style=\"text-align: right;\">\n",
       "      <th></th>\n",
       "      <th>count_of_non_vaccinated_patients</th>\n",
       "      <th>mean_length_of_stay</th>\n",
       "    </tr>\n",
       "  </thead>\n",
       "  <tbody>\n",
       "    <tr>\n",
       "      <th>0</th>\n",
       "      <td>293715</td>\n",
       "      <td>7.74</td>\n",
       "    </tr>\n",
       "  </tbody>\n",
       "</table>\n",
       "</div>"
      ],
      "text/plain": [
       "   count_of_non_vaccinated_patients  mean_length_of_stay\n",
       "0                            293715                 7.74"
      ]
     },
     "execution_count": 13,
     "metadata": {},
     "output_type": "execute_result"
    }
   ],
   "source": [
    "spark.sql(f\"\"\"\n",
    "\n",
    "        select count(h.personId) as count_of_non_vaccinated_patients\n",
    "              , round(mean(h.length_of_stay),2) as mean_length_of_stay\n",
    "        from {userName}.{algorithmName}_Hospital h\n",
    "          \n",
    "        left join {userName}.{algorithmName}_Vaccine v\n",
    "            on h.personid = v.personId\n",
    "              and h.tenant = v.tenant\n",
    "\n",
    "           where    \n",
    "              datediff(h.serviceDate, h.dischargeDate) < 0\n",
    "              and h.length_of_stay > 0\n",
    "              and h.length_of_stay < 2*{stdValue}\n",
    "\n",
    "              and length(h.dischargeDate) > 3\n",
    "              and length(h.serviceDate) > 3\n",
    "\n",
    "     \n",
    "\"\"\").toPandas()"
   ]
  },
  {
   "cell_type": "code",
   "execution_count": null,
   "metadata": {},
   "outputs": [],
   "source": []
  }
 ],
 "metadata": {
  "kernelspec": {
   "display_name": "PySpark",
   "language": "python",
   "name": "pyspark"
  },
  "language_info": {
   "codemirror_mode": {
    "name": "ipython",
    "version": 3
   },
   "file_extension": ".py",
   "mimetype": "text/x-python",
   "name": "python",
   "nbconvert_exporter": "python",
   "pygments_lexer": "ipython3",
   "version": "3.7.6"
  }
 },
 "nbformat": 4,
 "nbformat_minor": 4
}
