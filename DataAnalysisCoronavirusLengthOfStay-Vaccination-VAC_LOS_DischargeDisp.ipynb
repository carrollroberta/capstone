{
 "cells": [
  {
   "cell_type": "markdown",
   "metadata": {},
   "source": [
    "# Coronavirus Data Analysis"
   ]
  },
  {
   "cell_type": "code",
   "execution_count": 1,
   "metadata": {},
   "outputs": [],
   "source": [
    "import pandas as pd\n",
    "import numpy as np"
   ]
  },
  {
   "cell_type": "code",
   "execution_count": 2,
   "metadata": {},
   "outputs": [
    {
     "data": {
      "text/plain": [
       "'application_1636170550178_0036'"
      ]
     },
     "execution_count": 2,
     "metadata": {},
     "output_type": "execute_result"
    }
   ],
   "source": [
    "spark.sparkContext.applicationId"
   ]
  },
  {
   "cell_type": "code",
   "execution_count": 3,
   "metadata": {},
   "outputs": [],
   "source": [
    "pd.options.display.max_columns = 35"
   ]
  },
  {
   "cell_type": "markdown",
   "metadata": {},
   "source": [
    "### Create Variables for Queries"
   ]
  },
  {
   "cell_type": "code",
   "execution_count": 4,
   "metadata": {},
   "outputs": [
    {
     "name": "stdout",
     "output_type": "stream",
     "text": [
      "365\n",
      "365\n",
      "365\n",
      "user_rc047407\n",
      "CoronavirusLengthOfStay_HighLevel\n"
     ]
    }
   ],
   "source": [
    "# Look back days variables\n",
    "daysInterval = 365\n",
    "print(daysInterval)\n",
    "maxDays = 365\n",
    "print(maxDays)\n",
    "oneYearInterval=365\n",
    "print(oneYearInterval)\n",
    "\n",
    "# Username variable\n",
    "user_id = 'rc047407'           ####<-------------------- change to your user id (Ex: tl068507)\n",
    "userName = 'user_' + user_id\n",
    "print(userName)\n",
    "\n",
    "# Algorithm name variable\n",
    "algorithmName='CoronavirusLengthOfStay_HighLevel'\n",
    "print(algorithmName)"
   ]
  },
  {
   "cell_type": "code",
   "execution_count": 5,
   "metadata": {},
   "outputs": [
    {
     "name": "stdout",
     "output_type": "stream",
     "text": [
      "5.62\n"
     ]
    }
   ],
   "source": [
    "stdVar = spark.sql(f\"\"\"\n",
    "  select  round(std(h.length_of_stay),2) as std_length_of_stay\n",
    "       \n",
    "  from {userName}.{algorithmName}_Hospital h\n",
    "  \n",
    "  left join {userName}.{algorithmName}_Vaccine v\n",
    "    on h.personid = v.personId\n",
    "      and h.tenant = v.tenant\n",
    "\n",
    "   where    \n",
    "      datediff(h.serviceDate, h.dischargeDate) < 0\n",
    "      and h.length_of_stay > 0\n",
    "               \n",
    "      and  ( datediff(h.serviceDate, v.vaccine_date) > 0\n",
    "             and v.vaccine_date is not null)        \n",
    "      \n",
    "    \n",
    "\"\"\")\n",
    "stdValue_vac = stdVar.first()['std_length_of_stay']\n",
    "print(stdValue_vac)"
   ]
  },
  {
   "cell_type": "code",
   "execution_count": 8,
   "metadata": {},
   "outputs": [
    {
     "data": {
      "text/html": [
       "<div>\n",
       "<style scoped>\n",
       "    .dataframe tbody tr th:only-of-type {\n",
       "        vertical-align: middle;\n",
       "    }\n",
       "\n",
       "    .dataframe tbody tr th {\n",
       "        vertical-align: top;\n",
       "    }\n",
       "\n",
       "    .dataframe thead th {\n",
       "        text-align: right;\n",
       "    }\n",
       "</style>\n",
       "<table border=\"1\" class=\"dataframe\">\n",
       "  <thead>\n",
       "    <tr style=\"text-align: right;\">\n",
       "      <th></th>\n",
       "      <th>segment</th>\n",
       "      <th>vaccine_name</th>\n",
       "      <th>count_of_vaccinated_patients</th>\n",
       "      <th>mean_length_of_stay</th>\n",
       "    </tr>\n",
       "  </thead>\n",
       "  <tbody>\n",
       "    <tr>\n",
       "      <th>0</th>\n",
       "      <td>Academic Hospital</td>\n",
       "      <td>Moderna</td>\n",
       "      <td>8</td>\n",
       "      <td>4.27</td>\n",
       "    </tr>\n",
       "    <tr>\n",
       "      <th>1</th>\n",
       "      <td>Academic Hospital</td>\n",
       "      <td>Pfizer</td>\n",
       "      <td>3</td>\n",
       "      <td>3.14</td>\n",
       "    </tr>\n",
       "    <tr>\n",
       "      <th>2</th>\n",
       "      <td>Childrens Hospital</td>\n",
       "      <td>Moderna</td>\n",
       "      <td>1</td>\n",
       "      <td>8.00</td>\n",
       "    </tr>\n",
       "    <tr>\n",
       "      <th>3</th>\n",
       "      <td>Community Hospital</td>\n",
       "      <td>Moderna</td>\n",
       "      <td>7</td>\n",
       "      <td>5.40</td>\n",
       "    </tr>\n",
       "    <tr>\n",
       "      <th>4</th>\n",
       "      <td>Community Hospital</td>\n",
       "      <td>Pfizer</td>\n",
       "      <td>1</td>\n",
       "      <td>3.00</td>\n",
       "    </tr>\n",
       "    <tr>\n",
       "      <th>5</th>\n",
       "      <td>Integrated Delivery Network</td>\n",
       "      <td>Janssen</td>\n",
       "      <td>3</td>\n",
       "      <td>8.00</td>\n",
       "    </tr>\n",
       "    <tr>\n",
       "      <th>6</th>\n",
       "      <td>Integrated Delivery Network</td>\n",
       "      <td>Moderna</td>\n",
       "      <td>29</td>\n",
       "      <td>6.06</td>\n",
       "    </tr>\n",
       "    <tr>\n",
       "      <th>7</th>\n",
       "      <td>Integrated Delivery Network</td>\n",
       "      <td>Pfizer</td>\n",
       "      <td>65</td>\n",
       "      <td>5.00</td>\n",
       "    </tr>\n",
       "    <tr>\n",
       "      <th>8</th>\n",
       "      <td>Other</td>\n",
       "      <td>Moderna</td>\n",
       "      <td>1</td>\n",
       "      <td>6.50</td>\n",
       "    </tr>\n",
       "    <tr>\n",
       "      <th>9</th>\n",
       "      <td>Regional Hospital</td>\n",
       "      <td>Moderna</td>\n",
       "      <td>38</td>\n",
       "      <td>5.77</td>\n",
       "    </tr>\n",
       "    <tr>\n",
       "      <th>10</th>\n",
       "      <td>Regional Hospital</td>\n",
       "      <td>Pfizer</td>\n",
       "      <td>33</td>\n",
       "      <td>4.82</td>\n",
       "    </tr>\n",
       "  </tbody>\n",
       "</table>\n",
       "</div>"
      ],
      "text/plain": [
       "                        segment vaccine_name  count_of_vaccinated_patients  \\\n",
       "0             Academic Hospital      Moderna                             8   \n",
       "1             Academic Hospital       Pfizer                             3   \n",
       "2            Childrens Hospital      Moderna                             1   \n",
       "3            Community Hospital      Moderna                             7   \n",
       "4            Community Hospital       Pfizer                             1   \n",
       "5   Integrated Delivery Network      Janssen                             3   \n",
       "6   Integrated Delivery Network      Moderna                            29   \n",
       "7   Integrated Delivery Network       Pfizer                            65   \n",
       "8                         Other      Moderna                             1   \n",
       "9             Regional Hospital      Moderna                            38   \n",
       "10            Regional Hospital       Pfizer                            33   \n",
       "\n",
       "    mean_length_of_stay  \n",
       "0                  4.27  \n",
       "1                  3.14  \n",
       "2                  8.00  \n",
       "3                  5.40  \n",
       "4                  3.00  \n",
       "5                  8.00  \n",
       "6                  6.06  \n",
       "7                  5.00  \n",
       "8                  6.50  \n",
       "9                  5.77  \n",
       "10                 4.82  "
      ]
     },
     "execution_count": 8,
     "metadata": {},
     "output_type": "execute_result"
    }
   ],
   "source": [
    "spark.sql(f\"\"\"\n",
    "    select  segment\n",
    "          , vaccine_name\n",
    "          , count(distinct personId) as count_of_vaccinated_patients\n",
    "          , round(mean(length_of_stay),2) as mean_length_of_stay\n",
    "        from (  \n",
    "          select\n",
    "              h.personId\n",
    "              , length_of_stay\n",
    "              , case \n",
    "                when taken_Moderna_vaccine = 1 then \"Moderna\"\n",
    "                when taken_Pfizer_vaccine = 1 then \"Pfizer\"\n",
    "                when taken_Janssen_vaccine = 1 then \"Janssen\"\n",
    "              end as vaccine_name \n",
    "            ,case\n",
    "                    when tenant_segment like 'Community%' then \"Community Hospital\"\n",
    "                    when tenant_segment = 'Academic' then 'Academic Hospital'\n",
    "                    when tenant_segment = 'Childrens' then 'Childrens Hospital'\n",
    "                    when tenant_segment = 'IDN' then 'Integrated Delivery Network'\n",
    "                    when tenant_segment = 'Regional Hospital' then 'Regional Hospital'\n",
    "                else 'Other'\n",
    "                end as segment\n",
    "              \n",
    "        from {userName}.{algorithmName}_Hospital h\n",
    "          \n",
    "        join {userName}.{algorithmName}_Vaccine_Detail v\n",
    "            on h.personid = v.personId\n",
    "              and h.tenant = v.tenant\n",
    "              and  ( datediff(h.serviceDate, v.vaccine_date) > 0\n",
    "              and     v.vaccine_date is not null) \n",
    "              and ( taken_Moderna_vaccine = 1   \n",
    "                    or taken_Pfizer_vaccine = 1  \n",
    "                    or taken_Janssen_vaccine = 1 )\n",
    "\n",
    "           where    \n",
    "              datediff(h.serviceDate, h.dischargeDate) < 0\n",
    "              and h.length_of_stay > 0\n",
    "              and h.length_of_stay < 2*{stdValue_vac}\n",
    "\n",
    "          ) subquery   \n",
    "          \n",
    "        group by 1, 2\n",
    "        order by 1, 2\n",
    "     \n",
    "\"\"\").toPandas()"
   ]
  },
  {
   "cell_type": "code",
   "execution_count": 7,
   "metadata": {},
   "outputs": [
    {
     "data": {
      "text/html": [
       "<div>\n",
       "<style scoped>\n",
       "    .dataframe tbody tr th:only-of-type {\n",
       "        vertical-align: middle;\n",
       "    }\n",
       "\n",
       "    .dataframe tbody tr th {\n",
       "        vertical-align: top;\n",
       "    }\n",
       "\n",
       "    .dataframe thead th {\n",
       "        text-align: right;\n",
       "    }\n",
       "</style>\n",
       "<table border=\"1\" class=\"dataframe\">\n",
       "  <thead>\n",
       "    <tr style=\"text-align: right;\">\n",
       "      <th></th>\n",
       "      <th>vaccine_name</th>\n",
       "      <th>count_of_vaccinated_patients</th>\n",
       "      <th>mean_length_of_stay</th>\n",
       "    </tr>\n",
       "  </thead>\n",
       "  <tbody>\n",
       "    <tr>\n",
       "      <th>0</th>\n",
       "      <td>Janssen</td>\n",
       "      <td>3</td>\n",
       "      <td>8.00</td>\n",
       "    </tr>\n",
       "    <tr>\n",
       "      <th>1</th>\n",
       "      <td>Moderna</td>\n",
       "      <td>84</td>\n",
       "      <td>5.78</td>\n",
       "    </tr>\n",
       "    <tr>\n",
       "      <th>2</th>\n",
       "      <td>Pfizer</td>\n",
       "      <td>102</td>\n",
       "      <td>4.86</td>\n",
       "    </tr>\n",
       "  </tbody>\n",
       "</table>\n",
       "</div>"
      ],
      "text/plain": [
       "  vaccine_name  count_of_vaccinated_patients  mean_length_of_stay\n",
       "0      Janssen                             3                 8.00\n",
       "1      Moderna                            84                 5.78\n",
       "2       Pfizer                           102                 4.86"
      ]
     },
     "execution_count": 7,
     "metadata": {},
     "output_type": "execute_result"
    }
   ],
   "source": [
    "spark.sql(f\"\"\"\n",
    "    select   vaccine_name\n",
    "          , count(distinct personId) as count_of_vaccinated_patients\n",
    "          , round(mean(length_of_stay),2) as mean_length_of_stay\n",
    "        from (  \n",
    "          select\n",
    "              h.personId\n",
    "              , length_of_stay\n",
    "              , case \n",
    "                when taken_Moderna_vaccine = 1 then \"Moderna\"\n",
    "                when taken_Pfizer_vaccine = 1 then \"Pfizer\"\n",
    "                when taken_Janssen_vaccine = 1 then \"Janssen\"\n",
    "              end as vaccine_name \n",
    "          \n",
    "              \n",
    "        from {userName}.{algorithmName}_Hospital h\n",
    "          \n",
    "        join {userName}.{algorithmName}_Vaccine_Detail v\n",
    "            on h.personid = v.personId\n",
    "              and h.tenant = v.tenant\n",
    "              and  ( datediff(h.serviceDate, v.vaccine_date) > 0\n",
    "              and     v.vaccine_date is not null) \n",
    "              and ( taken_Moderna_vaccine = 1   \n",
    "                    or taken_Pfizer_vaccine = 1  \n",
    "                    or taken_Janssen_vaccine = 1 )\n",
    "\n",
    "           where    \n",
    "              datediff(h.serviceDate, h.dischargeDate) < 0\n",
    "              and h.length_of_stay > 0\n",
    "              and h.length_of_stay < 2*{stdValue_vac}\n",
    "\n",
    "          ) subquery   \n",
    "          \n",
    "        group by 1 \n",
    "        order by 1 \n",
    "     \n",
    "\"\"\").toPandas()"
   ]
  },
  {
   "cell_type": "code",
   "execution_count": null,
   "metadata": {},
   "outputs": [],
   "source": []
  },
  {
   "cell_type": "code",
   "execution_count": null,
   "metadata": {},
   "outputs": [],
   "source": []
  }
 ],
 "metadata": {
  "kernelspec": {
   "display_name": "PySpark",
   "language": "python",
   "name": "pyspark"
  },
  "language_info": {
   "codemirror_mode": {
    "name": "ipython",
    "version": 3
   },
   "file_extension": ".py",
   "mimetype": "text/x-python",
   "name": "python",
   "nbconvert_exporter": "python",
   "pygments_lexer": "ipython3",
   "version": "3.7.6"
  }
 },
 "nbformat": 4,
 "nbformat_minor": 4
}
