{
 "cells": [
  {
   "cell_type": "markdown",
   "metadata": {},
   "source": [
    "# Coronavirus Data Analysis"
   ]
  },
  {
   "cell_type": "code",
   "execution_count": 1,
   "metadata": {},
   "outputs": [],
   "source": [
    "import pandas as pd\n",
    "import numpy as np"
   ]
  },
  {
   "cell_type": "code",
   "execution_count": 2,
   "metadata": {},
   "outputs": [
    {
     "data": {
      "text/plain": [
       "'application_1636170550178_0037'"
      ]
     },
     "execution_count": 2,
     "metadata": {},
     "output_type": "execute_result"
    }
   ],
   "source": [
    "spark.sparkContext.applicationId"
   ]
  },
  {
   "cell_type": "code",
   "execution_count": 3,
   "metadata": {},
   "outputs": [],
   "source": [
    "pd.options.display.max_columns = 35"
   ]
  },
  {
   "cell_type": "markdown",
   "metadata": {},
   "source": [
    "### Create Variables for Queries"
   ]
  },
  {
   "cell_type": "code",
   "execution_count": 4,
   "metadata": {},
   "outputs": [
    {
     "name": "stdout",
     "output_type": "stream",
     "text": [
      "365\n",
      "365\n",
      "365\n",
      "user_rc047407\n",
      "CoronavirusLengthOfStay_HighLevel\n"
     ]
    }
   ],
   "source": [
    "# Look back days variables\n",
    "daysInterval = 365\n",
    "print(daysInterval)\n",
    "maxDays = 365\n",
    "print(maxDays)\n",
    "oneYearInterval=365\n",
    "print(oneYearInterval)\n",
    "\n",
    "# Username variable\n",
    "user_id = 'rc047407'           ####<-------------------- change to your user id (Ex: tl068507)\n",
    "userName = 'user_' + user_id\n",
    "print(userName)\n",
    "\n",
    "# Algorithm name variable\n",
    "algorithmName='CoronavirusLengthOfStay_HighLevel'\n",
    "print(algorithmName)"
   ]
  },
  {
   "cell_type": "code",
   "execution_count": 5,
   "metadata": {},
   "outputs": [
    {
     "name": "stdout",
     "output_type": "stream",
     "text": [
      "5.62\n"
     ]
    }
   ],
   "source": [
    "stdVar = spark.sql(f\"\"\"\n",
    "  select  round(std(h.length_of_stay),2) as std_length_of_stay\n",
    "       \n",
    "  from {userName}.{algorithmName}_Hospital h\n",
    "  \n",
    "  left join {userName}.{algorithmName}_Vaccine v\n",
    "    on h.personid = v.personId\n",
    "      and h.tenant = v.tenant\n",
    "\n",
    "   where    \n",
    "      datediff(h.serviceDate, h.dischargeDate) < 0\n",
    "      and h.length_of_stay > 0\n",
    "               \n",
    "      and  ( datediff(h.serviceDate, v.vaccine_date) > 0\n",
    "             and v.vaccine_date is not null)        \n",
    "      \n",
    "    \n",
    "\"\"\")\n",
    "stdValue_vac = stdVar.first()['std_length_of_stay']\n",
    "print(stdValue_vac)"
   ]
  },
  {
   "cell_type": "code",
   "execution_count": 6,
   "metadata": {},
   "outputs": [
    {
     "data": {
      "text/html": [
       "<div>\n",
       "<style scoped>\n",
       "    .dataframe tbody tr th:only-of-type {\n",
       "        vertical-align: middle;\n",
       "    }\n",
       "\n",
       "    .dataframe tbody tr th {\n",
       "        vertical-align: top;\n",
       "    }\n",
       "\n",
       "    .dataframe thead th {\n",
       "        text-align: right;\n",
       "    }\n",
       "</style>\n",
       "<table border=\"1\" class=\"dataframe\">\n",
       "  <thead>\n",
       "    <tr style=\"text-align: right;\">\n",
       "      <th></th>\n",
       "      <th>age_range</th>\n",
       "      <th>vaccine_name</th>\n",
       "      <th>count_of_vaccinated_patients</th>\n",
       "      <th>mean_length_of_stay</th>\n",
       "    </tr>\n",
       "  </thead>\n",
       "  <tbody>\n",
       "    <tr>\n",
       "      <th>0</th>\n",
       "      <td>55-59</td>\n",
       "      <td>Moderna</td>\n",
       "      <td>1</td>\n",
       "      <td>5.0</td>\n",
       "    </tr>\n",
       "    <tr>\n",
       "      <th>1</th>\n",
       "      <td>60-65</td>\n",
       "      <td>Moderna</td>\n",
       "      <td>1</td>\n",
       "      <td>3.0</td>\n",
       "    </tr>\n",
       "    <tr>\n",
       "      <th>2</th>\n",
       "      <td>65-69</td>\n",
       "      <td>Moderna</td>\n",
       "      <td>1</td>\n",
       "      <td>6.0</td>\n",
       "    </tr>\n",
       "    <tr>\n",
       "      <th>3</th>\n",
       "      <td>70-74</td>\n",
       "      <td>Pfizer</td>\n",
       "      <td>1</td>\n",
       "      <td>5.0</td>\n",
       "    </tr>\n",
       "    <tr>\n",
       "      <th>4</th>\n",
       "      <td>75-79</td>\n",
       "      <td>Moderna</td>\n",
       "      <td>1</td>\n",
       "      <td>4.0</td>\n",
       "    </tr>\n",
       "    <tr>\n",
       "      <th>5</th>\n",
       "      <td>80-85</td>\n",
       "      <td>Moderna</td>\n",
       "      <td>3</td>\n",
       "      <td>5.5</td>\n",
       "    </tr>\n",
       "    <tr>\n",
       "      <th>6</th>\n",
       "      <td>80-85</td>\n",
       "      <td>Pfizer</td>\n",
       "      <td>2</td>\n",
       "      <td>4.0</td>\n",
       "    </tr>\n",
       "    <tr>\n",
       "      <th>7</th>\n",
       "      <td>90+</td>\n",
       "      <td>Moderna</td>\n",
       "      <td>1</td>\n",
       "      <td>3.0</td>\n",
       "    </tr>\n",
       "  </tbody>\n",
       "</table>\n",
       "</div>"
      ],
      "text/plain": [
       "  age_range vaccine_name  count_of_vaccinated_patients  mean_length_of_stay\n",
       "0     55-59      Moderna                             1                  5.0\n",
       "1     60-65      Moderna                             1                  3.0\n",
       "2     65-69      Moderna                             1                  6.0\n",
       "3     70-74       Pfizer                             1                  5.0\n",
       "4     75-79      Moderna                             1                  4.0\n",
       "5     80-85      Moderna                             3                  5.5\n",
       "6     80-85       Pfizer                             2                  4.0\n",
       "7       90+      Moderna                             1                  3.0"
      ]
     },
     "execution_count": 6,
     "metadata": {},
     "output_type": "execute_result"
    }
   ],
   "source": [
    "spark.sql(f\"\"\"\n",
    "    select  age_range\n",
    "          , vaccine_name\n",
    "          , count(distinct personId) as count_of_vaccinated_patients\n",
    "          , round(mean(length_of_stay),2) as mean_length_of_stay\n",
    "        from (  \n",
    "          select\n",
    "              h.personId\n",
    "              , length_of_stay\n",
    "              , case \n",
    "                when taken_Moderna_vaccine = 1 then \"Moderna\"\n",
    "                when taken_Pfizer_vaccine = 1 then \"Pfizer\"\n",
    "                when taken_Janssen_vaccine = 1 then \"Janssen\"\n",
    "              end as vaccine_name \n",
    "              , case\n",
    "                when age >= 90 then \"90+\"\n",
    "                when age >= 85 and age < 90 then \"85-89\"\n",
    "                when age >= 80 and age < 85 then \"80-85\"\n",
    "                when age >= 75 and age < 80 then \"75-79\"\n",
    "                when age >= 70 and age < 75 then \"70-74\"\n",
    "                when age >= 65 and age < 70 then \"65-69\"\n",
    "                when age >= 60 and age < 65 then \"60-65\"\n",
    "                when age >= 55 and age < 60 then \"55-59\"\n",
    "                when age >= 50 and age < 55 then \"50-54\"\n",
    "                when age >= 45 and age < 50 then \"45-49\"\n",
    "                when age >= 40 and age < 45 then \"40-45\"\n",
    "                when age >= 35 and age < 40 then \"35-39\"\n",
    "                when age >= 30 and age < 35 then \"30-34\"\n",
    "                when age >= 25 and age < 30 then \"25-29\"\n",
    "                when age >= 20 and age < 25 then \"20-25\"\n",
    "                when age >= 12 and age < 20 then \"12-19\"\n",
    "                when age >= 0 and age < 12 then \"0-12\"\n",
    "                else \"unknown\"\n",
    "                end as age_range\n",
    "              \n",
    "        from {userName}.{algorithmName}_Hospital h\n",
    "          \n",
    "        join {userName}.{algorithmName}_Vaccine_Detail v\n",
    "            on h.personid = v.personId\n",
    "              and h.tenant = v.tenant\n",
    "              and  ( datediff(h.serviceDate, v.vaccine_date) > 0\n",
    "              and     v.vaccine_date is not null) \n",
    "              and ( taken_Moderna_vaccine = 1   \n",
    "                    or taken_Pfizer_vaccine = 1  \n",
    "                    or taken_Janssen_vaccine = 1 )\n",
    "\n",
    "           where    \n",
    "              datediff(h.serviceDate, h.dischargeDate) < 0\n",
    "              and h.length_of_stay > 0\n",
    "              and h.length_of_stay < 2*{stdValue_vac}\n",
    "              \n",
    "              and deceased = 1\n",
    "\n",
    "          ) subquery   \n",
    "          \n",
    "        group by 1, 2\n",
    "        \n",
    "        order by 1, 2\n",
    "     \n",
    "\"\"\").toPandas()"
   ]
  },
  {
   "cell_type": "code",
   "execution_count": 8,
   "metadata": {},
   "outputs": [
    {
     "data": {
      "text/html": [
       "<div>\n",
       "<style scoped>\n",
       "    .dataframe tbody tr th:only-of-type {\n",
       "        vertical-align: middle;\n",
       "    }\n",
       "\n",
       "    .dataframe tbody tr th {\n",
       "        vertical-align: top;\n",
       "    }\n",
       "\n",
       "    .dataframe thead th {\n",
       "        text-align: right;\n",
       "    }\n",
       "</style>\n",
       "<table border=\"1\" class=\"dataframe\">\n",
       "  <thead>\n",
       "    <tr style=\"text-align: right;\">\n",
       "      <th></th>\n",
       "      <th>vaccine_name</th>\n",
       "      <th>count_of_vaccinated_patients</th>\n",
       "      <th>mean_length_of_stay</th>\n",
       "    </tr>\n",
       "  </thead>\n",
       "  <tbody>\n",
       "    <tr>\n",
       "      <th>0</th>\n",
       "      <td>Moderna</td>\n",
       "      <td>8</td>\n",
       "      <td>4.60</td>\n",
       "    </tr>\n",
       "    <tr>\n",
       "      <th>1</th>\n",
       "      <td>Pfizer</td>\n",
       "      <td>3</td>\n",
       "      <td>4.25</td>\n",
       "    </tr>\n",
       "  </tbody>\n",
       "</table>\n",
       "</div>"
      ],
      "text/plain": [
       "  vaccine_name  count_of_vaccinated_patients  mean_length_of_stay\n",
       "0      Moderna                             8                 4.60\n",
       "1       Pfizer                             3                 4.25"
      ]
     },
     "execution_count": 8,
     "metadata": {},
     "output_type": "execute_result"
    }
   ],
   "source": [
    "spark.sql(f\"\"\"\n",
    "    select vaccine_name\n",
    "          , count(distinct personId) as count_of_vaccinated_patients\n",
    "          , round(mean(length_of_stay),2) as mean_length_of_stay\n",
    "        from (  \n",
    "          select\n",
    "              h.personId\n",
    "              , length_of_stay\n",
    "              , case \n",
    "                when taken_Moderna_vaccine = 1 then \"Moderna\"\n",
    "                when taken_Pfizer_vaccine = 1 then \"Pfizer\"\n",
    "                when taken_Janssen_vaccine = 1 then \"Janssen\"\n",
    "              end as vaccine_name \n",
    "              , case\n",
    "                when age >= 90 then \"90+\"\n",
    "                when age >= 85 and age < 90 then \"85-89\"\n",
    "                when age >= 80 and age < 85 then \"80-85\"\n",
    "                when age >= 75 and age < 80 then \"75-79\"\n",
    "                when age >= 70 and age < 75 then \"70-74\"\n",
    "                when age >= 65 and age < 70 then \"65-69\"\n",
    "                when age >= 60 and age < 65 then \"60-65\"\n",
    "                when age >= 55 and age < 60 then \"55-59\"\n",
    "                when age >= 50 and age < 55 then \"50-54\"\n",
    "                when age >= 45 and age < 50 then \"45-49\"\n",
    "                when age >= 40 and age < 45 then \"40-45\"\n",
    "                when age >= 35 and age < 40 then \"35-39\"\n",
    "                when age >= 30 and age < 35 then \"30-34\"\n",
    "                when age >= 25 and age < 30 then \"25-29\"\n",
    "                when age >= 20 and age < 25 then \"20-25\"\n",
    "                when age >= 12 and age < 20 then \"12-19\"\n",
    "                when age >= 0 and age < 12 then \"0-12\"\n",
    "                else \"unknown\"\n",
    "                end as age_range\n",
    "              \n",
    "        from {userName}.{algorithmName}_Hospital h\n",
    "          \n",
    "        join {userName}.{algorithmName}_Vaccine_Detail v\n",
    "            on h.personid = v.personId\n",
    "              and h.tenant = v.tenant\n",
    "              and  ( datediff(h.serviceDate, v.vaccine_date) > 0\n",
    "              and     v.vaccine_date is not null) \n",
    "              and ( taken_Moderna_vaccine = 1   \n",
    "                    or taken_Pfizer_vaccine = 1  \n",
    "                    or taken_Janssen_vaccine = 1 )\n",
    "\n",
    "           where    \n",
    "              datediff(h.serviceDate, h.dischargeDate) < 0\n",
    "              and h.length_of_stay > 0\n",
    "              and h.length_of_stay < 2*{stdValue_vac}\n",
    "              \n",
    "              and deceased = 1\n",
    "\n",
    "          ) subquery   \n",
    "          group by 1\n",
    "          order by 1\n",
    "\n",
    "\"\"\").toPandas()"
   ]
  },
  {
   "cell_type": "code",
   "execution_count": null,
   "metadata": {},
   "outputs": [],
   "source": []
  }
 ],
 "metadata": {
  "kernelspec": {
   "display_name": "PySpark",
   "language": "python",
   "name": "pyspark"
  },
  "language_info": {
   "codemirror_mode": {
    "name": "ipython",
    "version": 3
   },
   "file_extension": ".py",
   "mimetype": "text/x-python",
   "name": "python",
   "nbconvert_exporter": "python",
   "pygments_lexer": "ipython3",
   "version": "3.7.6"
  }
 },
 "nbformat": 4,
 "nbformat_minor": 4
}
