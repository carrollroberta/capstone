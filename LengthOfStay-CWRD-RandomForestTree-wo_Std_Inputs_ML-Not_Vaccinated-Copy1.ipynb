{
 "cells": [
  {
   "cell_type": "markdown",
   "metadata": {},
   "source": [
    "# Length Of Stay COVID-19 Patients"
   ]
  },
  {
   "cell_type": "code",
   "execution_count": null,
   "metadata": {},
   "outputs": [],
   "source": []
  },
  {
   "cell_type": "markdown",
   "metadata": {},
   "source": [
    "### documentation:  \n",
    "\n",
    "* forsight: https://pages.github.cerner.com/foresight/foresight/machine_learning.html\n",
    "* spark mllib:  https://spark.apache.org/docs/latest/ml-guide.html\n",
    "* spark sql built-in functions: https://spark.apache.org/docs/latest/api/sql/\n",
    "* spark sql:  https://spark.apache.org/docs/latest/sql-programming-guide.html"
   ]
  },
  {
   "cell_type": "code",
   "execution_count": 1,
   "metadata": {},
   "outputs": [],
   "source": [
    "import pandas as pd\n",
    "import numpy as np"
   ]
  },
  {
   "cell_type": "code",
   "execution_count": 2,
   "metadata": {},
   "outputs": [
    {
     "data": {
      "text/plain": [
       "'application_1636778915296_0241'"
      ]
     },
     "execution_count": 2,
     "metadata": {},
     "output_type": "execute_result"
    }
   ],
   "source": [
    "spark.sparkContext.applicationId"
   ]
  },
  {
   "cell_type": "code",
   "execution_count": 3,
   "metadata": {},
   "outputs": [],
   "source": [
    "pd.options.display.max_columns = 35"
   ]
  },
  {
   "cell_type": "code",
   "execution_count": 4,
   "metadata": {},
   "outputs": [
    {
     "name": "stdout",
     "output_type": "stream",
     "text": [
      "DA0ACEE61E2E43849FC7A58C259D0C50\n",
      "5E259FD575B54D4982D32D4E92DCA831\n"
     ]
    }
   ],
   "source": [
    "from foresight.discern import broadcast_discern, push_discern, pop_discern\n",
    "\n",
    "### care management new default will be 5e259fd5-75b5-4d49-82d3-2d4e92dca831 for any new clients or \n",
    "###  any algorithm wiki not line for line with Cerner Standard then would be using the new context  \n",
    "\n",
    "pd.set_option('display.max_colwidth', None)\n",
    "\n",
    "# Location of the discernontology database\n",
    "root = 's3://consult-datalab-persistence-s3-data/discernontology/v1/'   ##<------------- change it to your stack without the v1/\n",
    "\n",
    "contextid = ['da0acee6-1e2e-4384-9fc7-a58c259d0c50', '5E259FD575B54D4982D32D4E92DCA831'] \n",
    "\n",
    "# Loop that removes all hypthens and captializes all letters. Sets up the file location\n",
    "for contextid in contextid:\n",
    "    contextid = contextid.upper().replace(\"-\", \"\")\n",
    "    push_discern(spark, contextid, discern_root=root)\n",
    "    print(contextid)\n",
    "\n",
    "defaultcontext = 'DA0ACEE61E2E43849FC7A58C259D0C50'   \n",
    "defaultcontext1 = '5E259FD575B54D4982D32D4E92DCA831' "
   ]
  },
  {
   "cell_type": "code",
   "execution_count": 5,
   "metadata": {},
   "outputs": [
    {
     "name": "stdout",
     "output_type": "stream",
     "text": [
      "Using database: real_world_data_2021_Q2,\n"
     ]
    }
   ],
   "source": [
    "db = \"real_world_data_2021_Q2\"\n",
    "spark.sql(\"USE {}\".format(db))\n",
    "print(\"Using database: {},\".format(db))"
   ]
  },
  {
   "cell_type": "markdown",
   "metadata": {},
   "source": [
    "### Create Variables for Queries"
   ]
  },
  {
   "cell_type": "code",
   "execution_count": 6,
   "metadata": {},
   "outputs": [
    {
     "data": {
      "text/html": [
       "<div>\n",
       "<style scoped>\n",
       "    .dataframe tbody tr th:only-of-type {\n",
       "        vertical-align: middle;\n",
       "    }\n",
       "\n",
       "    .dataframe tbody tr th {\n",
       "        vertical-align: top;\n",
       "    }\n",
       "\n",
       "    .dataframe thead th {\n",
       "        text-align: right;\n",
       "    }\n",
       "</style>\n",
       "<table border=\"1\" class=\"dataframe\">\n",
       "  <thead>\n",
       "    <tr style=\"text-align: right;\">\n",
       "      <th></th>\n",
       "      <th>database</th>\n",
       "      <th>tableName</th>\n",
       "      <th>isTemporary</th>\n",
       "    </tr>\n",
       "  </thead>\n",
       "  <tbody>\n",
       "    <tr>\n",
       "      <th>0</th>\n",
       "      <td>real_world_data_2021_q2</td>\n",
       "      <td>allergy</td>\n",
       "      <td>False</td>\n",
       "    </tr>\n",
       "    <tr>\n",
       "      <th>1</th>\n",
       "      <td>real_world_data_2021_q2</td>\n",
       "      <td>clinical_event</td>\n",
       "      <td>False</td>\n",
       "    </tr>\n",
       "    <tr>\n",
       "      <th>2</th>\n",
       "      <td>real_world_data_2021_q2</td>\n",
       "      <td>condition</td>\n",
       "      <td>False</td>\n",
       "    </tr>\n",
       "    <tr>\n",
       "      <th>3</th>\n",
       "      <td>real_world_data_2021_q2</td>\n",
       "      <td>demographics</td>\n",
       "      <td>False</td>\n",
       "    </tr>\n",
       "    <tr>\n",
       "      <th>4</th>\n",
       "      <td>real_world_data_2021_q2</td>\n",
       "      <td>encounter</td>\n",
       "      <td>False</td>\n",
       "    </tr>\n",
       "    <tr>\n",
       "      <th>5</th>\n",
       "      <td>real_world_data_2021_q2</td>\n",
       "      <td>immunization</td>\n",
       "      <td>False</td>\n",
       "    </tr>\n",
       "    <tr>\n",
       "      <th>6</th>\n",
       "      <td>real_world_data_2021_q2</td>\n",
       "      <td>lab</td>\n",
       "      <td>False</td>\n",
       "    </tr>\n",
       "    <tr>\n",
       "      <th>7</th>\n",
       "      <td>real_world_data_2021_q2</td>\n",
       "      <td>measurement</td>\n",
       "      <td>False</td>\n",
       "    </tr>\n",
       "    <tr>\n",
       "      <th>8</th>\n",
       "      <td>real_world_data_2021_q2</td>\n",
       "      <td>medication</td>\n",
       "      <td>False</td>\n",
       "    </tr>\n",
       "    <tr>\n",
       "      <th>9</th>\n",
       "      <td>real_world_data_2021_q2</td>\n",
       "      <td>medication_administration</td>\n",
       "      <td>False</td>\n",
       "    </tr>\n",
       "    <tr>\n",
       "      <th>10</th>\n",
       "      <td>real_world_data_2021_q2</td>\n",
       "      <td>order_list</td>\n",
       "      <td>False</td>\n",
       "    </tr>\n",
       "    <tr>\n",
       "      <th>11</th>\n",
       "      <td>real_world_data_2021_q2</td>\n",
       "      <td>problem_list</td>\n",
       "      <td>False</td>\n",
       "    </tr>\n",
       "    <tr>\n",
       "      <th>12</th>\n",
       "      <td>real_world_data_2021_q2</td>\n",
       "      <td>procedure</td>\n",
       "      <td>False</td>\n",
       "    </tr>\n",
       "    <tr>\n",
       "      <th>13</th>\n",
       "      <td>real_world_data_2021_q2</td>\n",
       "      <td>questionnaire</td>\n",
       "      <td>False</td>\n",
       "    </tr>\n",
       "    <tr>\n",
       "      <th>14</th>\n",
       "      <td>real_world_data_2021_q2</td>\n",
       "      <td>tenant_attributes</td>\n",
       "      <td>False</td>\n",
       "    </tr>\n",
       "  </tbody>\n",
       "</table>\n",
       "</div>"
      ],
      "text/plain": [
       "                   database                  tableName  isTemporary\n",
       "0   real_world_data_2021_q2                    allergy        False\n",
       "1   real_world_data_2021_q2             clinical_event        False\n",
       "2   real_world_data_2021_q2                  condition        False\n",
       "3   real_world_data_2021_q2               demographics        False\n",
       "4   real_world_data_2021_q2                  encounter        False\n",
       "5   real_world_data_2021_q2               immunization        False\n",
       "6   real_world_data_2021_q2                        lab        False\n",
       "7   real_world_data_2021_q2                measurement        False\n",
       "8   real_world_data_2021_q2                 medication        False\n",
       "9   real_world_data_2021_q2  medication_administration        False\n",
       "10  real_world_data_2021_q2                 order_list        False\n",
       "11  real_world_data_2021_q2               problem_list        False\n",
       "12  real_world_data_2021_q2                  procedure        False\n",
       "13  real_world_data_2021_q2              questionnaire        False\n",
       "14  real_world_data_2021_q2          tenant_attributes        False"
      ]
     },
     "execution_count": 6,
     "metadata": {},
     "output_type": "execute_result"
    }
   ],
   "source": [
    "spark.sql('show tables').toPandas()"
   ]
  },
  {
   "cell_type": "code",
   "execution_count": 7,
   "metadata": {},
   "outputs": [
    {
     "name": "stdout",
     "output_type": "stream",
     "text": [
      "365\n",
      "365\n",
      "365\n",
      "user_rc047407\n",
      "CoronavirusLengthOfStay_HighLevel\n"
     ]
    }
   ],
   "source": [
    "# Look back days variables\n",
    "daysInterval = 365\n",
    "print(daysInterval)\n",
    "maxDays = 365\n",
    "print(maxDays)\n",
    "oneYearInterval=365\n",
    "print(oneYearInterval)\n",
    "\n",
    "# Username variable\n",
    "user_id = 'rc047407'           ####<-------------------- change to your user id (Ex: tl068507)\n",
    "userName = 'user_' + user_id\n",
    "print(userName)\n",
    "\n",
    "# Algorithm name variable\n",
    "algorithmName='CoronavirusLengthOfStay_HighLevel'\n",
    "print(algorithmName)"
   ]
  },
  {
   "cell_type": "code",
   "execution_count": 8,
   "metadata": {},
   "outputs": [
    {
     "name": "stdout",
     "output_type": "stream",
     "text": [
      "++\n",
      "||\n",
      "++\n",
      "++\n",
      "\n"
     ]
    }
   ],
   "source": [
    "spark.sql(\"\"\"CREATE SCHEMA IF NOT EXISTS {userName}\"\"\".format(**{\n",
    "    'userName':userName\n",
    "})).show()"
   ]
  },
  {
   "cell_type": "markdown",
   "metadata": {},
   "source": [
    "## Create DataFrame"
   ]
  },
  {
   "cell_type": "code",
   "execution_count": 9,
   "metadata": {},
   "outputs": [],
   "source": [
    "sparkDF = spark.sql(f\"\"\"\n",
    "  select * from {userName}.{algorithmName}_Final_NonVac\n",
    "  order by 1\n",
    "\"\"\")"
   ]
  },
  {
   "cell_type": "code",
   "execution_count": 10,
   "metadata": {},
   "outputs": [],
   "source": [
    "inputs_and_truth = sparkDF"
   ]
  },
  {
   "cell_type": "markdown",
   "metadata": {},
   "source": [
    "## Model Inputs"
   ]
  },
  {
   "cell_type": "markdown",
   "metadata": {},
   "source": [
    "At this point we now have all input features and ground truth computed for the model to consume for training and then validation."
   ]
  },
  {
   "cell_type": "code",
   "execution_count": 11,
   "metadata": {},
   "outputs": [
    {
     "name": "stdout",
     "output_type": "stream",
     "text": [
      "CPU times: user 1.99 ms, sys: 1.18 ms, total: 3.17 ms\n",
      "Wall time: 25 s\n"
     ]
    },
    {
     "data": {
      "text/plain": [
       "510347"
      ]
     },
     "execution_count": 11,
     "metadata": {},
     "output_type": "execute_result"
    }
   ],
   "source": [
    "%%time\n",
    "\n",
    "inputs_and_truth.count()"
   ]
  },
  {
   "cell_type": "code",
   "execution_count": 12,
   "metadata": {},
   "outputs": [
    {
     "name": "stdout",
     "output_type": "stream",
     "text": [
      "CPU times: user 197 ms, sys: 11.3 ms, total: 208 ms\n",
      "Wall time: 7.13 s\n"
     ]
    },
    {
     "data": {
      "text/html": [
       "<div>\n",
       "<style scoped>\n",
       "    .dataframe tbody tr th:only-of-type {\n",
       "        vertical-align: middle;\n",
       "    }\n",
       "\n",
       "    .dataframe tbody tr th {\n",
       "        vertical-align: top;\n",
       "    }\n",
       "\n",
       "    .dataframe thead th {\n",
       "        text-align: right;\n",
       "    }\n",
       "</style>\n",
       "<table border=\"1\" class=\"dataframe\">\n",
       "  <thead>\n",
       "    <tr style=\"text-align: right;\">\n",
       "      <th></th>\n",
       "      <th>length_of_stay</th>\n",
       "      <th>bed_size_index</th>\n",
       "      <th>discharge_to_index</th>\n",
       "      <th>age_range</th>\n",
       "      <th>tenant_zip_code</th>\n",
       "      <th>zip_code</th>\n",
       "      <th>deceased</th>\n",
       "      <th>discharged_to_skilled_nursing_facility</th>\n",
       "      <th>discharged_to_hospice</th>\n",
       "      <th>died_in_the_hospital</th>\n",
       "      <th>discharged_to_rehab_facility</th>\n",
       "      <th>discharged_to_long_term_care_facility</th>\n",
       "      <th>intensive_care_visit</th>\n",
       "      <th>intensive_care_medical_service</th>\n",
       "      <th>palliative_care_visit</th>\n",
       "      <th>palliative_care_medical_service</th>\n",
       "      <th>hospice_care_visit</th>\n",
       "      <th>...</th>\n",
       "      <th>taken_albuterol_90_mcg_inh_inhalation_aerosol_drugcode</th>\n",
       "      <th>taken_sodium_chloride_drugcode</th>\n",
       "      <th>taken_protonix_drugcode</th>\n",
       "      <th>taken_insulin_glargine_drugcode</th>\n",
       "      <th>taken_sodium_bicarbonate_drugcode</th>\n",
       "      <th>taken_oxycodone_drugcode</th>\n",
       "      <th>taken_zinc_sulfate_drugcode</th>\n",
       "      <th>taken_famotidine_drugcode</th>\n",
       "      <th>taken_amiodarone_drugcode</th>\n",
       "      <th>taken_sodium_chloride_09percent_injectable_solution_drugcode</th>\n",
       "      <th>taken_doxycycline_drugcode</th>\n",
       "      <th>taken_miralax_drugcode</th>\n",
       "      <th>taken_amlodipine_drugcode</th>\n",
       "      <th>taken_vitamin_c_drugcode</th>\n",
       "      <th>taken_dextrose_drugcode</th>\n",
       "      <th>taken_bamlanivimab_drugcode</th>\n",
       "      <th>taken_fluvoxamine_drugcode</th>\n",
       "    </tr>\n",
       "  </thead>\n",
       "  <tbody>\n",
       "    <tr>\n",
       "      <th>0</th>\n",
       "      <td>1</td>\n",
       "      <td>4</td>\n",
       "      <td>2</td>\n",
       "      <td>85</td>\n",
       "      <td>3</td>\n",
       "      <td>3</td>\n",
       "      <td>1</td>\n",
       "      <td>0</td>\n",
       "      <td>1</td>\n",
       "      <td>0</td>\n",
       "      <td>0</td>\n",
       "      <td>0</td>\n",
       "      <td>0</td>\n",
       "      <td>0</td>\n",
       "      <td>0</td>\n",
       "      <td>0</td>\n",
       "      <td>0</td>\n",
       "      <td>...</td>\n",
       "      <td>0</td>\n",
       "      <td>0</td>\n",
       "      <td>0</td>\n",
       "      <td>0</td>\n",
       "      <td>0</td>\n",
       "      <td>0</td>\n",
       "      <td>0</td>\n",
       "      <td>0</td>\n",
       "      <td>0</td>\n",
       "      <td>0</td>\n",
       "      <td>0</td>\n",
       "      <td>0</td>\n",
       "      <td>0</td>\n",
       "      <td>0</td>\n",
       "      <td>0</td>\n",
       "      <td>0</td>\n",
       "      <td>0</td>\n",
       "    </tr>\n",
       "    <tr>\n",
       "      <th>1</th>\n",
       "      <td>1</td>\n",
       "      <td>4</td>\n",
       "      <td>2</td>\n",
       "      <td>85</td>\n",
       "      <td>3</td>\n",
       "      <td>3</td>\n",
       "      <td>1</td>\n",
       "      <td>0</td>\n",
       "      <td>1</td>\n",
       "      <td>0</td>\n",
       "      <td>0</td>\n",
       "      <td>0</td>\n",
       "      <td>0</td>\n",
       "      <td>0</td>\n",
       "      <td>0</td>\n",
       "      <td>0</td>\n",
       "      <td>0</td>\n",
       "      <td>...</td>\n",
       "      <td>0</td>\n",
       "      <td>0</td>\n",
       "      <td>0</td>\n",
       "      <td>0</td>\n",
       "      <td>0</td>\n",
       "      <td>0</td>\n",
       "      <td>0</td>\n",
       "      <td>0</td>\n",
       "      <td>0</td>\n",
       "      <td>0</td>\n",
       "      <td>0</td>\n",
       "      <td>0</td>\n",
       "      <td>0</td>\n",
       "      <td>0</td>\n",
       "      <td>0</td>\n",
       "      <td>0</td>\n",
       "      <td>0</td>\n",
       "    </tr>\n",
       "    <tr>\n",
       "      <th>2</th>\n",
       "      <td>1</td>\n",
       "      <td>4</td>\n",
       "      <td>2</td>\n",
       "      <td>85</td>\n",
       "      <td>3</td>\n",
       "      <td>3</td>\n",
       "      <td>1</td>\n",
       "      <td>0</td>\n",
       "      <td>1</td>\n",
       "      <td>0</td>\n",
       "      <td>0</td>\n",
       "      <td>0</td>\n",
       "      <td>0</td>\n",
       "      <td>0</td>\n",
       "      <td>0</td>\n",
       "      <td>0</td>\n",
       "      <td>0</td>\n",
       "      <td>...</td>\n",
       "      <td>0</td>\n",
       "      <td>0</td>\n",
       "      <td>0</td>\n",
       "      <td>0</td>\n",
       "      <td>0</td>\n",
       "      <td>0</td>\n",
       "      <td>0</td>\n",
       "      <td>0</td>\n",
       "      <td>0</td>\n",
       "      <td>0</td>\n",
       "      <td>0</td>\n",
       "      <td>0</td>\n",
       "      <td>0</td>\n",
       "      <td>0</td>\n",
       "      <td>0</td>\n",
       "      <td>0</td>\n",
       "      <td>0</td>\n",
       "    </tr>\n",
       "    <tr>\n",
       "      <th>3</th>\n",
       "      <td>1</td>\n",
       "      <td>4</td>\n",
       "      <td>2</td>\n",
       "      <td>85</td>\n",
       "      <td>3</td>\n",
       "      <td>3</td>\n",
       "      <td>1</td>\n",
       "      <td>0</td>\n",
       "      <td>1</td>\n",
       "      <td>0</td>\n",
       "      <td>0</td>\n",
       "      <td>0</td>\n",
       "      <td>0</td>\n",
       "      <td>0</td>\n",
       "      <td>0</td>\n",
       "      <td>0</td>\n",
       "      <td>0</td>\n",
       "      <td>...</td>\n",
       "      <td>0</td>\n",
       "      <td>0</td>\n",
       "      <td>0</td>\n",
       "      <td>0</td>\n",
       "      <td>0</td>\n",
       "      <td>0</td>\n",
       "      <td>0</td>\n",
       "      <td>0</td>\n",
       "      <td>0</td>\n",
       "      <td>0</td>\n",
       "      <td>0</td>\n",
       "      <td>0</td>\n",
       "      <td>0</td>\n",
       "      <td>0</td>\n",
       "      <td>0</td>\n",
       "      <td>0</td>\n",
       "      <td>0</td>\n",
       "    </tr>\n",
       "    <tr>\n",
       "      <th>4</th>\n",
       "      <td>1</td>\n",
       "      <td>4</td>\n",
       "      <td>2</td>\n",
       "      <td>85</td>\n",
       "      <td>3</td>\n",
       "      <td>3</td>\n",
       "      <td>1</td>\n",
       "      <td>0</td>\n",
       "      <td>1</td>\n",
       "      <td>0</td>\n",
       "      <td>0</td>\n",
       "      <td>0</td>\n",
       "      <td>0</td>\n",
       "      <td>0</td>\n",
       "      <td>0</td>\n",
       "      <td>0</td>\n",
       "      <td>0</td>\n",
       "      <td>...</td>\n",
       "      <td>0</td>\n",
       "      <td>0</td>\n",
       "      <td>0</td>\n",
       "      <td>0</td>\n",
       "      <td>0</td>\n",
       "      <td>0</td>\n",
       "      <td>0</td>\n",
       "      <td>0</td>\n",
       "      <td>0</td>\n",
       "      <td>0</td>\n",
       "      <td>0</td>\n",
       "      <td>0</td>\n",
       "      <td>0</td>\n",
       "      <td>0</td>\n",
       "      <td>0</td>\n",
       "      <td>0</td>\n",
       "      <td>0</td>\n",
       "    </tr>\n",
       "  </tbody>\n",
       "</table>\n",
       "<p>5 rows × 413 columns</p>\n",
       "</div>"
      ],
      "text/plain": [
       "   length_of_stay  bed_size_index  discharge_to_index  age_range  \\\n",
       "0               1               4                   2         85   \n",
       "1               1               4                   2         85   \n",
       "2               1               4                   2         85   \n",
       "3               1               4                   2         85   \n",
       "4               1               4                   2         85   \n",
       "\n",
       "  tenant_zip_code zip_code  deceased  discharged_to_skilled_nursing_facility  \\\n",
       "0               3        3         1                                       0   \n",
       "1               3        3         1                                       0   \n",
       "2               3        3         1                                       0   \n",
       "3               3        3         1                                       0   \n",
       "4               3        3         1                                       0   \n",
       "\n",
       "   discharged_to_hospice  died_in_the_hospital  discharged_to_rehab_facility  \\\n",
       "0                      1                     0                             0   \n",
       "1                      1                     0                             0   \n",
       "2                      1                     0                             0   \n",
       "3                      1                     0                             0   \n",
       "4                      1                     0                             0   \n",
       "\n",
       "   discharged_to_long_term_care_facility  intensive_care_visit  \\\n",
       "0                                      0                     0   \n",
       "1                                      0                     0   \n",
       "2                                      0                     0   \n",
       "3                                      0                     0   \n",
       "4                                      0                     0   \n",
       "\n",
       "   intensive_care_medical_service  palliative_care_visit  \\\n",
       "0                               0                      0   \n",
       "1                               0                      0   \n",
       "2                               0                      0   \n",
       "3                               0                      0   \n",
       "4                               0                      0   \n",
       "\n",
       "   palliative_care_medical_service  hospice_care_visit  ...  \\\n",
       "0                                0                   0  ...   \n",
       "1                                0                   0  ...   \n",
       "2                                0                   0  ...   \n",
       "3                                0                   0  ...   \n",
       "4                                0                   0  ...   \n",
       "\n",
       "   taken_albuterol_90_mcg_inh_inhalation_aerosol_drugcode  \\\n",
       "0                                                       0   \n",
       "1                                                       0   \n",
       "2                                                       0   \n",
       "3                                                       0   \n",
       "4                                                       0   \n",
       "\n",
       "   taken_sodium_chloride_drugcode  taken_protonix_drugcode  \\\n",
       "0                               0                        0   \n",
       "1                               0                        0   \n",
       "2                               0                        0   \n",
       "3                               0                        0   \n",
       "4                               0                        0   \n",
       "\n",
       "   taken_insulin_glargine_drugcode  taken_sodium_bicarbonate_drugcode  \\\n",
       "0                                0                                  0   \n",
       "1                                0                                  0   \n",
       "2                                0                                  0   \n",
       "3                                0                                  0   \n",
       "4                                0                                  0   \n",
       "\n",
       "   taken_oxycodone_drugcode  taken_zinc_sulfate_drugcode  \\\n",
       "0                         0                            0   \n",
       "1                         0                            0   \n",
       "2                         0                            0   \n",
       "3                         0                            0   \n",
       "4                         0                            0   \n",
       "\n",
       "   taken_famotidine_drugcode  taken_amiodarone_drugcode  \\\n",
       "0                          0                          0   \n",
       "1                          0                          0   \n",
       "2                          0                          0   \n",
       "3                          0                          0   \n",
       "4                          0                          0   \n",
       "\n",
       "   taken_sodium_chloride_09percent_injectable_solution_drugcode  \\\n",
       "0                                                             0   \n",
       "1                                                             0   \n",
       "2                                                             0   \n",
       "3                                                             0   \n",
       "4                                                             0   \n",
       "\n",
       "   taken_doxycycline_drugcode  taken_miralax_drugcode  \\\n",
       "0                           0                       0   \n",
       "1                           0                       0   \n",
       "2                           0                       0   \n",
       "3                           0                       0   \n",
       "4                           0                       0   \n",
       "\n",
       "   taken_amlodipine_drugcode  taken_vitamin_c_drugcode  \\\n",
       "0                          0                         0   \n",
       "1                          0                         0   \n",
       "2                          0                         0   \n",
       "3                          0                         0   \n",
       "4                          0                         0   \n",
       "\n",
       "   taken_dextrose_drugcode  taken_bamlanivimab_drugcode  \\\n",
       "0                        0                            0   \n",
       "1                        0                            0   \n",
       "2                        0                            0   \n",
       "3                        0                            0   \n",
       "4                        0                            0   \n",
       "\n",
       "   taken_fluvoxamine_drugcode  \n",
       "0                           0  \n",
       "1                           0  \n",
       "2                           0  \n",
       "3                           0  \n",
       "4                           0  \n",
       "\n",
       "[5 rows x 413 columns]"
      ]
     },
     "execution_count": 12,
     "metadata": {},
     "output_type": "execute_result"
    }
   ],
   "source": [
    "%%time\n",
    "\n",
    "inputs_and_truth.limit(5).toPandas()"
   ]
  },
  {
   "cell_type": "markdown",
   "metadata": {},
   "source": [
    "# Train Model"
   ]
  },
  {
   "cell_type": "code",
   "execution_count": 13,
   "metadata": {},
   "outputs": [],
   "source": [
    "# from pyspark.ml.feature import StringIndexer\n",
    "\n",
    "# df=inputs_and_truth\n",
    "\n",
    "# indexer = StringIndexer(inputCol=\"tenant_bed_size\", outputCol=\"tenant_bed_sizeIndex\")\n",
    "# df = indexer.fit(df).transform(df)\n",
    "# indexer = StringIndexer(inputCol=\"tenant_speciality\", outputCol=\"tenant_specialityIndex\")\n",
    "# df = indexer.fit(df).transform(df)\n",
    "# indexer = StringIndexer(inputCol=\"tenant_segment\", outputCol=\"tenant_segmentIndex\")\n",
    "# df = indexer.fit(df).transform(df)\n",
    "# indexer = StringIndexer(inputCol=\"tenant_zip_code\", outputCol=\"tenant_zip_codeIndex\")\n",
    "# df = indexer.fit(df).transform(df)\n",
    "# indexer = StringIndexer(inputCol=\"zip_code\", outputCol=\"zip_codeIndex\")\n",
    "# df = indexer.fit(df).transform(df)\n",
    "# indexer = StringIndexer(inputCol=\"gender\", outputCol=\"genderIndex\")\n",
    "# df = indexer.fit(df).transform(df)\n",
    "\n",
    "# df.show()"
   ]
  },
  {
   "cell_type": "code",
   "execution_count": 14,
   "metadata": {},
   "outputs": [],
   "source": [
    "#df = df.toPandas()"
   ]
  },
  {
   "cell_type": "code",
   "execution_count": 15,
   "metadata": {},
   "outputs": [],
   "source": [
    "df = inputs_and_truth.limit(5).toPandas()"
   ]
  },
  {
   "cell_type": "markdown",
   "metadata": {},
   "source": [
    "### get a list of features and do not include the independent variable and empiPersonId"
   ]
  },
  {
   "cell_type": "code",
   "execution_count": 16,
   "metadata": {},
   "outputs": [
    {
     "name": "stdout",
     "output_type": "stream",
     "text": [
      "['discharge_to_index', 'age_range', 'intensive_care_visit', 'intensive_care_medical_service', 'palliative_care_visit', 'palliative_care_medical_service', 'hospice_care_visit', 'hospice_care_medical_service', 'gender_index', 'vaccinated', 'taken_Moderna_vaccine', 'taken_Pfizer_vaccine', 'taken_Janssen_vaccine', 'taken_Unspecified_vaccine', 'taken_Non_US_vaccine', 'taken_single_dose', 'taken_multiple_doses', 'has_ABDOMINAL_PAIN_CLIN', 'has_ACUTE_RESPIRATORY_FAILURE_CLIN', 'has_ADVANCED_ILLNESS_CLIN', 'has_ALCOHOL_ABUSE_OR_DEPENDENCE_CLIN', 'has_ANEMIA_CLIN', 'has_ANXIETY_CLIN', 'has_AORTIC_STENOSIS_CLIN', 'has_ARRHYTHMIA_CLIN', 'has_ASTHMA_CLIN', 'has_ATHEROSCLEROSIS_CLIN', 'has_ATRIAL_FIBRILLATION_CLIN', 'has_ATRIAL_FLUTTER_CLIN', 'has_BACTERIAL_INFECTION_OTHER_CLIN', 'has_BED_BOUND_CLIN', 'has_BENIGN_PROSTATIC_HYPERPLASIA_CLIN', 'has_BIPOLAR_DISORDER_CLIN', 'has_BMI_ABOVE_NORMAL_ADULT_CLIN', 'has_BMI_ABOVE_NORMAL_SENIOR_ADULT_CLIN', 'has_BMI_BELOW_NORMAL_ADULT_CLIN', 'has_BMI_BELOW_NORMAL_SENIOR_ADULT_CLIN', 'has_BODY_MASS_INDEX_BMI_GREATER_THAN_OR_EQUAL_TO_30_AND_LESS_THAN_35_CLIN', 'has_BODY_MASS_INDEX_BMI_GREATER_THAN_OR_EQUAL_TO_35_AND_LESS_THAN_40_CLIN', 'has_BODY_MASS_INDEX_BMI_GREATER_THAN_OR_EQUAL_TO_40_CLIN', 'has_BRADYARRHYTHMIA_CLIN', 'has_CARDIOMYOPATHY_CLIN', 'has_CARDIOVASCULAR_DEVICES_CLIN', 'has_CEREBROVASCULAR_ACCIDENT_CLIN', 'has_CESAREAN_DELIVERY_CLIN', 'has_CHEST_PAIN_CLIN', 'has_CHEST_XRAY_CLIN', 'has_CHRONIC_AIRWAY_OBSTRUCTION_CLIN', 'has_CHRONIC_KIDNEY_DISEASE_CLIN', 'has_CHRONIC_KIDNEY_DISEASE_STAGE_3_CLIN', 'has_CHRONIC_KIDNEY_DISEASE_STAGE_4_CLIN', 'has_CHRONIC_KIDNEY_DISEASE_STAGE_5_CLIN', 'has_CHRONIC_LIVER_DISEASE_AND_CIRRHOSIS_CLIN', 'has_CHRONIC_OBSTRUCTIVE_PULMONARY_DISEASE_CLIN', 'has_CHRONIC_PAIN_CLIN', 'has_CHRONIC_RESPIRATORY_FAILURE_CLIN', 'has_CKD_STAGE_3_4_OR_5_CLIN', 'has_COGNITIVE_IMPAIRMENT_CLIN', 'has_CONDUCTION_DISORDER_CLIN', 'has_CONGESTIVE_HEART_FAILURE_CLIN', 'has_CONSTIPATION_CLIN', 'has_CORONARY_ARTERY_DISEASE_CLIN', 'has_CORONAVIRUS_COVID_19_EXPOSURE_TO_CLIN', 'has_CORTICOSTEROID_ADVERSE_REACTION_CLIN', 'has_CORTICOSTEROID_LONG_TERM_USE_CLIN', 'has_COUGH_CLIN', 'has_CURRENT_PREGNANCY_NOT_DELIVERED_CLIN', 'has_DEMENTIA_CLIN', 'has_DEVICE_CLIN', 'has_DIABETES_MELLITUS_TYPE_2_CLIN', 'has_DIABETIC_KETOACIDOSIS_CLIN', 'has_DIABETIC_NEPHROPATHY_CLIN', 'has_DIAPHRAGM_AND_ABDOMINAL_WALL_CLIN', 'has_DIARRHEA_CLIN', 'has_DIZZINESS_CLIN', 'has_DYSRHYTHMIA_CLIN', 'has_ECG_CLIN', 'has_EMPHYSEMA_CLIN', 'has_ENCEPHALOPATHY_CLIN', 'has_ENCEPHALOPATHY_UNSPECIFIED_CLIN', 'has_END_STAGE_RENAL_DISEASE_CLIN', 'has_ENDOCARDIUM_DISEASE_CLIN', 'has_ENDOCRINE_DISORDER_CLIN', 'has_FALL_CLIN', 'has_FALL_RISK_CLIN', 'has_FAMILY_HISTORY_OF_DIABETES_MELLITUS_CLIN', 'has_FATIGUE_CLIN', 'has_FEVER_CLIN', 'has_FLUID_OVERLOAD_CLIN', 'has_GASTROENTERITIS_CLIN', 'has_GASTROINTESTINAL_DEVICES_CLIN', 'has_GENERALIZED_ANXIETY_DISORDER_CLIN', 'has_HEADACHE_CLIN', 'has_HEART_FAILURE_CLIN', 'has_HEMATOCHEZIA_CLIN', 'has_HOMELESS_CLIN', 'has_HYPERCHOLESTEROLEMIA_CLIN', 'has_HYPERGLYCEMIA_CLIN', 'has_HYPERLIPIDEMIA_CLIN', 'has_HYPERTENSION_CLIN', 'has_HYPERTENSIVE_CHRONIC_RENAL_DISEASE_CLIN', 'has_HYPOGLYCEMIA_CLIN', 'has_HYPOTENSION_CLIN', 'has_HYSTERECTOMY_NO_CERVIX_CLIN', 'has_INSOMNIA_CLIN', 'has_IVD_CLIN', 'has_LIPID_METABOLISM_CLIN', 'has_LIVE_BIRTH_CLIN', 'has_LIVER_CIRRHOSIS_CLIN', 'has_LIVER_DISEASE_CLIN', 'has_LONG_TERM_OXYGEN_THERAPY_CLIN', 'has_LOW_BACK_PAIN_CLIN', 'has_MAJOR_DEPRESSIVE_DISORDER_CLIN', 'has_MORBID_OBESITY_CLIN', 'has_MOVEMENT_DISEASE_CLIN', 'has_MYOCARDIAL_INFARCTION_CLIN', 'has_NAUSEA_CLIN', 'has_NON_AMBULATORY_CLIN', 'has_OBESITY_CLIN', 'has_OBSTRUCTIVE_SLEEP_APNEA_CLIN', 'has_OSTEOPOROSIS_CLIN', 'has_OTHER_GASTROINTESTINAL_CLIN', 'has_PLEURISY_CLIN', 'has_PNEUMONIA_CLIN', 'has_PNEUMONIA_NON_VIRAL_CLIN', 'has_PREDIABETES_CLIN', 'has_PREGNANCY_CLIN', 'has_PSYCHOTIC_DISORDER_CLIN', 'has_PULMONARY_EMBOLISM_CLIN', 'has_PULMONARY_HYPERTENSION_CLIN', 'has_RENAL_DIALYSIS_CLIN', 'has_RENAL_FAILURE_ACUTE_CLIN', 'has_RENAL_FAILURE_CHRONIC_CLIN', 'has_RESPIRATORY_DEVICES_CLIN', 'has_RESPIRATORY_DISEASE_SPECIFIED_OTHER_CLIN', 'has_RESPIRATORY_DISTRESS_CLIN', 'has_RHABDOMYOLYSIS_CLIN', 'has_RHEUMATOID_ARTHRITIS_CLIN', 'has_SCHIZOPHRENIA_CLIN', 'has_SCHIZOPHRENIA_OR_PSYCHOTIC_DISORDER_CLIN', 'has_SEIZURE_CLIN', 'has_SHORTNESS_OF_BREATH_CLIN', 'has_SMOKELESS_TOBACCO_USER_CLIN', 'has_SUBSTANCE_ABUSE_CLIN', 'has_SUICIDAL_IDEATION_CLIN', 'has_TOBACCO_USER_CLIN', 'has_UPPER_RESPIRATORY_INFECTION_ACUTE_CLIN', 'has_URINARY_INCONTINENCE_CLIN', 'has_URINARY_TRACT_INFECTION_CLIN', 'has_VAGINAL_DELIVERY_CLIN', 'has_VERTIGO_CLIN', 'has_VITAMIN_D_DEFICIENCY_CLIN', 'has_VOMITING_CLIN', 'has_WHEELCHAIR_BOUND_CLIN', 'has_CCS_CATEGORY_101_CORONARY_ATHEROSCLEROSIS_HEART_DISEASE_CLIN', 'has_CCS_CATEGORY_103_PULMONARY_HEART_DISEASE_CLIN', 'has_CCS_CATEGORY_104_OTHER_AND_ILL_DEFINED_HEART_DISEASE_CLIN', 'has_CCS_CATEGORY_105_CONDUCTION_DISORDERS_CLIN', 'has_CCS_CATEGORY_106_CARDIAC_DYSRHYTHMIAS_CLIN', 'has_CCS_CATEGORY_108_CONGESTIVE_HEART_FAILURE_NONHYPERTENSIVE_CLIN', 'has_CCS_CATEGORY_109_ACUTE_CEREBROVASCULAR_DISEASE_CLIN', 'has_CCS_CATEGORY_11_CANCER_OF_HEAD_AND_NECK_CLIN', 'has_CCS_CATEGORY_112_TRANSIENT_CEREBRAL_ISCHEMIA_CLIN', 'has_CCS_CATEGORY_113_LATE_EFFECTS_OF_CEREBROVASCULAR_DISEASE_CLIN', 'has_CCS_CATEGORY_114_PERIPHERAL_AND_VISCERAL_ATHEROSCLEROSIS_CLIN', 'has_CCS_CATEGORY_115_AORTIC_PERIPHERAL_VISCERAL_ARTERY_ANEURYSMS_CLIN', 'has_CCS_CATEGORY_117_OTHER_CIRCULATORY_DISEASE_CLIN', 'has_CCS_CATEGORY_12_CANCER_OF_ESOPHAGUS_CLIN', 'has_CCS_CATEGORY_121_OTHER_DISEASES_VEINS_LYMPHATICS_CLIN', 'has_CCS_CATEGORY_122_PNEUMONIA_EXCEPT_TB_OR_STD_CLIN', 'has_CCS_CATEGORY_127_COPD_BRONCHIECTASIS_CLIN', 'has_CCS_CATEGORY_128_ASTHMA_CLIN', 'has_CCS_CATEGORY_129_ASPIRATION_PNEUMONITIS_FOOD_VOMITUS_CLIN', 'has_CCS_CATEGORY_13_CANCER_OF_STOMACH_CLIN', 'has_CCS_CATEGORY_139_GASTRODUODENAL_ULCER_EXCEPT_HEMORRHAGE_CLIN', 'has_CCS_CATEGORY_14_CANCER_OF_COLON_CLIN', 'has_CCS_CATEGORY_15_CANCER_OF_RECTUM_AND_ANUS_CLIN', 'has_CCS_CATEGORY_151_OTHER_LIVER_DISEASES_CLIN', 'has_CCS_CATEGORY_156_NEPHRITIS_NEPHROSIS_RENAL_SCLEROSIS_CLIN', 'has_CCS_CATEGORY_157_ACUTE_UNSPECIFIED_RENAL_FAILURE_CLIN', 'has_CCS_CATEGORY_158_CHRONIC_KIDNEY_DISEASE_CLIN', 'has_CCS_CATEGORY_16_CANCER_OF_LIVER_AND_INTRAHEPATIC_BILE_DUCT_CLIN', 'has_CCS_CATEGORY_17_CANCER_OF_PANCREAS_CLIN', 'has_CCS_CATEGORY_18_CANCER_OF_OTHER_GI_ORGANS_PERITONEUM_CLIN', 'has_CCS_CATEGORY_19_CANCER_OF_BRONCHUS_LUNG_CLIN', 'has_CCS_CATEGORY_2_SEPTICEMIA_EXECPT_IN_LABOR_CLIN', 'has_CCS_CATEGORY_20_CANCER_OTHER_RESPIRATORY_AND_INTRATHORACIC_CLIN', 'has_CCS_CATEGORY_207_PATHOLOGICAL_FRACTURE_CLIN', 'has_CCS_CATEGORY_21_CANCER_OF_BONE_AND_CONNECTIVE_TISSUE_CLIN', 'has_CCS_CATEGORY_210_LUPUS_AND_CONNECTIVE_TISSUE_DISORDERS_CLIN', 'has_CCS_CATEGORY_211_OTHER_CONNECTIVE_TISSUE_DISEASE_CLIN', 'has_CCS_CATEGORY_213_CARDIAC_CIRCULATORY_CONGENITAL_ANOMALIES_CLIN', 'has_CCS_CATEGORY_22_MELANOMAS_OF_SKIN_CLIN', 'has_CCS_CATEGORY_226_FRACTURE_NECK_OF_FEMUR_HIP_CLIN', 'has_CCS_CATEGORY_23_OTHER_NON_EPITHELIAL_CANCER_OF_SKIN_CLIN', 'has_CCS_CATEGORY_230_FRACTURE_OF_LOWER_LIMB_CLIN', 'has_CCS_CATEGORY_237_DEVICE_COMPLICATION_IMPLANT_OR_GRAFT_CLIN', 'has_CCS_CATEGORY_238_COMPLICATIONS_SURGICAL_PROC_OR_MEDICAL_CARE_CLIN', 'has_CCS_CATEGORY_24_CANCER_OF_BREAST_CLIN', 'has_CCS_CATEGORY_242_POISONING_BY_OTHER_MEDICATIONS_AND_DRUGS_CLIN', 'has_CCS_CATEGORY_244_OTHER_INJURIES_AND_CONDITIONS_DUE_TO_EXTERNAL_CAUSES_CLIN', 'has_CCS_CATEGORY_245_SYNCOPE_CLIN', 'has_CCS_CATEGORY_25_CANCER_OF_UTERUS_CLIN', 'has_CCS_CATEGORY_253_ALLERGIC_REACTIONS_CLIN', 'has_CCS_CATEGORY_258_OTHER_SCREENING_FOR_SUSPECTED_CONDITIONS_CLIN', 'has_CCS_CATEGORY_259_RESIDUAL_CODES_UNCLASSIFIED_CLIN', 'has_CCS_CATEGORY_26_CANCER_OF_CERVIX_CLIN', 'has_CCS_CATEGORY_27_CANCER_OF_OVARY_CLIN', 'has_CCS_CATEGORY_28_CANCER_OTHER_FEMALE_GENITAL_ORGANS_CLIN', 'has_CCS_CATEGORY_29_CANCER_OF_PROSTATE_CLIN', 'has_CCS_CATEGORY_30_CANCER_OF_TESTIS_CLIN', 'has_CCS_CATEGORY_31_CANCER_OTHER_MALE_GENITAL_ORGANS_CLIN', 'has_CCS_CATEGORY_32_CANCER_OF_BLADDER_CLIN', 'has_CCS_CATEGORY_33_CANCER_KIDNEY_AND_RENAL_PELVIS_CLIN', 'has_CCS_CATEGORY_34_CANCER_OTHER_URINARY_ORGANS_CLIN', 'has_CCS_CATEGORY_35_CANCER_BRAIN_NERVOUS_SYSTEM_CLIN', 'has_CCS_CATEGORY_36_CANCER_OF_THYROID_CLIN', 'has_CCS_CATEGORY_37_HODGKINS_DISEASE_CLIN', 'has_CCS_CATEGORY_38_NON_HODGKINS_LYMPHOMA_CLIN', 'has_CCS_CATEGORY_39_LEUKEMIAS_CLIN', 'has_CCS_CATEGORY_40_MULTIPLE_MYELOMA_CLIN', 'has_CCS_CATEGORY_41_CANCER_OTHER_AND_UNSPECIFIED_PRIMARY_CLIN', 'has_CCS_CATEGORY_42_SECONDARY_MALIGNANCIES_CLIN', 'has_CCS_CATEGORY_43_MALIGNANT_NEOPLASM_WITHOUT_SPECIFICATION_OF_SITE_CLIN', 'has_CCS_CATEGORY_49_DIABETES_MELLITUS_WITHOUT_COMPLICATION_CLIN', 'has_CCS_CATEGORY_5_HIV_INFECTION_CLIN', 'has_CCS_CATEGORY_50_DIABETES_MELLITUS_WITH_COMPLICATIONS_CLIN', 'has_CCS_CATEGORY_52_NUTRITIONAL_DEFICIENCIES_CLIN', 'has_CCS_CATEGORY_55_FLUID_AND_ELECTROLYTE_DISORDERS_CLIN', 'has_CCS_CATEGORY_58_NUTRITIONAL_ENDOCRINE_METABOLIC_DISORDERS_CLIN', 'has_CCS_CATEGORY_6_HEPATITIS_CLIN', 'has_CCS_CATEGORY_62_COAGULATION_HEMORRHAGIC_DISORDERS_CLIN', 'has_CCS_CATEGORY_64_OTHER_HEMATOLOGIC_CONDITIONS_CLIN', 'has_CCS_CATEGORY_659_SCHIZOPHRENIA_AND_OTHER_PSYCHOTIC_DISORDERS_CLIN', 'has_CCS_CATEGORY_660_ALCOHOL_RELATED_DISORDERS_CLIN', 'has_CCS_CATEGORY_663_SCREEN_AND_HISTORY_MENTAL_HEALTH_AND_SUB_ABUSE_CODES_CLIN', 'has_CCS_CATEGORY_7_VIRAL_INFECTION_CLIN', 'has_CCS_CATEGORY_77_ENCEPHALITIS_CLIN', 'has_CCS_CATEGORY_81_HEREDITARY_DEGENERATIVE_NERVOUS_SYSTEM_CONDITIONS_CLIN', 'has_CCS_CATEGORY_95_OTHER_NERVOUS_SYSTEM_DISORDERS_CLIN', 'has_CCS_CATEGORY_97_PERI_ENDO_MYOCARDITIS_CARDIOMYOPATHY_CLIN', 'has_CCS_CATEGORY_99_HYPERTENSION_AND_SECONDARY_HYPERTENSION_CLIN', 'has_STILLBIRTH_CLIN', 'has_TERMINATION_OF_PREGNANCY_CLIN', 'has_HOSPICE_CARE_CLIN', 'has_SEPSIS_CLIN', 'has_COMPLICATIONS_OF_PREGNANCY_CHILDBIRTH_AND_THE_PUERPERIUM_CLIN', 'has_CANCER_CLIN', 'has_DOWN_SYNDROME_TRISOMY_21_CLIN', 'has_HEART_TRANSPLANT_CLIN', 'has_LIVER_TRANSPLANT_CLIN', 'has_LUNG_TRANSPLANT_CLIN', 'has_RENAL_TRANSPLANT_CLIN', 'hasOneCondition', 'hasFromTwoToFiveConditions', 'hasFromSixToTenConditions', 'hasElevenOrMoreConditions', 'on_mechanical_ventilation', 'had_chest_ct_scan', 'had_chest_mri', 'had_chest_ultrasound', 'had_chest_xray', 'taken_ESTIMATED_GLOMERULAR_FILTRATION_RATE_OBSTYPE_lab_test', 'taken_ASPARTATE_AMINOTRANSFERASE_ENZYMATIC_ACTIVITY_VOLUME_SERUM_PLASMA_lab_test', 'taken_ALANINE_AMINOTRANSFERASE_ENZYMATIC_ACTIVITY_VOLUME_SERUM_PLASMA_lab_test', 'taken_ALKALINE_PHOSPHATASE_ENZYMATIC_ACTIVITY_VOLUME_SERUM_PLASMA_lab_test', 'taken_PMV_BLOOD_AUTO_lab_test', 'taken_HCT_BLOOD_AUTO_lab_test', 'taken_RDW_RATIO_AUTO_lab_test', 'taken_CO2_TOTAL_MOLESVOLUME_SERUM_PLASMA_lab_test', 'taken_EOSINOPHILS_PERCENT_BLOOD_AUTO_lab_test', 'taken_LYMPHOCYTES_PERCENT_BLOOD_AUTO_lab_test', 'taken_MONOCYTES_PERCENT_BLOOD_AUTO_lab_test', 'taken_BASOPHILS_PERCENT_BLOOD_AUTO_lab_test', 'taken_C_REACTIVE_PROTIEN_MASSVOLUMNE_BLOOD_AUTO_lab_test', 'taken_ERYTHROCYTES_NUMBERVOLUME_BLOOD_AUTO_lab_test', 'taken_LEUKOCYTES_NUMBERVOLUME_BLOOD_AUTO_lab_test', 'taken_LYMPHOCYTES_NUMBERVOLUME_BLOOD_AUTO_lab_test', 'taken_NEUTROPHILS_NUMBERVOLUME_BLOOD_AUTO_lab_test', 'taken_EOSINOPHILS_NUMBERVOLUME_BLOOD_AUTO_lab_test', 'taken_BILIRUBIN_TOTAL_MASSVOLUME_SERUM_PLASMA_lab_test', 'taken_PLATELETS_NUMBERVOLUME_BLOOD_AUTO_lab_test', 'taken_BASOPHILS_NUMBERVOLUME_BLOOD_AUTO_lab_test', 'taken_MONOCYTES_NUMBERVOLUME_BLOOD_AUTO_lab_test', 'taken_BUN_MASSVOLUME_SERUM_PLASMA_lab_test', 'taken_CREATININE_MASSVOLUME_SERUM_PLASMA_lab_test', 'taken_POTASSIUM_MOLESVOLUME_SERUM_PLASMA_lab_test', 'taken_MAGNESIUM_MASSVOLUME_SERUM_PLASMA_lab_test', 'taken_CHLORIDE_MOLESVOLUME_SERUM_PLASMA_lab_test', 'taken_CALCIUM_MASSVOLUME_SERUM_PLASMA_lab_test', 'taken_GLUCOSE_MASSVOLUME_SERUM_PLASMA_lab_test', 'taken_SODIUM_MOLESVOLUME_SERUM_PLASMA_lab_test', 'taken_PROTEIN_MASSVOLUME_SERUM_PLASMA_lab_test', 'taken_ALBUMIN_MASSVOLUME_SERUM_PLASMA_lab_test', 'taken_MCV_AUTO_lab_test', 'taken_MCHC_MASSVOLUME_VOLUME_AUTO_lab_test', 'taken_MCH_AUTO_lab_test', 'taken_HGB_MASSVOLUME_BLOOD_lab_test', 'taken_PROTHROMBIN_TIME_lab_test', 'taken_COLOR_URINE_lab_test', 'taken_ESTIMATED_GLOMERULAR_FILTRATION_RATE_OBSTYPE_lab_interpretation', 'taken_ASPARTATE_AMINOTRANSFERASE_ENZYMATIC_ACTIVITY_VOLUME_SERUM_PLASMA_lab_interpretation', 'taken_ALANINE_AMINOTRANSFERASE_ENZYMATIC_ACTIVITY_VOLUME_SERUM_PLASMA_lab_interpretation', 'taken_ALKALINE_PHOSPHATASE_ENZYMATIC_ACTIVITY_VOLUME_SERUM_PLASMA_lab_interpretation', 'taken_PMV_BLOOD_AUTO_lab_interpretation', 'taken_HCT_BLOOD_AUTO_lab_interpretation', 'taken_RDW_RATIO_AUTO_lab_interpretation', 'taken_CO2_TOTAL_MOLESVOLUME_SERUM_PLASMA_lab_interpretation', 'taken_EOSINOPHILS_PERCENT_BLOOD_AUTO_lab_interpretation', 'taken_LYMPHOCYTES_PERCENT_BLOOD_AUTO_lab_interpretation', 'taken_MONOCYTES_PERCENT_BLOOD_AUTO_lab_interpretation', 'taken_BASOPHILS_PERCENT_BLOOD_AUTO_lab_interpretation', 'taken_C_REACTIVE_PROTIEN_MASSVOLUMNE_BLOOD_AUTO_lab_interpretation', 'taken_ERYTHROCYTES_NUMBERVOLUME_BLOOD_AUTO_lab_interpretation', 'taken_LEUKOCYTES_NUMBERVOLUME_BLOOD_AUTO_lab_interpretation', 'taken_LYMPHOCYTES_NUMBERVOLUME_BLOOD_AUTO_lab_interpretation', 'taken_NEUTROPHILS_NUMBERVOLUME_BLOOD_AUTO_lab_interpretation', 'taken_EOSINOPHILS_NUMBERVOLUME_BLOOD_AUTO_lab_interpretation', 'taken_BILIRUBIN_TOTAL_MASSVOLUME_SERUM_PLASMA_lab_interpretation', 'taken_PLATELETS_NUMBERVOLUME_BLOOD_AUTO_lab_interpretation', 'taken_BASOPHILS_NUMBERVOLUME_BLOOD_AUTO_lab_interpretation', 'taken_MONOCYTES_NUMBERVOLUME_BLOOD_AUTO_lab_interpretation', 'taken_BUN_MASSVOLUME_SERUM_PLASMA_lab_interpretation', 'taken_CREATININE_MASSVOLUME_SERUM_PLASMA_lab_interpretation', 'taken_POTASSIUM_MOLESVOLUME_SERUM_PLASMA_lab_interpretation', 'taken_MAGNESIUM_MASSVOLUME_SERUM_PLASMA_lab_interpretation', 'taken_CHLORIDE_MOLESVOLUME_SERUM_PLASMA_lab_interpretation', 'taken_CALCIUM_MASSVOLUME_SERUM_PLASMA_lab_interpretation', 'taken_GLUCOSE_MASSVOLUME_SERUM_PLASMA_lab_interpretation', 'taken_SODIUM_MOLESVOLUME_SERUM_PLASMA_lab_interpretation', 'taken_PROTEIN_MASSVOLUME_SERUM_PLASMA_lab_interpretation', 'taken_ALBUMIN_MASSVOLUME_SERUM_PLASMA_lab_interpretation', 'taken_MCV_AUTO_lab_interpretation', 'taken_MCHC_MASSVOLUME_VOLUME_AUTO_lab_interpretation', 'taken_MCH_AUTO_lab_interpretation', 'taken_HGB_MASSVOLUME_BLOOD_lab_interpretation', 'taken_PROTHROMBIN_TIME_lab_interpretation', 'taken_COLOR_URINE_lab_interpretation', 'taken_sodium_chloride_09percent_intravenous_solution_drugcode', 'taken_propofol_drugcode', 'taken_fentanyl_drugcode', 'taken_insulin_lispro_drugcode', 'taken_midazolam_drugcode', 'taken_ceftriaxone_drugcode', 'taken_potassium_chloride_drugcode', 'taken_dexamethasone_drugcode', 'taken_heparin_drugcode', 'taken_dexmedetomidine_drugcode', 'taken_tylenol_drugcode', 'taken_cefepime_drugcode', 'taken_acetaminophen_drugcode', 'taken_azithromycin_drugcode', 'taken_piperacillin_tazobactam_drugcode', 'taken_lasix_drugcode', 'taken_insulin_aspart_drugcode', 'taken_remdesivir_drugcode', 'taken_norepinephrine_drugcode', 'taken_vancomycin_drugcode', 'taken_lovenox_drugcode', 'taken_morphine_drugcode', 'taken_zofran_drugcode', 'taken_magnesium_sulfate_drugcode', 'taken_dextrose_5percent_in_water_intravenous_solution_drugcode', 'taken_lactated_ringers_injection_intravenous_solution_drugcode', 'taken_glucose_drugcode', 'taken_ondansetron_drugcode', 'taken_lantus_drugcode', 'taken_insulin_regular_drugcode', 'taken_glucagon_drugcode', 'taken_aspirin_drugcode', 'taken_dextrose_50percent_in_water_intravenous_solution_drugcode', 'taken_enoxaparin_drugcode', 'taken_pantoprazole_drugcode', 'taken_furosemide_drugcode', 'taken_hydralazine_drugcode', 'taken_meropenem_drugcode', 'taken_albuterol_drugcode', 'taken_ativan_drugcode', 'taken_09nacl_drugcode', 'taken_rocephin_drugcode', 'taken_lorazepam_drugcode', 'taken_sterile_water_drugcode', 'taken_hydromorphone_drugcode', 'taken_atorvastatin_drugcode', 'taken_rocuronium_drugcode', 'taken_albuterol_90_mcg_inh_inhalation_aerosol_drugcode', 'taken_sodium_chloride_drugcode', 'taken_protonix_drugcode', 'taken_insulin_glargine_drugcode', 'taken_sodium_bicarbonate_drugcode', 'taken_oxycodone_drugcode', 'taken_zinc_sulfate_drugcode', 'taken_famotidine_drugcode', 'taken_amiodarone_drugcode', 'taken_sodium_chloride_09percent_injectable_solution_drugcode', 'taken_doxycycline_drugcode', 'taken_miralax_drugcode', 'taken_amlodipine_drugcode', 'taken_vitamin_c_drugcode', 'taken_dextrose_drugcode', 'taken_bamlanivimab_drugcode', 'taken_fluvoxamine_drugcode']\n"
     ]
    }
   ],
   "source": [
    "feature_list = []\n",
    "for col in df:\n",
    "    if  col == 'tenant' \\\n",
    "        or col == 'personId'  \\\n",
    "        or col == 'encounterId' \\\n",
    "        or col == 'procedureId' \\\n",
    "        or col == 'serviceDate' \\\n",
    "        or col == 'dischargeDate' \\\n",
    "        or col == 'effectiveDate' \\\n",
    "        or col == 'startDate' \\\n",
    "        or col == 'stopDate' \\\n",
    "        or col == 'serviceStartDate' \\\n",
    "        or col == 'serviceEndDate' \\\n",
    "        or col == 'vaccine_date'  \\\n",
    "        or col == 'encounterType' \\\n",
    "        or col == 'tenant_bed_size' \\\n",
    "        or col == 'bed_size_index' \\\n",
    "        or col == 'tenant_speciality' \\\n",
    "        or col == 'tenant_segment' \\\n",
    "        or col == 'tenant_zip_code' \\\n",
    "        or col == 'zip_code' \\\n",
    "        or col == 'gender' \\\n",
    "        or col == 'deceased' \\\n",
    "        or col == 'discharged_to_skilled_nursing_facility' \\\n",
    "        or col == 'discharged_to_hospice' \\\n",
    "        or col == 'died_in_the_hospital' \\\n",
    "        or col == 'discharged_to_rehab_facility' \\\n",
    "        or col == 'discharged_to_long_term_care_facility' \\\n",
    "        or col == 'discharged_to_index' \\\n",
    "        or col == 'label' \\\n",
    "        or col == 'length_of_stay' :\n",
    "        continue\n",
    "    else:\n",
    "        feature_list.append(col)\n",
    "        \n",
    "print(feature_list)"
   ]
  },
  {
   "cell_type": "code",
   "execution_count": 17,
   "metadata": {},
   "outputs": [],
   "source": [
    "# feature_list2 = feature_list\n",
    "# feature_list2.append('length_of_stay')\n",
    "# feature_list2.append('label')\n",
    "# # feature_list2.append('tenant')\n",
    "# # feature_list2.append('personId')\n",
    "# # feature_list2.append('encounterId')\n",
    "# new_inputs_and_truth = spark.createDataFrame(df[feature_list2])"
   ]
  },
  {
   "cell_type": "code",
   "execution_count": null,
   "metadata": {},
   "outputs": [],
   "source": []
  },
  {
   "cell_type": "markdown",
   "metadata": {},
   "source": [
    "##  Assemble feature vector"
   ]
  },
  {
   "cell_type": "code",
   "execution_count": 18,
   "metadata": {},
   "outputs": [],
   "source": [
    "from pyspark.ml.feature import VectorAssembler\n",
    "\n",
    "assembler = VectorAssembler(inputCols=feature_list,\n",
    "                                  handleInvalid = \"keep\",\n",
    "                                  outputCol='features')"
   ]
  },
  {
   "cell_type": "markdown",
   "metadata": {},
   "source": [
    "##  Assemble feature indexer\n",
    " Automatically identify categorical features, and index them.\n",
    " Set maxCategories so features with > 4 distinct values are treated as continuous."
   ]
  },
  {
   "cell_type": "code",
   "execution_count": 19,
   "metadata": {},
   "outputs": [],
   "source": [
    "# from pyspark.ml.feature import VectorIndexer\n",
    "\n",
    "# featureIndexer =\\\n",
    "#     VectorIndexer(inputCol=\"male\", outputCol=\"indexedFeatures\", maxCategories=4).fit(inputs_and_truth)\n"
   ]
  },
  {
   "cell_type": "code",
   "execution_count": null,
   "metadata": {},
   "outputs": [],
   "source": []
  },
  {
   "cell_type": "markdown",
   "metadata": {},
   "source": [
    "## Prediction algorithm"
   ]
  },
  {
   "cell_type": "markdown",
   "metadata": {},
   "source": [
    "The only inputs for the Random Forest model are the label and features. Parameters are assigned in the tuning piece."
   ]
  },
  {
   "cell_type": "code",
   "execution_count": 20,
   "metadata": {},
   "outputs": [],
   "source": [
    "from pyspark.ml.regression import RandomForestRegressor\n",
    "\n",
    "# Train a Decision Tree model.\n",
    "label='length_of_stay'\n",
    "rf = RandomForestRegressor(labelCol='length_of_stay',\n",
    "                           featuresCol=\"features\"\n",
    "                          )"
   ]
  },
  {
   "cell_type": "markdown",
   "metadata": {},
   "source": [
    "## Assemble Spark ML Pipeline"
   ]
  },
  {
   "cell_type": "code",
   "execution_count": 21,
   "metadata": {},
   "outputs": [],
   "source": [
    "from pyspark.ml import Pipeline\n",
    "\n",
    "pipeline = Pipeline(stages=[assembler,\n",
    "                            rf])"
   ]
  },
  {
   "cell_type": "markdown",
   "metadata": {},
   "source": [
    "## HYPERPARAMETER GRID"
   ]
  },
  {
   "cell_type": "markdown",
   "metadata": {},
   "source": [
    "The hyperparameter grid predefines parameter values to test when we run the model. The model is iteratively reevaluated using cross-validation for each combination of parameter values.\n",
    "\n",
    "Depending on the environment, testing too many parameters may be too computationally expensive and lead to poor performance. Users might consider adaptive sampling techniques to reduce the number of evaluations.\n",
    "\n",
    "This example tests two parameters each with a list of ten values for each parameter:\n",
    "\n",
    "numTrees – Number of trees in the forest. This parameter is usually the most important setting\n",
    "maxDepth – Max number of levels in each decision tree\n",
    "Some other parameters to consider testing:\n",
    "\n",
    "featureSubsetStrategy – Number of features to use as candidates for splitting at each tree node\n",
    "minInfoGain – Minimum information gain for a split to be considered at a tree node\n",
    "minInstancesPerNode – Minimum number of instances each child must have after split\n",
    "Parameters that aren’t specified in the grid will use Spark’s default settings.\n",
    "\n",
    "Note: Beware the parameter defaults. I have realized large performance boosts from increasing values for depth and number of trees, in particular. I suspect Spark ML’s defaults were set low in order to not crush your memory usage."
   ]
  },
  {
   "cell_type": "code",
   "execution_count": 34,
   "metadata": {},
   "outputs": [],
   "source": [
    "from pyspark.ml.tuning import ParamGridBuilder\n",
    "import numpy as np\n",
    "# paramGrid = ParamGridBuilder() \\\n",
    "#     .addGrid(rf.numTrees, [int(x) for x in np.linspace(start = 20, stop = 80, num = 10)]) \\\n",
    "#     .addGrid(rf.maxDepth, [int(x) for x in np.linspace(start = 5, stop = 30, num = 6)]) \\\n",
    "#     .addGrid(rf.maxBins, [int(x) for x in np.linspace(start = 5, stop = 30, num = 6)]) \\\n",
    "#     .build()\n",
    "    \n",
    "from pyspark.ml.tuning import ParamGridBuilder\n",
    "import numpy as np\n",
    "paramGrid = ParamGridBuilder() \\\n",
    "             .addGrid(rf.maxDepth, [2, 5, 10, 20, 30]) \\\n",
    "             .addGrid(rf.maxBins, [10, 20, 40, 80, 100]) \\\n",
    "             .addGrid(rf.numTrees, [5, 20, 50, 100, 500]) \\\n",
    "             .build()"
   ]
  },
  {
   "cell_type": "markdown",
   "metadata": {},
   "source": [
    "To evaluate our model and the corresponding “grid” of parameter variables, we use ten folds cross-validation. This method randomly partitions the original sample into three subsamples and uses them for training and validation.\n",
    "\n",
    "Think of the cross-validation step as the container for testing the parameters we just defined.\n",
    "\n",
    "In this example, we assign our pipeline to the estimator argument, our parameter grid to the estimatorParamMaps argument, and we import Spark ML’s RegressionEvaluator for the evaluator argument."
   ]
  },
  {
   "cell_type": "code",
   "execution_count": 35,
   "metadata": {},
   "outputs": [],
   "source": [
    "from pyspark.ml.tuning import CrossValidator\n",
    "from pyspark.ml.evaluation import RegressionEvaluator\n",
    "crossval = CrossValidator(estimator=pipeline,\n",
    "                          estimatorParamMaps=paramGrid,\n",
    "                          evaluator=RegressionEvaluator(),\n",
    "                          numFolds=3)"
   ]
  },
  {
   "cell_type": "markdown",
   "metadata": {},
   "source": [
    "## Split Inputs into Train and Test datasets."
   ]
  },
  {
   "cell_type": "code",
   "execution_count": 36,
   "metadata": {},
   "outputs": [],
   "source": [
    "# Split the data into training and test sets (20% held out for testing)\n",
    "(train,test) = inputs_and_truth.randomSplit([0.8, 0.2])"
   ]
  },
  {
   "cell_type": "markdown",
   "metadata": {},
   "source": [
    "##  Fit on Train to produce mode"
   ]
  },
  {
   "cell_type": "markdown",
   "metadata": {},
   "source": [
    "The model is fit using the CrossValidator we created. This triggers Spark to assess the features and “grow” numerous decision trees using random samples of the training data. The results are recorded for each permutation of the hyperparameters."
   ]
  },
  {
   "cell_type": "code",
   "execution_count": 37,
   "metadata": {},
   "outputs": [
    {
     "data": {
      "text/plain": [
       "['length_of_stay',\n",
       " 'bed_size_index',\n",
       " 'discharge_to_index',\n",
       " 'age_range',\n",
       " 'tenant_zip_code',\n",
       " 'zip_code',\n",
       " 'deceased',\n",
       " 'discharged_to_skilled_nursing_facility',\n",
       " 'discharged_to_hospice',\n",
       " 'died_in_the_hospital',\n",
       " 'discharged_to_rehab_facility',\n",
       " 'discharged_to_long_term_care_facility',\n",
       " 'intensive_care_visit',\n",
       " 'intensive_care_medical_service',\n",
       " 'palliative_care_visit',\n",
       " 'palliative_care_medical_service',\n",
       " 'hospice_care_visit',\n",
       " 'hospice_care_medical_service',\n",
       " 'gender_index',\n",
       " 'label',\n",
       " 'vaccinated',\n",
       " 'taken_Moderna_vaccine',\n",
       " 'taken_Pfizer_vaccine',\n",
       " 'taken_Janssen_vaccine',\n",
       " 'taken_Unspecified_vaccine',\n",
       " 'taken_Non_US_vaccine',\n",
       " 'taken_single_dose',\n",
       " 'taken_multiple_doses',\n",
       " 'has_ABDOMINAL_PAIN_CLIN',\n",
       " 'has_ACUTE_RESPIRATORY_FAILURE_CLIN',\n",
       " 'has_ADVANCED_ILLNESS_CLIN',\n",
       " 'has_ALCOHOL_ABUSE_OR_DEPENDENCE_CLIN',\n",
       " 'has_ANEMIA_CLIN',\n",
       " 'has_ANXIETY_CLIN',\n",
       " 'has_AORTIC_STENOSIS_CLIN',\n",
       " 'has_ARRHYTHMIA_CLIN',\n",
       " 'has_ASTHMA_CLIN',\n",
       " 'has_ATHEROSCLEROSIS_CLIN',\n",
       " 'has_ATRIAL_FIBRILLATION_CLIN',\n",
       " 'has_ATRIAL_FLUTTER_CLIN',\n",
       " 'has_BACTERIAL_INFECTION_OTHER_CLIN',\n",
       " 'has_BED_BOUND_CLIN',\n",
       " 'has_BENIGN_PROSTATIC_HYPERPLASIA_CLIN',\n",
       " 'has_BIPOLAR_DISORDER_CLIN',\n",
       " 'has_BMI_ABOVE_NORMAL_ADULT_CLIN',\n",
       " 'has_BMI_ABOVE_NORMAL_SENIOR_ADULT_CLIN',\n",
       " 'has_BMI_BELOW_NORMAL_ADULT_CLIN',\n",
       " 'has_BMI_BELOW_NORMAL_SENIOR_ADULT_CLIN',\n",
       " 'has_BODY_MASS_INDEX_BMI_GREATER_THAN_OR_EQUAL_TO_30_AND_LESS_THAN_35_CLIN',\n",
       " 'has_BODY_MASS_INDEX_BMI_GREATER_THAN_OR_EQUAL_TO_35_AND_LESS_THAN_40_CLIN',\n",
       " 'has_BODY_MASS_INDEX_BMI_GREATER_THAN_OR_EQUAL_TO_40_CLIN',\n",
       " 'has_BRADYARRHYTHMIA_CLIN',\n",
       " 'has_CARDIOMYOPATHY_CLIN',\n",
       " 'has_CARDIOVASCULAR_DEVICES_CLIN',\n",
       " 'has_CEREBROVASCULAR_ACCIDENT_CLIN',\n",
       " 'has_CESAREAN_DELIVERY_CLIN',\n",
       " 'has_CHEST_PAIN_CLIN',\n",
       " 'has_CHEST_XRAY_CLIN',\n",
       " 'has_CHRONIC_AIRWAY_OBSTRUCTION_CLIN',\n",
       " 'has_CHRONIC_KIDNEY_DISEASE_CLIN',\n",
       " 'has_CHRONIC_KIDNEY_DISEASE_STAGE_3_CLIN',\n",
       " 'has_CHRONIC_KIDNEY_DISEASE_STAGE_4_CLIN',\n",
       " 'has_CHRONIC_KIDNEY_DISEASE_STAGE_5_CLIN',\n",
       " 'has_CHRONIC_LIVER_DISEASE_AND_CIRRHOSIS_CLIN',\n",
       " 'has_CHRONIC_OBSTRUCTIVE_PULMONARY_DISEASE_CLIN',\n",
       " 'has_CHRONIC_PAIN_CLIN',\n",
       " 'has_CHRONIC_RESPIRATORY_FAILURE_CLIN',\n",
       " 'has_CKD_STAGE_3_4_OR_5_CLIN',\n",
       " 'has_COGNITIVE_IMPAIRMENT_CLIN',\n",
       " 'has_CONDUCTION_DISORDER_CLIN',\n",
       " 'has_CONGESTIVE_HEART_FAILURE_CLIN',\n",
       " 'has_CONSTIPATION_CLIN',\n",
       " 'has_CORONARY_ARTERY_DISEASE_CLIN',\n",
       " 'has_CORONAVIRUS_COVID_19_EXPOSURE_TO_CLIN',\n",
       " 'has_CORTICOSTEROID_ADVERSE_REACTION_CLIN',\n",
       " 'has_CORTICOSTEROID_LONG_TERM_USE_CLIN',\n",
       " 'has_COUGH_CLIN',\n",
       " 'has_CURRENT_PREGNANCY_NOT_DELIVERED_CLIN',\n",
       " 'has_DEMENTIA_CLIN',\n",
       " 'has_DEVICE_CLIN',\n",
       " 'has_DIABETES_MELLITUS_TYPE_2_CLIN',\n",
       " 'has_DIABETIC_KETOACIDOSIS_CLIN',\n",
       " 'has_DIABETIC_NEPHROPATHY_CLIN',\n",
       " 'has_DIAPHRAGM_AND_ABDOMINAL_WALL_CLIN',\n",
       " 'has_DIARRHEA_CLIN',\n",
       " 'has_DIZZINESS_CLIN',\n",
       " 'has_DYSRHYTHMIA_CLIN',\n",
       " 'has_ECG_CLIN',\n",
       " 'has_EMPHYSEMA_CLIN',\n",
       " 'has_ENCEPHALOPATHY_CLIN',\n",
       " 'has_ENCEPHALOPATHY_UNSPECIFIED_CLIN',\n",
       " 'has_END_STAGE_RENAL_DISEASE_CLIN',\n",
       " 'has_ENDOCARDIUM_DISEASE_CLIN',\n",
       " 'has_ENDOCRINE_DISORDER_CLIN',\n",
       " 'has_FALL_CLIN',\n",
       " 'has_FALL_RISK_CLIN',\n",
       " 'has_FAMILY_HISTORY_OF_DIABETES_MELLITUS_CLIN',\n",
       " 'has_FATIGUE_CLIN',\n",
       " 'has_FEVER_CLIN',\n",
       " 'has_FLUID_OVERLOAD_CLIN',\n",
       " 'has_GASTROENTERITIS_CLIN',\n",
       " 'has_GASTROINTESTINAL_DEVICES_CLIN',\n",
       " 'has_GENERALIZED_ANXIETY_DISORDER_CLIN',\n",
       " 'has_HEADACHE_CLIN',\n",
       " 'has_HEART_FAILURE_CLIN',\n",
       " 'has_HEMATOCHEZIA_CLIN',\n",
       " 'has_HOMELESS_CLIN',\n",
       " 'has_HYPERCHOLESTEROLEMIA_CLIN',\n",
       " 'has_HYPERGLYCEMIA_CLIN',\n",
       " 'has_HYPERLIPIDEMIA_CLIN',\n",
       " 'has_HYPERTENSION_CLIN',\n",
       " 'has_HYPERTENSIVE_CHRONIC_RENAL_DISEASE_CLIN',\n",
       " 'has_HYPOGLYCEMIA_CLIN',\n",
       " 'has_HYPOTENSION_CLIN',\n",
       " 'has_HYSTERECTOMY_NO_CERVIX_CLIN',\n",
       " 'has_INSOMNIA_CLIN',\n",
       " 'has_IVD_CLIN',\n",
       " 'has_LIPID_METABOLISM_CLIN',\n",
       " 'has_LIVE_BIRTH_CLIN',\n",
       " 'has_LIVER_CIRRHOSIS_CLIN',\n",
       " 'has_LIVER_DISEASE_CLIN',\n",
       " 'has_LONG_TERM_OXYGEN_THERAPY_CLIN',\n",
       " 'has_LOW_BACK_PAIN_CLIN',\n",
       " 'has_MAJOR_DEPRESSIVE_DISORDER_CLIN',\n",
       " 'has_MORBID_OBESITY_CLIN',\n",
       " 'has_MOVEMENT_DISEASE_CLIN',\n",
       " 'has_MYOCARDIAL_INFARCTION_CLIN',\n",
       " 'has_NAUSEA_CLIN',\n",
       " 'has_NON_AMBULATORY_CLIN',\n",
       " 'has_OBESITY_CLIN',\n",
       " 'has_OBSTRUCTIVE_SLEEP_APNEA_CLIN',\n",
       " 'has_OSTEOPOROSIS_CLIN',\n",
       " 'has_OTHER_GASTROINTESTINAL_CLIN',\n",
       " 'has_PLEURISY_CLIN',\n",
       " 'has_PNEUMONIA_CLIN',\n",
       " 'has_PNEUMONIA_NON_VIRAL_CLIN',\n",
       " 'has_PREDIABETES_CLIN',\n",
       " 'has_PREGNANCY_CLIN',\n",
       " 'has_PSYCHOTIC_DISORDER_CLIN',\n",
       " 'has_PULMONARY_EMBOLISM_CLIN',\n",
       " 'has_PULMONARY_HYPERTENSION_CLIN',\n",
       " 'has_RENAL_DIALYSIS_CLIN',\n",
       " 'has_RENAL_FAILURE_ACUTE_CLIN',\n",
       " 'has_RENAL_FAILURE_CHRONIC_CLIN',\n",
       " 'has_RESPIRATORY_DEVICES_CLIN',\n",
       " 'has_RESPIRATORY_DISEASE_SPECIFIED_OTHER_CLIN',\n",
       " 'has_RESPIRATORY_DISTRESS_CLIN',\n",
       " 'has_RHABDOMYOLYSIS_CLIN',\n",
       " 'has_RHEUMATOID_ARTHRITIS_CLIN',\n",
       " 'has_SCHIZOPHRENIA_CLIN',\n",
       " 'has_SCHIZOPHRENIA_OR_PSYCHOTIC_DISORDER_CLIN',\n",
       " 'has_SEIZURE_CLIN',\n",
       " 'has_SHORTNESS_OF_BREATH_CLIN',\n",
       " 'has_SMOKELESS_TOBACCO_USER_CLIN',\n",
       " 'has_SUBSTANCE_ABUSE_CLIN',\n",
       " 'has_SUICIDAL_IDEATION_CLIN',\n",
       " 'has_TOBACCO_USER_CLIN',\n",
       " 'has_UPPER_RESPIRATORY_INFECTION_ACUTE_CLIN',\n",
       " 'has_URINARY_INCONTINENCE_CLIN',\n",
       " 'has_URINARY_TRACT_INFECTION_CLIN',\n",
       " 'has_VAGINAL_DELIVERY_CLIN',\n",
       " 'has_VERTIGO_CLIN',\n",
       " 'has_VITAMIN_D_DEFICIENCY_CLIN',\n",
       " 'has_VOMITING_CLIN',\n",
       " 'has_WHEELCHAIR_BOUND_CLIN',\n",
       " 'has_CCS_CATEGORY_101_CORONARY_ATHEROSCLEROSIS_HEART_DISEASE_CLIN',\n",
       " 'has_CCS_CATEGORY_103_PULMONARY_HEART_DISEASE_CLIN',\n",
       " 'has_CCS_CATEGORY_104_OTHER_AND_ILL_DEFINED_HEART_DISEASE_CLIN',\n",
       " 'has_CCS_CATEGORY_105_CONDUCTION_DISORDERS_CLIN',\n",
       " 'has_CCS_CATEGORY_106_CARDIAC_DYSRHYTHMIAS_CLIN',\n",
       " 'has_CCS_CATEGORY_108_CONGESTIVE_HEART_FAILURE_NONHYPERTENSIVE_CLIN',\n",
       " 'has_CCS_CATEGORY_109_ACUTE_CEREBROVASCULAR_DISEASE_CLIN',\n",
       " 'has_CCS_CATEGORY_11_CANCER_OF_HEAD_AND_NECK_CLIN',\n",
       " 'has_CCS_CATEGORY_112_TRANSIENT_CEREBRAL_ISCHEMIA_CLIN',\n",
       " 'has_CCS_CATEGORY_113_LATE_EFFECTS_OF_CEREBROVASCULAR_DISEASE_CLIN',\n",
       " 'has_CCS_CATEGORY_114_PERIPHERAL_AND_VISCERAL_ATHEROSCLEROSIS_CLIN',\n",
       " 'has_CCS_CATEGORY_115_AORTIC_PERIPHERAL_VISCERAL_ARTERY_ANEURYSMS_CLIN',\n",
       " 'has_CCS_CATEGORY_117_OTHER_CIRCULATORY_DISEASE_CLIN',\n",
       " 'has_CCS_CATEGORY_12_CANCER_OF_ESOPHAGUS_CLIN',\n",
       " 'has_CCS_CATEGORY_121_OTHER_DISEASES_VEINS_LYMPHATICS_CLIN',\n",
       " 'has_CCS_CATEGORY_122_PNEUMONIA_EXCEPT_TB_OR_STD_CLIN',\n",
       " 'has_CCS_CATEGORY_127_COPD_BRONCHIECTASIS_CLIN',\n",
       " 'has_CCS_CATEGORY_128_ASTHMA_CLIN',\n",
       " 'has_CCS_CATEGORY_129_ASPIRATION_PNEUMONITIS_FOOD_VOMITUS_CLIN',\n",
       " 'has_CCS_CATEGORY_13_CANCER_OF_STOMACH_CLIN',\n",
       " 'has_CCS_CATEGORY_139_GASTRODUODENAL_ULCER_EXCEPT_HEMORRHAGE_CLIN',\n",
       " 'has_CCS_CATEGORY_14_CANCER_OF_COLON_CLIN',\n",
       " 'has_CCS_CATEGORY_15_CANCER_OF_RECTUM_AND_ANUS_CLIN',\n",
       " 'has_CCS_CATEGORY_151_OTHER_LIVER_DISEASES_CLIN',\n",
       " 'has_CCS_CATEGORY_156_NEPHRITIS_NEPHROSIS_RENAL_SCLEROSIS_CLIN',\n",
       " 'has_CCS_CATEGORY_157_ACUTE_UNSPECIFIED_RENAL_FAILURE_CLIN',\n",
       " 'has_CCS_CATEGORY_158_CHRONIC_KIDNEY_DISEASE_CLIN',\n",
       " 'has_CCS_CATEGORY_16_CANCER_OF_LIVER_AND_INTRAHEPATIC_BILE_DUCT_CLIN',\n",
       " 'has_CCS_CATEGORY_17_CANCER_OF_PANCREAS_CLIN',\n",
       " 'has_CCS_CATEGORY_18_CANCER_OF_OTHER_GI_ORGANS_PERITONEUM_CLIN',\n",
       " 'has_CCS_CATEGORY_19_CANCER_OF_BRONCHUS_LUNG_CLIN',\n",
       " 'has_CCS_CATEGORY_2_SEPTICEMIA_EXECPT_IN_LABOR_CLIN',\n",
       " 'has_CCS_CATEGORY_20_CANCER_OTHER_RESPIRATORY_AND_INTRATHORACIC_CLIN',\n",
       " 'has_CCS_CATEGORY_207_PATHOLOGICAL_FRACTURE_CLIN',\n",
       " 'has_CCS_CATEGORY_21_CANCER_OF_BONE_AND_CONNECTIVE_TISSUE_CLIN',\n",
       " 'has_CCS_CATEGORY_210_LUPUS_AND_CONNECTIVE_TISSUE_DISORDERS_CLIN',\n",
       " 'has_CCS_CATEGORY_211_OTHER_CONNECTIVE_TISSUE_DISEASE_CLIN',\n",
       " 'has_CCS_CATEGORY_213_CARDIAC_CIRCULATORY_CONGENITAL_ANOMALIES_CLIN',\n",
       " 'has_CCS_CATEGORY_22_MELANOMAS_OF_SKIN_CLIN',\n",
       " 'has_CCS_CATEGORY_226_FRACTURE_NECK_OF_FEMUR_HIP_CLIN',\n",
       " 'has_CCS_CATEGORY_23_OTHER_NON_EPITHELIAL_CANCER_OF_SKIN_CLIN',\n",
       " 'has_CCS_CATEGORY_230_FRACTURE_OF_LOWER_LIMB_CLIN',\n",
       " 'has_CCS_CATEGORY_237_DEVICE_COMPLICATION_IMPLANT_OR_GRAFT_CLIN',\n",
       " 'has_CCS_CATEGORY_238_COMPLICATIONS_SURGICAL_PROC_OR_MEDICAL_CARE_CLIN',\n",
       " 'has_CCS_CATEGORY_24_CANCER_OF_BREAST_CLIN',\n",
       " 'has_CCS_CATEGORY_242_POISONING_BY_OTHER_MEDICATIONS_AND_DRUGS_CLIN',\n",
       " 'has_CCS_CATEGORY_244_OTHER_INJURIES_AND_CONDITIONS_DUE_TO_EXTERNAL_CAUSES_CLIN',\n",
       " 'has_CCS_CATEGORY_245_SYNCOPE_CLIN',\n",
       " 'has_CCS_CATEGORY_25_CANCER_OF_UTERUS_CLIN',\n",
       " 'has_CCS_CATEGORY_253_ALLERGIC_REACTIONS_CLIN',\n",
       " 'has_CCS_CATEGORY_258_OTHER_SCREENING_FOR_SUSPECTED_CONDITIONS_CLIN',\n",
       " 'has_CCS_CATEGORY_259_RESIDUAL_CODES_UNCLASSIFIED_CLIN',\n",
       " 'has_CCS_CATEGORY_26_CANCER_OF_CERVIX_CLIN',\n",
       " 'has_CCS_CATEGORY_27_CANCER_OF_OVARY_CLIN',\n",
       " 'has_CCS_CATEGORY_28_CANCER_OTHER_FEMALE_GENITAL_ORGANS_CLIN',\n",
       " 'has_CCS_CATEGORY_29_CANCER_OF_PROSTATE_CLIN',\n",
       " 'has_CCS_CATEGORY_30_CANCER_OF_TESTIS_CLIN',\n",
       " 'has_CCS_CATEGORY_31_CANCER_OTHER_MALE_GENITAL_ORGANS_CLIN',\n",
       " 'has_CCS_CATEGORY_32_CANCER_OF_BLADDER_CLIN',\n",
       " 'has_CCS_CATEGORY_33_CANCER_KIDNEY_AND_RENAL_PELVIS_CLIN',\n",
       " 'has_CCS_CATEGORY_34_CANCER_OTHER_URINARY_ORGANS_CLIN',\n",
       " 'has_CCS_CATEGORY_35_CANCER_BRAIN_NERVOUS_SYSTEM_CLIN',\n",
       " 'has_CCS_CATEGORY_36_CANCER_OF_THYROID_CLIN',\n",
       " 'has_CCS_CATEGORY_37_HODGKINS_DISEASE_CLIN',\n",
       " 'has_CCS_CATEGORY_38_NON_HODGKINS_LYMPHOMA_CLIN',\n",
       " 'has_CCS_CATEGORY_39_LEUKEMIAS_CLIN',\n",
       " 'has_CCS_CATEGORY_40_MULTIPLE_MYELOMA_CLIN',\n",
       " 'has_CCS_CATEGORY_41_CANCER_OTHER_AND_UNSPECIFIED_PRIMARY_CLIN',\n",
       " 'has_CCS_CATEGORY_42_SECONDARY_MALIGNANCIES_CLIN',\n",
       " 'has_CCS_CATEGORY_43_MALIGNANT_NEOPLASM_WITHOUT_SPECIFICATION_OF_SITE_CLIN',\n",
       " 'has_CCS_CATEGORY_49_DIABETES_MELLITUS_WITHOUT_COMPLICATION_CLIN',\n",
       " 'has_CCS_CATEGORY_5_HIV_INFECTION_CLIN',\n",
       " 'has_CCS_CATEGORY_50_DIABETES_MELLITUS_WITH_COMPLICATIONS_CLIN',\n",
       " 'has_CCS_CATEGORY_52_NUTRITIONAL_DEFICIENCIES_CLIN',\n",
       " 'has_CCS_CATEGORY_55_FLUID_AND_ELECTROLYTE_DISORDERS_CLIN',\n",
       " 'has_CCS_CATEGORY_58_NUTRITIONAL_ENDOCRINE_METABOLIC_DISORDERS_CLIN',\n",
       " 'has_CCS_CATEGORY_6_HEPATITIS_CLIN',\n",
       " 'has_CCS_CATEGORY_62_COAGULATION_HEMORRHAGIC_DISORDERS_CLIN',\n",
       " 'has_CCS_CATEGORY_64_OTHER_HEMATOLOGIC_CONDITIONS_CLIN',\n",
       " 'has_CCS_CATEGORY_659_SCHIZOPHRENIA_AND_OTHER_PSYCHOTIC_DISORDERS_CLIN',\n",
       " 'has_CCS_CATEGORY_660_ALCOHOL_RELATED_DISORDERS_CLIN',\n",
       " 'has_CCS_CATEGORY_663_SCREEN_AND_HISTORY_MENTAL_HEALTH_AND_SUB_ABUSE_CODES_CLIN',\n",
       " 'has_CCS_CATEGORY_7_VIRAL_INFECTION_CLIN',\n",
       " 'has_CCS_CATEGORY_77_ENCEPHALITIS_CLIN',\n",
       " 'has_CCS_CATEGORY_81_HEREDITARY_DEGENERATIVE_NERVOUS_SYSTEM_CONDITIONS_CLIN',\n",
       " 'has_CCS_CATEGORY_95_OTHER_NERVOUS_SYSTEM_DISORDERS_CLIN',\n",
       " 'has_CCS_CATEGORY_97_PERI_ENDO_MYOCARDITIS_CARDIOMYOPATHY_CLIN',\n",
       " 'has_CCS_CATEGORY_99_HYPERTENSION_AND_SECONDARY_HYPERTENSION_CLIN',\n",
       " 'has_STILLBIRTH_CLIN',\n",
       " 'has_TERMINATION_OF_PREGNANCY_CLIN',\n",
       " 'has_HOSPICE_CARE_CLIN',\n",
       " 'has_SEPSIS_CLIN',\n",
       " 'has_COMPLICATIONS_OF_PREGNANCY_CHILDBIRTH_AND_THE_PUERPERIUM_CLIN',\n",
       " 'has_CANCER_CLIN',\n",
       " 'has_DOWN_SYNDROME_TRISOMY_21_CLIN',\n",
       " 'has_HEART_TRANSPLANT_CLIN',\n",
       " 'has_LIVER_TRANSPLANT_CLIN',\n",
       " 'has_LUNG_TRANSPLANT_CLIN',\n",
       " 'has_RENAL_TRANSPLANT_CLIN',\n",
       " 'hasOneCondition',\n",
       " 'hasFromTwoToFiveConditions',\n",
       " 'hasFromSixToTenConditions',\n",
       " 'hasElevenOrMoreConditions',\n",
       " 'on_mechanical_ventilation',\n",
       " 'had_chest_ct_scan',\n",
       " 'had_chest_mri',\n",
       " 'had_chest_ultrasound',\n",
       " 'had_chest_xray',\n",
       " 'taken_ESTIMATED_GLOMERULAR_FILTRATION_RATE_OBSTYPE_lab_test',\n",
       " 'taken_ASPARTATE_AMINOTRANSFERASE_ENZYMATIC_ACTIVITY_VOLUME_SERUM_PLASMA_lab_test',\n",
       " 'taken_ALANINE_AMINOTRANSFERASE_ENZYMATIC_ACTIVITY_VOLUME_SERUM_PLASMA_lab_test',\n",
       " 'taken_ALKALINE_PHOSPHATASE_ENZYMATIC_ACTIVITY_VOLUME_SERUM_PLASMA_lab_test',\n",
       " 'taken_PMV_BLOOD_AUTO_lab_test',\n",
       " 'taken_HCT_BLOOD_AUTO_lab_test',\n",
       " 'taken_RDW_RATIO_AUTO_lab_test',\n",
       " 'taken_CO2_TOTAL_MOLESVOLUME_SERUM_PLASMA_lab_test',\n",
       " 'taken_EOSINOPHILS_PERCENT_BLOOD_AUTO_lab_test',\n",
       " 'taken_LYMPHOCYTES_PERCENT_BLOOD_AUTO_lab_test',\n",
       " 'taken_MONOCYTES_PERCENT_BLOOD_AUTO_lab_test',\n",
       " 'taken_BASOPHILS_PERCENT_BLOOD_AUTO_lab_test',\n",
       " 'taken_C_REACTIVE_PROTIEN_MASSVOLUMNE_BLOOD_AUTO_lab_test',\n",
       " 'taken_ERYTHROCYTES_NUMBERVOLUME_BLOOD_AUTO_lab_test',\n",
       " 'taken_LEUKOCYTES_NUMBERVOLUME_BLOOD_AUTO_lab_test',\n",
       " 'taken_LYMPHOCYTES_NUMBERVOLUME_BLOOD_AUTO_lab_test',\n",
       " 'taken_NEUTROPHILS_NUMBERVOLUME_BLOOD_AUTO_lab_test',\n",
       " 'taken_EOSINOPHILS_NUMBERVOLUME_BLOOD_AUTO_lab_test',\n",
       " 'taken_BILIRUBIN_TOTAL_MASSVOLUME_SERUM_PLASMA_lab_test',\n",
       " 'taken_PLATELETS_NUMBERVOLUME_BLOOD_AUTO_lab_test',\n",
       " 'taken_BASOPHILS_NUMBERVOLUME_BLOOD_AUTO_lab_test',\n",
       " 'taken_MONOCYTES_NUMBERVOLUME_BLOOD_AUTO_lab_test',\n",
       " 'taken_BUN_MASSVOLUME_SERUM_PLASMA_lab_test',\n",
       " 'taken_CREATININE_MASSVOLUME_SERUM_PLASMA_lab_test',\n",
       " 'taken_POTASSIUM_MOLESVOLUME_SERUM_PLASMA_lab_test',\n",
       " 'taken_MAGNESIUM_MASSVOLUME_SERUM_PLASMA_lab_test',\n",
       " 'taken_CHLORIDE_MOLESVOLUME_SERUM_PLASMA_lab_test',\n",
       " 'taken_CALCIUM_MASSVOLUME_SERUM_PLASMA_lab_test',\n",
       " 'taken_GLUCOSE_MASSVOLUME_SERUM_PLASMA_lab_test',\n",
       " 'taken_SODIUM_MOLESVOLUME_SERUM_PLASMA_lab_test',\n",
       " 'taken_PROTEIN_MASSVOLUME_SERUM_PLASMA_lab_test',\n",
       " 'taken_ALBUMIN_MASSVOLUME_SERUM_PLASMA_lab_test',\n",
       " 'taken_MCV_AUTO_lab_test',\n",
       " 'taken_MCHC_MASSVOLUME_VOLUME_AUTO_lab_test',\n",
       " 'taken_MCH_AUTO_lab_test',\n",
       " 'taken_HGB_MASSVOLUME_BLOOD_lab_test',\n",
       " 'taken_PROTHROMBIN_TIME_lab_test',\n",
       " 'taken_COLOR_URINE_lab_test',\n",
       " 'taken_ESTIMATED_GLOMERULAR_FILTRATION_RATE_OBSTYPE_lab_interpretation',\n",
       " 'taken_ASPARTATE_AMINOTRANSFERASE_ENZYMATIC_ACTIVITY_VOLUME_SERUM_PLASMA_lab_interpretation',\n",
       " 'taken_ALANINE_AMINOTRANSFERASE_ENZYMATIC_ACTIVITY_VOLUME_SERUM_PLASMA_lab_interpretation',\n",
       " 'taken_ALKALINE_PHOSPHATASE_ENZYMATIC_ACTIVITY_VOLUME_SERUM_PLASMA_lab_interpretation',\n",
       " 'taken_PMV_BLOOD_AUTO_lab_interpretation',\n",
       " 'taken_HCT_BLOOD_AUTO_lab_interpretation',\n",
       " 'taken_RDW_RATIO_AUTO_lab_interpretation',\n",
       " 'taken_CO2_TOTAL_MOLESVOLUME_SERUM_PLASMA_lab_interpretation',\n",
       " 'taken_EOSINOPHILS_PERCENT_BLOOD_AUTO_lab_interpretation',\n",
       " 'taken_LYMPHOCYTES_PERCENT_BLOOD_AUTO_lab_interpretation',\n",
       " 'taken_MONOCYTES_PERCENT_BLOOD_AUTO_lab_interpretation',\n",
       " 'taken_BASOPHILS_PERCENT_BLOOD_AUTO_lab_interpretation',\n",
       " 'taken_C_REACTIVE_PROTIEN_MASSVOLUMNE_BLOOD_AUTO_lab_interpretation',\n",
       " 'taken_ERYTHROCYTES_NUMBERVOLUME_BLOOD_AUTO_lab_interpretation',\n",
       " 'taken_LEUKOCYTES_NUMBERVOLUME_BLOOD_AUTO_lab_interpretation',\n",
       " 'taken_LYMPHOCYTES_NUMBERVOLUME_BLOOD_AUTO_lab_interpretation',\n",
       " 'taken_NEUTROPHILS_NUMBERVOLUME_BLOOD_AUTO_lab_interpretation',\n",
       " 'taken_EOSINOPHILS_NUMBERVOLUME_BLOOD_AUTO_lab_interpretation',\n",
       " 'taken_BILIRUBIN_TOTAL_MASSVOLUME_SERUM_PLASMA_lab_interpretation',\n",
       " 'taken_PLATELETS_NUMBERVOLUME_BLOOD_AUTO_lab_interpretation',\n",
       " 'taken_BASOPHILS_NUMBERVOLUME_BLOOD_AUTO_lab_interpretation',\n",
       " 'taken_MONOCYTES_NUMBERVOLUME_BLOOD_AUTO_lab_interpretation',\n",
       " 'taken_BUN_MASSVOLUME_SERUM_PLASMA_lab_interpretation',\n",
       " 'taken_CREATININE_MASSVOLUME_SERUM_PLASMA_lab_interpretation',\n",
       " 'taken_POTASSIUM_MOLESVOLUME_SERUM_PLASMA_lab_interpretation',\n",
       " 'taken_MAGNESIUM_MASSVOLUME_SERUM_PLASMA_lab_interpretation',\n",
       " 'taken_CHLORIDE_MOLESVOLUME_SERUM_PLASMA_lab_interpretation',\n",
       " 'taken_CALCIUM_MASSVOLUME_SERUM_PLASMA_lab_interpretation',\n",
       " 'taken_GLUCOSE_MASSVOLUME_SERUM_PLASMA_lab_interpretation',\n",
       " 'taken_SODIUM_MOLESVOLUME_SERUM_PLASMA_lab_interpretation',\n",
       " 'taken_PROTEIN_MASSVOLUME_SERUM_PLASMA_lab_interpretation',\n",
       " 'taken_ALBUMIN_MASSVOLUME_SERUM_PLASMA_lab_interpretation',\n",
       " 'taken_MCV_AUTO_lab_interpretation',\n",
       " 'taken_MCHC_MASSVOLUME_VOLUME_AUTO_lab_interpretation',\n",
       " 'taken_MCH_AUTO_lab_interpretation',\n",
       " 'taken_HGB_MASSVOLUME_BLOOD_lab_interpretation',\n",
       " 'taken_PROTHROMBIN_TIME_lab_interpretation',\n",
       " 'taken_COLOR_URINE_lab_interpretation',\n",
       " 'taken_sodium_chloride_09percent_intravenous_solution_drugcode',\n",
       " 'taken_propofol_drugcode',\n",
       " 'taken_fentanyl_drugcode',\n",
       " 'taken_insulin_lispro_drugcode',\n",
       " 'taken_midazolam_drugcode',\n",
       " 'taken_ceftriaxone_drugcode',\n",
       " 'taken_potassium_chloride_drugcode',\n",
       " 'taken_dexamethasone_drugcode',\n",
       " 'taken_heparin_drugcode',\n",
       " 'taken_dexmedetomidine_drugcode',\n",
       " 'taken_tylenol_drugcode',\n",
       " 'taken_cefepime_drugcode',\n",
       " 'taken_acetaminophen_drugcode',\n",
       " 'taken_azithromycin_drugcode',\n",
       " 'taken_piperacillin_tazobactam_drugcode',\n",
       " 'taken_lasix_drugcode',\n",
       " 'taken_insulin_aspart_drugcode',\n",
       " 'taken_remdesivir_drugcode',\n",
       " 'taken_norepinephrine_drugcode',\n",
       " 'taken_vancomycin_drugcode',\n",
       " 'taken_lovenox_drugcode',\n",
       " 'taken_morphine_drugcode',\n",
       " 'taken_zofran_drugcode',\n",
       " 'taken_magnesium_sulfate_drugcode',\n",
       " 'taken_dextrose_5percent_in_water_intravenous_solution_drugcode',\n",
       " 'taken_lactated_ringers_injection_intravenous_solution_drugcode',\n",
       " 'taken_glucose_drugcode',\n",
       " 'taken_ondansetron_drugcode',\n",
       " 'taken_lantus_drugcode',\n",
       " 'taken_insulin_regular_drugcode',\n",
       " 'taken_glucagon_drugcode',\n",
       " 'taken_aspirin_drugcode',\n",
       " 'taken_dextrose_50percent_in_water_intravenous_solution_drugcode',\n",
       " 'taken_enoxaparin_drugcode',\n",
       " 'taken_pantoprazole_drugcode',\n",
       " 'taken_furosemide_drugcode',\n",
       " 'taken_hydralazine_drugcode',\n",
       " 'taken_meropenem_drugcode',\n",
       " 'taken_albuterol_drugcode',\n",
       " 'taken_ativan_drugcode',\n",
       " 'taken_09nacl_drugcode',\n",
       " 'taken_rocephin_drugcode',\n",
       " 'taken_lorazepam_drugcode',\n",
       " 'taken_sterile_water_drugcode',\n",
       " 'taken_hydromorphone_drugcode',\n",
       " 'taken_atorvastatin_drugcode',\n",
       " 'taken_rocuronium_drugcode',\n",
       " 'taken_albuterol_90_mcg_inh_inhalation_aerosol_drugcode',\n",
       " 'taken_sodium_chloride_drugcode',\n",
       " 'taken_protonix_drugcode',\n",
       " 'taken_insulin_glargine_drugcode',\n",
       " 'taken_sodium_bicarbonate_drugcode',\n",
       " 'taken_oxycodone_drugcode',\n",
       " 'taken_zinc_sulfate_drugcode',\n",
       " 'taken_famotidine_drugcode',\n",
       " 'taken_amiodarone_drugcode',\n",
       " 'taken_sodium_chloride_09percent_injectable_solution_drugcode',\n",
       " 'taken_doxycycline_drugcode',\n",
       " 'taken_miralax_drugcode',\n",
       " 'taken_amlodipine_drugcode',\n",
       " 'taken_vitamin_c_drugcode',\n",
       " 'taken_dextrose_drugcode',\n",
       " 'taken_bamlanivimab_drugcode',\n",
       " 'taken_fluvoxamine_drugcode']"
      ]
     },
     "execution_count": 37,
     "metadata": {},
     "output_type": "execute_result"
    }
   ],
   "source": [
    "train.columns"
   ]
  },
  {
   "cell_type": "code",
   "execution_count": 38,
   "metadata": {},
   "outputs": [
    {
     "ename": "KeyboardInterrupt",
     "evalue": "",
     "output_type": "error",
     "traceback": [
      "\u001b[0;31m---------------------------------------------------------------------------\u001b[0m",
      "\u001b[0;31mIndexError\u001b[0m                                Traceback (most recent call last)",
      "\u001b[0;32m/opt/conda/lib/python3.7/multiprocessing/pool.py\u001b[0m in \u001b[0;36mnext\u001b[0;34m(self, timeout)\u001b[0m\n\u001b[1;32m    732\u001b[0m             \u001b[0;32mtry\u001b[0m\u001b[0;34m:\u001b[0m\u001b[0;34m\u001b[0m\u001b[0;34m\u001b[0m\u001b[0m\n\u001b[0;32m--> 733\u001b[0;31m                 \u001b[0mitem\u001b[0m \u001b[0;34m=\u001b[0m \u001b[0mself\u001b[0m\u001b[0;34m.\u001b[0m\u001b[0m_items\u001b[0m\u001b[0;34m.\u001b[0m\u001b[0mpopleft\u001b[0m\u001b[0;34m(\u001b[0m\u001b[0;34m)\u001b[0m\u001b[0;34m\u001b[0m\u001b[0;34m\u001b[0m\u001b[0m\n\u001b[0m\u001b[1;32m    734\u001b[0m             \u001b[0;32mexcept\u001b[0m \u001b[0mIndexError\u001b[0m\u001b[0;34m:\u001b[0m\u001b[0;34m\u001b[0m\u001b[0;34m\u001b[0m\u001b[0m\n",
      "\u001b[0;31mIndexError\u001b[0m: pop from an empty deque",
      "\nDuring handling of the above exception, another exception occurred:\n",
      "\u001b[0;31mKeyboardInterrupt\u001b[0m                         Traceback (most recent call last)",
      "\u001b[0;32m<timed exec>\u001b[0m in \u001b[0;36m<module>\u001b[0;34m\u001b[0m\n",
      "\u001b[0;32m/usr/local/spark/python/pyspark/ml/base.py\u001b[0m in \u001b[0;36mfit\u001b[0;34m(self, dataset, params)\u001b[0m\n\u001b[1;32m    130\u001b[0m                 \u001b[0;32mreturn\u001b[0m \u001b[0mself\u001b[0m\u001b[0;34m.\u001b[0m\u001b[0mcopy\u001b[0m\u001b[0;34m(\u001b[0m\u001b[0mparams\u001b[0m\u001b[0;34m)\u001b[0m\u001b[0;34m.\u001b[0m\u001b[0m_fit\u001b[0m\u001b[0;34m(\u001b[0m\u001b[0mdataset\u001b[0m\u001b[0;34m)\u001b[0m\u001b[0;34m\u001b[0m\u001b[0;34m\u001b[0m\u001b[0m\n\u001b[1;32m    131\u001b[0m             \u001b[0;32melse\u001b[0m\u001b[0;34m:\u001b[0m\u001b[0;34m\u001b[0m\u001b[0;34m\u001b[0m\u001b[0m\n\u001b[0;32m--> 132\u001b[0;31m                 \u001b[0;32mreturn\u001b[0m \u001b[0mself\u001b[0m\u001b[0;34m.\u001b[0m\u001b[0m_fit\u001b[0m\u001b[0;34m(\u001b[0m\u001b[0mdataset\u001b[0m\u001b[0;34m)\u001b[0m\u001b[0;34m\u001b[0m\u001b[0;34m\u001b[0m\u001b[0m\n\u001b[0m\u001b[1;32m    133\u001b[0m         \u001b[0;32melse\u001b[0m\u001b[0;34m:\u001b[0m\u001b[0;34m\u001b[0m\u001b[0;34m\u001b[0m\u001b[0m\n\u001b[1;32m    134\u001b[0m             raise ValueError(\"Params must be either a param map or a list/tuple of param maps, \"\n",
      "\u001b[0;32m/usr/local/spark/python/pyspark/ml/tuning.py\u001b[0m in \u001b[0;36m_fit\u001b[0;34m(self, dataset)\u001b[0m\n\u001b[1;32m    302\u001b[0m \u001b[0;34m\u001b[0m\u001b[0m\n\u001b[1;32m    303\u001b[0m             \u001b[0mtasks\u001b[0m \u001b[0;34m=\u001b[0m \u001b[0m_parallelFitTasks\u001b[0m\u001b[0;34m(\u001b[0m\u001b[0mest\u001b[0m\u001b[0;34m,\u001b[0m \u001b[0mtrain\u001b[0m\u001b[0;34m,\u001b[0m \u001b[0meva\u001b[0m\u001b[0;34m,\u001b[0m \u001b[0mvalidation\u001b[0m\u001b[0;34m,\u001b[0m \u001b[0mepm\u001b[0m\u001b[0;34m,\u001b[0m \u001b[0mcollectSubModelsParam\u001b[0m\u001b[0;34m)\u001b[0m\u001b[0;34m\u001b[0m\u001b[0;34m\u001b[0m\u001b[0m\n\u001b[0;32m--> 304\u001b[0;31m             \u001b[0;32mfor\u001b[0m \u001b[0mj\u001b[0m\u001b[0;34m,\u001b[0m \u001b[0mmetric\u001b[0m\u001b[0;34m,\u001b[0m \u001b[0msubModel\u001b[0m \u001b[0;32min\u001b[0m \u001b[0mpool\u001b[0m\u001b[0;34m.\u001b[0m\u001b[0mimap_unordered\u001b[0m\u001b[0;34m(\u001b[0m\u001b[0;32mlambda\u001b[0m \u001b[0mf\u001b[0m\u001b[0;34m:\u001b[0m \u001b[0mf\u001b[0m\u001b[0;34m(\u001b[0m\u001b[0;34m)\u001b[0m\u001b[0;34m,\u001b[0m \u001b[0mtasks\u001b[0m\u001b[0;34m)\u001b[0m\u001b[0;34m:\u001b[0m\u001b[0;34m\u001b[0m\u001b[0;34m\u001b[0m\u001b[0m\n\u001b[0m\u001b[1;32m    305\u001b[0m                 \u001b[0mmetrics\u001b[0m\u001b[0;34m[\u001b[0m\u001b[0mj\u001b[0m\u001b[0;34m]\u001b[0m \u001b[0;34m+=\u001b[0m \u001b[0;34m(\u001b[0m\u001b[0mmetric\u001b[0m \u001b[0;34m/\u001b[0m \u001b[0mnFolds\u001b[0m\u001b[0;34m)\u001b[0m\u001b[0;34m\u001b[0m\u001b[0;34m\u001b[0m\u001b[0m\n\u001b[1;32m    306\u001b[0m                 \u001b[0;32mif\u001b[0m \u001b[0mcollectSubModelsParam\u001b[0m\u001b[0;34m:\u001b[0m\u001b[0;34m\u001b[0m\u001b[0;34m\u001b[0m\u001b[0m\n",
      "\u001b[0;32m/opt/conda/lib/python3.7/multiprocessing/pool.py\u001b[0m in \u001b[0;36mnext\u001b[0;34m(self, timeout)\u001b[0m\n\u001b[1;32m    735\u001b[0m                 \u001b[0;32mif\u001b[0m \u001b[0mself\u001b[0m\u001b[0;34m.\u001b[0m\u001b[0m_index\u001b[0m \u001b[0;34m==\u001b[0m \u001b[0mself\u001b[0m\u001b[0;34m.\u001b[0m\u001b[0m_length\u001b[0m\u001b[0;34m:\u001b[0m\u001b[0;34m\u001b[0m\u001b[0;34m\u001b[0m\u001b[0m\n\u001b[1;32m    736\u001b[0m                     \u001b[0;32mraise\u001b[0m \u001b[0mStopIteration\u001b[0m \u001b[0;32mfrom\u001b[0m \u001b[0;32mNone\u001b[0m\u001b[0;34m\u001b[0m\u001b[0;34m\u001b[0m\u001b[0m\n\u001b[0;32m--> 737\u001b[0;31m                 \u001b[0mself\u001b[0m\u001b[0;34m.\u001b[0m\u001b[0m_cond\u001b[0m\u001b[0;34m.\u001b[0m\u001b[0mwait\u001b[0m\u001b[0;34m(\u001b[0m\u001b[0mtimeout\u001b[0m\u001b[0;34m)\u001b[0m\u001b[0;34m\u001b[0m\u001b[0;34m\u001b[0m\u001b[0m\n\u001b[0m\u001b[1;32m    738\u001b[0m                 \u001b[0;32mtry\u001b[0m\u001b[0;34m:\u001b[0m\u001b[0;34m\u001b[0m\u001b[0;34m\u001b[0m\u001b[0m\n\u001b[1;32m    739\u001b[0m                     \u001b[0mitem\u001b[0m \u001b[0;34m=\u001b[0m \u001b[0mself\u001b[0m\u001b[0;34m.\u001b[0m\u001b[0m_items\u001b[0m\u001b[0;34m.\u001b[0m\u001b[0mpopleft\u001b[0m\u001b[0;34m(\u001b[0m\u001b[0;34m)\u001b[0m\u001b[0;34m\u001b[0m\u001b[0;34m\u001b[0m\u001b[0m\n",
      "\u001b[0;32m/opt/conda/lib/python3.7/threading.py\u001b[0m in \u001b[0;36mwait\u001b[0;34m(self, timeout)\u001b[0m\n\u001b[1;32m    294\u001b[0m         \u001b[0;32mtry\u001b[0m\u001b[0;34m:\u001b[0m    \u001b[0;31m# restore state no matter what (e.g., KeyboardInterrupt)\u001b[0m\u001b[0;34m\u001b[0m\u001b[0;34m\u001b[0m\u001b[0m\n\u001b[1;32m    295\u001b[0m             \u001b[0;32mif\u001b[0m \u001b[0mtimeout\u001b[0m \u001b[0;32mis\u001b[0m \u001b[0;32mNone\u001b[0m\u001b[0;34m:\u001b[0m\u001b[0;34m\u001b[0m\u001b[0;34m\u001b[0m\u001b[0m\n\u001b[0;32m--> 296\u001b[0;31m                 \u001b[0mwaiter\u001b[0m\u001b[0;34m.\u001b[0m\u001b[0macquire\u001b[0m\u001b[0;34m(\u001b[0m\u001b[0;34m)\u001b[0m\u001b[0;34m\u001b[0m\u001b[0;34m\u001b[0m\u001b[0m\n\u001b[0m\u001b[1;32m    297\u001b[0m                 \u001b[0mgotit\u001b[0m \u001b[0;34m=\u001b[0m \u001b[0;32mTrue\u001b[0m\u001b[0;34m\u001b[0m\u001b[0;34m\u001b[0m\u001b[0m\n\u001b[1;32m    298\u001b[0m             \u001b[0;32melse\u001b[0m\u001b[0;34m:\u001b[0m\u001b[0;34m\u001b[0m\u001b[0;34m\u001b[0m\u001b[0m\n",
      "\u001b[0;31mKeyboardInterrupt\u001b[0m: "
     ]
    }
   ],
   "source": [
    "%%time\n",
    "\n",
    "# Train model.  This also runs the indexer.\n",
    "model = crossval.fit(train)"
   ]
  },
  {
   "cell_type": "code",
   "execution_count": null,
   "metadata": {},
   "outputs": [],
   "source": []
  },
  {
   "cell_type": "markdown",
   "metadata": {},
   "source": [
    "## Transform Test with model to get score"
   ]
  },
  {
   "cell_type": "code",
   "execution_count": 27,
   "metadata": {},
   "outputs": [
    {
     "ename": "NameError",
     "evalue": "name 'model' is not defined",
     "output_type": "error",
     "traceback": [
      "\u001b[0;31m---------------------------------------------------------------------------\u001b[0m",
      "\u001b[0;31mNameError\u001b[0m                                 Traceback (most recent call last)",
      "\u001b[0;32m<timed exec>\u001b[0m in \u001b[0;36m<module>\u001b[0;34m\u001b[0m\n",
      "\u001b[0;31mNameError\u001b[0m: name 'model' is not defined"
     ]
    }
   ],
   "source": [
    "%%time\n",
    "\n",
    "# Make predictions.\n",
    "predictions = model.transform(test)"
   ]
  },
  {
   "cell_type": "markdown",
   "metadata": {},
   "source": [
    "The transformer (i.e. prediction generator) from out cross-validator by default applies the best performing pipeline. We can test our new model by making predictions on the hold out data."
   ]
  },
  {
   "cell_type": "code",
   "execution_count": 28,
   "metadata": {},
   "outputs": [
    {
     "ename": "NameError",
     "evalue": "name 'predictions' is not defined",
     "output_type": "error",
     "traceback": [
      "\u001b[0;31m---------------------------------------------------------------------------\u001b[0m",
      "\u001b[0;31mNameError\u001b[0m                                 Traceback (most recent call last)",
      "\u001b[0;32m<timed eval>\u001b[0m in \u001b[0;36m<module>\u001b[0;34m\u001b[0m\n",
      "\u001b[0;31mNameError\u001b[0m: name 'predictions' is not defined"
     ]
    }
   ],
   "source": [
    "%%time\n",
    "\n",
    "# Select example rows to display.\n",
    "predictions.select(\"prediction\", \"length_of_stay\", \"features\").show(15)"
   ]
  },
  {
   "cell_type": "code",
   "execution_count": 29,
   "metadata": {},
   "outputs": [],
   "source": [
    "# import matplotlib.pyplot as plt\n",
    "# evaluator = RegressionEvaluator(labelCol=\"label\", predictionCol=\"prediction\", metricName=\"rmse\")\n",
    "# rmse = evaluator.evaluate(predictions)\n",
    "# rfPred = model.transform(test)\n",
    "# rfResult = rfPred.toPandas()\n",
    "# plt.plot(rfResult.label, rfResult.prediction, 'bo')\n",
    "# plt.xlabel('Price')\n",
    "# plt.ylabel('Prediction')\n",
    "# plt.suptitle(\"Model Performance RMSE: %f\" % rmse)\n",
    "# plt.show()"
   ]
  },
  {
   "cell_type": "markdown",
   "metadata": {},
   "source": [
    "##  Evaluate"
   ]
  },
  {
   "cell_type": "code",
   "execution_count": 30,
   "metadata": {},
   "outputs": [
    {
     "ename": "NameError",
     "evalue": "name 'predictions' is not defined",
     "output_type": "error",
     "traceback": [
      "\u001b[0;31m---------------------------------------------------------------------------\u001b[0m",
      "\u001b[0;31mNameError\u001b[0m                                 Traceback (most recent call last)",
      "\u001b[0;32m<timed exec>\u001b[0m in \u001b[0;36m<module>\u001b[0;34m\u001b[0m\n",
      "\u001b[0;31mNameError\u001b[0m: name 'predictions' is not defined"
     ]
    }
   ],
   "source": [
    "%%time\n",
    "from pyspark.ml.evaluation import RegressionEvaluator\n",
    "\n",
    "evaluator = RegressionEvaluator(predictionCol='prediction',\n",
    "                                          labelCol='length_of_stay',\n",
    "                                          metricName='rmse')\n",
    "\n",
    "rmse = evaluator.evaluate(predictions)\n",
    "print(\"Root Mean Squared Error (RMSE) on test data = %g\" % rmse)\n"
   ]
  },
  {
   "cell_type": "code",
   "execution_count": 31,
   "metadata": {},
   "outputs": [
    {
     "ename": "NameError",
     "evalue": "name 'model' is not defined",
     "output_type": "error",
     "traceback": [
      "\u001b[0;31m---------------------------------------------------------------------------\u001b[0m",
      "\u001b[0;31mNameError\u001b[0m                                 Traceback (most recent call last)",
      "\u001b[0;32m<timed exec>\u001b[0m in \u001b[0;36m<module>\u001b[0;34m\u001b[0m\n",
      "\u001b[0;31mNameError\u001b[0m: name 'model' is not defined"
     ]
    }
   ],
   "source": [
    "%%time\n",
    "\n",
    "# normally don't score training data, but using all data to demonstrate package.run\n",
    "scored = model.transform(inputs_and_truth)\n",
    "\n",
    "scored.limit(3).toPandas()\n",
    "\n",
    "# scored = model.transform(test)"
   ]
  },
  {
   "cell_type": "code",
   "execution_count": 32,
   "metadata": {},
   "outputs": [
    {
     "name": "stdout",
     "output_type": "stream",
     "text": [
      "Wed Nov 17 17:22:26 UTC 2021\r\n"
     ]
    }
   ],
   "source": [
    "!date --date=\"6 hour ago\" # capture evaluated model end time"
   ]
  },
  {
   "cell_type": "markdown",
   "metadata": {},
   "source": [
    "## Root Mean Squared Error"
   ]
  },
  {
   "cell_type": "code",
   "execution_count": 33,
   "metadata": {},
   "outputs": [
    {
     "ename": "NameError",
     "evalue": "name 'model' is not defined",
     "output_type": "error",
     "traceback": [
      "\u001b[0;31m---------------------------------------------------------------------------\u001b[0m",
      "\u001b[0;31mNameError\u001b[0m                                 Traceback (most recent call last)",
      "\u001b[0;32m<ipython-input-33-440ff161282c>\u001b[0m in \u001b[0;36m<module>\u001b[0;34m\u001b[0m\n\u001b[0;32m----> 1\u001b[0;31m \u001b[0mrfModel\u001b[0m \u001b[0;34m=\u001b[0m \u001b[0mmodel\u001b[0m\u001b[0;34m.\u001b[0m\u001b[0mbestModel\u001b[0m\u001b[0;34m.\u001b[0m\u001b[0mstages\u001b[0m\u001b[0;34m\u001b[0m\u001b[0;34m\u001b[0m\u001b[0m\n\u001b[0m\u001b[1;32m      2\u001b[0m \u001b[0mprint\u001b[0m\u001b[0;34m(\u001b[0m\u001b[0mrfModel\u001b[0m\u001b[0;34m)\u001b[0m\u001b[0;34m\u001b[0m\u001b[0;34m\u001b[0m\u001b[0m\n",
      "\u001b[0;31mNameError\u001b[0m: name 'model' is not defined"
     ]
    }
   ],
   "source": [
    "rfModel = model.bestModel.stages\n",
    "print(rfModel)"
   ]
  },
  {
   "cell_type": "code",
   "execution_count": null,
   "metadata": {},
   "outputs": [],
   "source": [
    "import matplotlib.pyplot as plt\n",
    "evaluator = RegressionEvaluator(labelCol=\"label\", predictionCol=\"prediction\", metricName=\"rmse\")\n",
    "rmse = evaluator.evaluate(predictions)\n",
    "# rfPred = model.transform(inputs_and_truth)\n",
    "# rfResult = rfPred.toPandas()\n",
    "# plt.plot(rfResult.label, rfResult.prediction, 'bo')\n",
    "# plt.xlabel('Length of Stay')\n",
    "# plt.ylabel('Prediction')\n",
    "# plt.rcParams[\"figure.figsize\"] = (10,3)\n",
    "# plt.suptitle(\"Model Performance RMSE: %f\" % rmse)\n",
    "# plt.show()\n",
    "rmse"
   ]
  },
  {
   "cell_type": "markdown",
   "metadata": {},
   "source": [
    "## Mean Squared Error"
   ]
  },
  {
   "cell_type": "code",
   "execution_count": null,
   "metadata": {},
   "outputs": [],
   "source": [
    "import matplotlib.pyplot as plt\n",
    "evaluator = RegressionEvaluator(labelCol=\"label\", predictionCol=\"prediction\", metricName=\"mse\")\n",
    "mse = evaluator.evaluate(predictions)\n",
    "rfPred = model.transform(inputs_and_truth)\n",
    "# rfResult = rfPred.toPandas()\n",
    "# plt.plot(rfResult.label, rfResult.prediction, 'bo')\n",
    "# plt.xlabel('Length of Stay')\n",
    "# plt.ylabel('Prediction')\n",
    "# plt.rcParams[\"figure.figsize\"] = (10,3)\n",
    "# plt.suptitle(\"Model Performance MSE: %f\" % mse)\n",
    "# plt.show()\n",
    "mse"
   ]
  },
  {
   "cell_type": "markdown",
   "metadata": {},
   "source": [
    "## Regression through the origin"
   ]
  },
  {
   "cell_type": "code",
   "execution_count": null,
   "metadata": {},
   "outputs": [],
   "source": [
    "import matplotlib.pyplot as plt\n",
    "evaluator = RegressionEvaluator(labelCol=\"label\", predictionCol=\"prediction\", metricName=\"r2\")\n",
    "r2 = evaluator.evaluate(predictions)\n",
    "# rfPred = model.transform(inputs_and_truth)\n",
    "# rfResult = rfPred.toPandas()\n",
    "# plt.plot(rfResult.label, rfResult.prediction, 'bo')\n",
    "# plt.xlabel('Length of Stay')\n",
    "# plt.ylabel('Prediction')\n",
    "# plt.rcParams[\"figure.figsize\"] = (10,3)\n",
    "# plt.suptitle(\"Model Performance R2: %f\" % r2)\n",
    "# plt.show()\n",
    "r2"
   ]
  },
  {
   "cell_type": "markdown",
   "metadata": {},
   "source": [
    "## Mean absolute error"
   ]
  },
  {
   "cell_type": "code",
   "execution_count": null,
   "metadata": {},
   "outputs": [],
   "source": [
    "import matplotlib.pyplot as plt\n",
    "evaluator = RegressionEvaluator(labelCol=\"label\", predictionCol=\"prediction\", metricName=\"mae\")\n",
    "mae = evaluator.evaluate(predictions)\n",
    "# rfPred = model.transform(inputs_and_truth)\n",
    "# rfResult = rfPred.toPandas()\n",
    "# plt.plot(rfResult.label, rfResult.prediction, 'bo')\n",
    "# plt.xlabel('Length of Stay')\n",
    "# plt.ylabel('Prediction')\n",
    "# plt.rcParams[\"figure.figsize\"] = (10,3)\n",
    "# plt.suptitle(\"Model Performance MAE: %f\" % mae)\n",
    "# plt.show()\n",
    "mae"
   ]
  },
  {
   "cell_type": "markdown",
   "metadata": {},
   "source": [
    "## FEATURE IMPORTANCE"
   ]
  },
  {
   "cell_type": "markdown",
   "metadata": {},
   "source": [
    "Interpretability is very important in machine learning. Non-technical stakeholders are rarely satisfied with predictions coming from a black box. This compels machine learning practitioners to understand which features were most important to the outcomes.\n",
    "\n",
    "Fortunately, Spark ML accounts for this. The function featureImportances establishes a percentage of how influential each feature is on the model’s predictions.\n",
    "\n",
    "To isolate the model that performed best in our parameter grid, literally run bestModel. Then, select the Random Forest stage from our pipeline."
   ]
  },
  {
   "cell_type": "code",
   "execution_count": null,
   "metadata": {},
   "outputs": [],
   "source": [
    "bestPipeline = model.bestModel\n",
    "bestModel = bestPipeline.stages[1]\n",
    "importances = bestModel.featureImportances\n",
    "\n",
    "x_values = list(range(len(importances)))\n",
    "plt.barh(x_values, importances)\n",
    "#plt.barh(y_values, importances, orientation = 'horizontal')\n",
    "plt.yticks(x_values, feature_list)\n",
    "plt.xlabel('Importance')\n",
    "plt.ylabel('Feature')\n",
    "plt.rcParams[\"figure.figsize\"] = (150,10)\n",
    "plt.title('Feature Importances')"
   ]
  },
  {
   "cell_type": "code",
   "execution_count": null,
   "metadata": {},
   "outputs": [],
   "source": [
    "x_values = list(range(len(importances)))\n",
    "print(len(feature_list))\n",
    "importances_list = importances.values.tolist()\n",
    "for x in range(0, len(feature_list)-1):\n",
    "    print(\"importance: \" + str(round(importances[x],4)) + \" feature:\" + feature_list[x])"
   ]
  },
  {
   "cell_type": "code",
   "execution_count": null,
   "metadata": {},
   "outputs": [],
   "source": [
    "for x in range(0, len(feature_list)-1):\n",
    "    if round(importances[x],4) > 0:\n",
    "        print(\"importance: \" + str(round(importances[x],4)) + \" feature:\" + feature_list[x])"
   ]
  },
  {
   "cell_type": "markdown",
   "metadata": {},
   "source": [
    "## BEST HYPERPARAMETERS"
   ]
  },
  {
   "cell_type": "markdown",
   "metadata": {},
   "source": [
    "Finally, let’s investigate which parameters performed best. Our ‘Best Model’ object has a series of “get” parameter functions that select out the parameter values which had the highest performance."
   ]
  },
  {
   "cell_type": "code",
   "execution_count": null,
   "metadata": {},
   "outputs": [],
   "source": [
    "print('maxDepth - ', bestModel.getOrDefault('maxDepth'))\n",
    "print('maxBins - ', bestModel.getOrDefault('maxBins'))\n",
    "print('numTrees  - ', bestModel.getOrDefault('numTrees'))"
   ]
  },
  {
   "cell_type": "markdown",
   "metadata": {},
   "source": [
    "## Validation Table"
   ]
  },
  {
   "cell_type": "code",
   "execution_count": null,
   "metadata": {},
   "outputs": [],
   "source": [
    "spark.sql(\"DROP TABLE IF EXISTS user_rc047407.scored_RF_NonVac\").show()"
   ]
  },
  {
   "cell_type": "code",
   "execution_count": null,
   "metadata": {},
   "outputs": [],
   "source": [
    "scored.write.saveAsTable('user_rc047407.scored_RF_NonVac')"
   ]
  },
  {
   "cell_type": "code",
   "execution_count": null,
   "metadata": {},
   "outputs": [],
   "source": [
    "spark.sql(\"\"\"select * from user_rc047407.scored_RF_NonVac\"\"\").printSchema()"
   ]
  },
  {
   "cell_type": "code",
   "execution_count": null,
   "metadata": {},
   "outputs": [],
   "source": [
    "spark.sql(\"\"\"\n",
    "select length_of_stay, \n",
    "       round(prediction,0) as prediction, \n",
    "       abs(length_of_stay - round(prediction,0)) as difference\n",
    "       from user_rc047407.scored_RF_Nonvac\n",
    "\n",
    "       order by 3 \n",
    "       \n",
    "\"\"\"\n",
    ").limit(5).toPandas()"
   ]
  },
  {
   "cell_type": "code",
   "execution_count": null,
   "metadata": {},
   "outputs": [],
   "source": [
    "spark.sql(\"\"\"\n",
    "select abs(length_of_stay - round(prediction,0)) as difference \n",
    "       ,count(abs(length_of_stay - round(prediction,0))) as count\n",
    "       from user_rc047407.scored_RF_Nonvac\n",
    " GROUP by 1\n",
    "       \n",
    " ORDER BY 1 asc\n",
    "\"\"\"\n",
    ").limit(25).toPandas()"
   ]
  },
  {
   "cell_type": "code",
   "execution_count": null,
   "metadata": {},
   "outputs": [],
   "source": [
    "spark.sql(\"\"\"\n",
    "select round(number_of_same / (number_of_differences + number_of_same), 4)*100 as percentage_of_accurancy\n",
    "from (\n",
    "    select sum(if(difference>0,count,0)) as number_of_differences\n",
    "          ,sum(if(difference=0,count,0)) as number_of_same\n",
    "    from (      \n",
    "        select abs(length_of_stay - round(prediction,0)) as difference \n",
    "               ,count(abs(length_of_stay - round(prediction,0))) as count\n",
    "               from user_rc047407.scored_RF_Nonvac\n",
    "         GROUP by 1 ) \n",
    " )        \n",
    "       \n",
    " \n",
    "\"\"\"\n",
    ").toPandas()"
   ]
  },
  {
   "cell_type": "code",
   "execution_count": null,
   "metadata": {},
   "outputs": [],
   "source": [
    "spark.sql(\"\"\"\n",
    "select round(number_of_same / (number_of_differences + number_of_same), 4)*100 as percentage_of_accurancy\n",
    "from (\n",
    "    select sum(if(difference>0,count,0)) as number_of_differences\n",
    "          ,sum(if(difference=0,count,0)) as number_of_same\n",
    "    from (      \n",
    "        select abs(length_of_stay - int(prediction+.15)) as difference \n",
    "               ,count(abs(length_of_stay - int(prediction+.15))) as count\n",
    "               from user_rc047407.scored_RF_Nonvac\n",
    "         GROUP by 1 ) \n",
    " )        \n",
    "       \n",
    " \n",
    "\"\"\"\n",
    ").toPandas()"
   ]
  },
  {
   "cell_type": "code",
   "execution_count": null,
   "metadata": {},
   "outputs": [],
   "source": [
    "spark.sql(\"\"\"\n",
    "select abs(length_of_stay - int(prediction+.15)) as difference \n",
    "       ,count(abs(length_of_stay - int(prediction+.15))) as count\n",
    "       from user_rc047407.scored_RF_Nonvac\n",
    " GROUP by 1\n",
    "       \n",
    " ORDER BY 1 asc\n",
    "\"\"\"\n",
    ").limit(25).toPandas()"
   ]
  },
  {
   "cell_type": "code",
   "execution_count": null,
   "metadata": {},
   "outputs": [],
   "source": [
    "spark.sql(\"\"\"\n",
    "select round(number_of_same / (number_of_differences + number_of_same), 4)*100 as percentage_of_accurancy\n",
    "from (\n",
    "    select sum(if(difference>0,count,0)) as number_of_differences\n",
    "          ,sum(if(difference=0,count,0)) as number_of_same\n",
    "    from (      \n",
    "        select abs(length_of_stay - int(prediction+.25)) as difference \n",
    "               ,count(abs(length_of_stay - int(prediction+.25))) as count\n",
    "               from user_rc047407.scored_RF_Nonvac\n",
    "         GROUP by 1 ) \n",
    " )        \n",
    "       \n",
    " \n",
    "\"\"\"\n",
    ").toPandas()"
   ]
  },
  {
   "cell_type": "code",
   "execution_count": null,
   "metadata": {},
   "outputs": [],
   "source": [
    "spark.sql(\"\"\"\n",
    "select abs(length_of_stay - int(prediction+.25)) as difference \n",
    "       ,count(abs(length_of_stay - int(prediction+.25))) as count\n",
    "       from user_rc047407.scored_RF_Nonvac\n",
    " GROUP by 1\n",
    "       \n",
    " ORDER BY 1 asc\n",
    "\"\"\"\n",
    ").limit(25).toPandas()"
   ]
  },
  {
   "cell_type": "code",
   "execution_count": null,
   "metadata": {},
   "outputs": [],
   "source": [
    "# prediction = spark.sql(\"\"\"\n",
    "# select empiPersonId \n",
    "#       ,avg_length_of_stay as actual\n",
    "#       ,if(prediction>=.5,1,0) as prediction\n",
    "#  from user_rc047407.scored\n",
    "\n",
    "# \"\"\")"
   ]
  },
  {
   "cell_type": "code",
   "execution_count": null,
   "metadata": {},
   "outputs": [],
   "source": [
    "# spark.sql(\"DROP TABLE IF EXISTS user_rc047407.prediction\").show()"
   ]
  },
  {
   "cell_type": "code",
   "execution_count": null,
   "metadata": {},
   "outputs": [],
   "source": [
    "# prediction.write.saveAsTable('user_rc047407.prediction')"
   ]
  },
  {
   "cell_type": "code",
   "execution_count": null,
   "metadata": {},
   "outputs": [],
   "source": [
    "# spark.sql(\"\"\"\n",
    "#    select \"True\" as T_F\n",
    "#          , sum(if(actual=1 and prediction=1,1,0)) as True\n",
    "#          , sum(if(actual=1 and prediction=0,1,0)) as False         \n",
    "#      from user_rc047407.prediction\n",
    "     \n",
    "#      union \n",
    "#     select \"False\" as T_F\n",
    "#            , sum(if(actual=0 and prediction=1,1,0)) as True\n",
    "#            , sum(if(actual=0 and prediction=0,1,0)) as False\n",
    "#      from user_rc047407.prediction  \n",
    "     \n",
    "#      group by 1\n",
    "     \n",
    "#      order by 1 desc\n",
    "# \"\"\").toPandas()"
   ]
  },
  {
   "cell_type": "code",
   "execution_count": null,
   "metadata": {},
   "outputs": [],
   "source": []
  },
  {
   "cell_type": "code",
   "execution_count": null,
   "metadata": {},
   "outputs": [],
   "source": []
  },
  {
   "cell_type": "code",
   "execution_count": null,
   "metadata": {},
   "outputs": [],
   "source": []
  },
  {
   "cell_type": "code",
   "execution_count": null,
   "metadata": {},
   "outputs": [],
   "source": []
  }
 ],
 "metadata": {
  "kernelspec": {
   "display_name": "PySpark",
   "language": "python",
   "name": "pyspark"
  },
  "language_info": {
   "codemirror_mode": {
    "name": "ipython",
    "version": 3
   },
   "file_extension": ".py",
   "mimetype": "text/x-python",
   "name": "python",
   "nbconvert_exporter": "python",
   "pygments_lexer": "ipython3",
   "version": "3.7.6"
  }
 },
 "nbformat": 4,
 "nbformat_minor": 4
}
