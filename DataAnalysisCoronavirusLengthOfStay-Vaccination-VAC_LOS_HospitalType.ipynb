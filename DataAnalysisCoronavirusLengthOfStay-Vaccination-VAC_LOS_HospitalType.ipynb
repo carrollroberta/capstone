{
 "cells": [
  {
   "cell_type": "markdown",
   "metadata": {},
   "source": [
    "# Coronavirus Data Analysis"
   ]
  },
  {
   "cell_type": "code",
   "execution_count": 1,
   "metadata": {},
   "outputs": [],
   "source": [
    "import pandas as pd\n",
    "import numpy as np"
   ]
  },
  {
   "cell_type": "code",
   "execution_count": 2,
   "metadata": {},
   "outputs": [
    {
     "data": {
      "text/plain": [
       "'application_1636170550178_0035'"
      ]
     },
     "execution_count": 2,
     "metadata": {},
     "output_type": "execute_result"
    }
   ],
   "source": [
    "spark.sparkContext.applicationId"
   ]
  },
  {
   "cell_type": "code",
   "execution_count": 3,
   "metadata": {},
   "outputs": [],
   "source": [
    "pd.options.display.max_columns = 35"
   ]
  },
  {
   "cell_type": "markdown",
   "metadata": {},
   "source": [
    "### Create Variables for Queries"
   ]
  },
  {
   "cell_type": "code",
   "execution_count": 4,
   "metadata": {},
   "outputs": [
    {
     "name": "stdout",
     "output_type": "stream",
     "text": [
      "365\n",
      "365\n",
      "365\n",
      "user_rc047407\n",
      "CoronavirusLengthOfStay_HighLevel\n"
     ]
    }
   ],
   "source": [
    "# Look back days variables\n",
    "daysInterval = 365\n",
    "print(daysInterval)\n",
    "maxDays = 365\n",
    "print(maxDays)\n",
    "oneYearInterval=365\n",
    "print(oneYearInterval)\n",
    "\n",
    "# Username variable\n",
    "user_id = 'rc047407'           ####<-------------------- change to your user id (Ex: tl068507)\n",
    "userName = 'user_' + user_id\n",
    "print(userName)\n",
    "\n",
    "# Algorithm name variable\n",
    "algorithmName='CoronavirusLengthOfStay_HighLevel'\n",
    "print(algorithmName)"
   ]
  },
  {
   "cell_type": "code",
   "execution_count": 5,
   "metadata": {},
   "outputs": [
    {
     "name": "stdout",
     "output_type": "stream",
     "text": [
      "5.62\n"
     ]
    }
   ],
   "source": [
    "stdVar = spark.sql(f\"\"\"\n",
    "  select  round(std(h.length_of_stay),2) as std_length_of_stay\n",
    "       \n",
    "  from {userName}.{algorithmName}_Hospital h\n",
    "  \n",
    "  left join {userName}.{algorithmName}_Vaccine v\n",
    "    on h.personid = v.personId\n",
    "      and h.tenant = v.tenant\n",
    "\n",
    "   where    \n",
    "      datediff(h.serviceDate, h.dischargeDate) < 0\n",
    "      and h.length_of_stay > 0\n",
    "               \n",
    "      and  ( datediff(h.serviceDate, v.vaccine_date) > 0\n",
    "             and v.vaccine_date is not null)        \n",
    "      \n",
    "    \n",
    "\"\"\")\n",
    "stdValue_vac = stdVar.first()['std_length_of_stay']\n",
    "print(stdValue_vac)"
   ]
  },
  {
   "cell_type": "code",
   "execution_count": 6,
   "metadata": {},
   "outputs": [
    {
     "data": {
      "text/html": [
       "<div>\n",
       "<style scoped>\n",
       "    .dataframe tbody tr th:only-of-type {\n",
       "        vertical-align: middle;\n",
       "    }\n",
       "\n",
       "    .dataframe tbody tr th {\n",
       "        vertical-align: top;\n",
       "    }\n",
       "\n",
       "    .dataframe thead th {\n",
       "        text-align: right;\n",
       "    }\n",
       "</style>\n",
       "<table border=\"1\" class=\"dataframe\">\n",
       "  <thead>\n",
       "    <tr style=\"text-align: right;\">\n",
       "      <th></th>\n",
       "      <th>discharge_to</th>\n",
       "      <th>vaccine_name</th>\n",
       "      <th>count_of_vaccinated_patients</th>\n",
       "      <th>mean_length_of_stay</th>\n",
       "    </tr>\n",
       "  </thead>\n",
       "  <tbody>\n",
       "    <tr>\n",
       "      <th>0</th>\n",
       "      <td>Home</td>\n",
       "      <td>Janssen</td>\n",
       "      <td>2</td>\n",
       "      <td>9.00</td>\n",
       "    </tr>\n",
       "    <tr>\n",
       "      <th>1</th>\n",
       "      <td>Home</td>\n",
       "      <td>Moderna</td>\n",
       "      <td>71</td>\n",
       "      <td>5.85</td>\n",
       "    </tr>\n",
       "    <tr>\n",
       "      <th>2</th>\n",
       "      <td>Home</td>\n",
       "      <td>Pfizer</td>\n",
       "      <td>95</td>\n",
       "      <td>4.85</td>\n",
       "    </tr>\n",
       "    <tr>\n",
       "      <th>3</th>\n",
       "      <td>Hospice Care</td>\n",
       "      <td>Moderna</td>\n",
       "      <td>3</td>\n",
       "      <td>6.57</td>\n",
       "    </tr>\n",
       "    <tr>\n",
       "      <th>4</th>\n",
       "      <td>Hospice Care</td>\n",
       "      <td>Pfizer</td>\n",
       "      <td>1</td>\n",
       "      <td>5.00</td>\n",
       "    </tr>\n",
       "    <tr>\n",
       "      <th>5</th>\n",
       "      <td>Mortuary</td>\n",
       "      <td>Moderna</td>\n",
       "      <td>5</td>\n",
       "      <td>4.90</td>\n",
       "    </tr>\n",
       "    <tr>\n",
       "      <th>6</th>\n",
       "      <td>Mortuary</td>\n",
       "      <td>Pfizer</td>\n",
       "      <td>4</td>\n",
       "      <td>4.00</td>\n",
       "    </tr>\n",
       "    <tr>\n",
       "      <th>7</th>\n",
       "      <td>Skilled Nursing Facility</td>\n",
       "      <td>Janssen</td>\n",
       "      <td>1</td>\n",
       "      <td>6.00</td>\n",
       "    </tr>\n",
       "    <tr>\n",
       "      <th>8</th>\n",
       "      <td>Skilled Nursing Facility</td>\n",
       "      <td>Moderna</td>\n",
       "      <td>6</td>\n",
       "      <td>5.38</td>\n",
       "    </tr>\n",
       "    <tr>\n",
       "      <th>9</th>\n",
       "      <td>Skilled Nursing Facility</td>\n",
       "      <td>Pfizer</td>\n",
       "      <td>5</td>\n",
       "      <td>5.80</td>\n",
       "    </tr>\n",
       "  </tbody>\n",
       "</table>\n",
       "</div>"
      ],
      "text/plain": [
       "               discharge_to vaccine_name  count_of_vaccinated_patients  \\\n",
       "0                      Home      Janssen                             2   \n",
       "1                      Home      Moderna                            71   \n",
       "2                      Home       Pfizer                            95   \n",
       "3              Hospice Care      Moderna                             3   \n",
       "4              Hospice Care       Pfizer                             1   \n",
       "5                  Mortuary      Moderna                             5   \n",
       "6                  Mortuary       Pfizer                             4   \n",
       "7  Skilled Nursing Facility      Janssen                             1   \n",
       "8  Skilled Nursing Facility      Moderna                             6   \n",
       "9  Skilled Nursing Facility       Pfizer                             5   \n",
       "\n",
       "   mean_length_of_stay  \n",
       "0                 9.00  \n",
       "1                 5.85  \n",
       "2                 4.85  \n",
       "3                 6.57  \n",
       "4                 5.00  \n",
       "5                 4.90  \n",
       "6                 4.00  \n",
       "7                 6.00  \n",
       "8                 5.38  \n",
       "9                 5.80  "
      ]
     },
     "execution_count": 6,
     "metadata": {},
     "output_type": "execute_result"
    }
   ],
   "source": [
    "spark.sql(f\"\"\"\n",
    "    select  discharge_to\n",
    "          , vaccine_name\n",
    "          , count(distinct personId) as count_of_vaccinated_patients\n",
    "          , round(mean(length_of_stay),2) as mean_length_of_stay\n",
    "        from (  \n",
    "          select\n",
    "              h.personId\n",
    "              , length_of_stay\n",
    "              , case \n",
    "                when taken_Moderna_vaccine = 1 then \"Moderna\"\n",
    "                when taken_Pfizer_vaccine = 1 then \"Pfizer\"\n",
    "                when taken_Janssen_vaccine = 1 then \"Janssen\"\n",
    "              end as vaccine_name \n",
    "              ,case\n",
    "                    when discharged_to_skilled_nursing_facility = 1 then \"Skilled Nursing Facility\"\n",
    "                    when discharged_to_hospice = 1 then 'Hospice Care'\n",
    "                    when died_in_the_hospital = 1 then 'Mortuary'\n",
    "                    when discharged_to_rehab_facility = 1 then 'Rehab Facility'\n",
    "                    when discharged_to_long_term_care_facility = 1 then 'Long Term Care Facility'\n",
    "                else 'Home'\n",
    "                end as discharge_to\n",
    "              \n",
    "        from {userName}.{algorithmName}_Hospital h\n",
    "          \n",
    "        join {userName}.{algorithmName}_Vaccine_Detail v\n",
    "            on h.personid = v.personId\n",
    "              and h.tenant = v.tenant\n",
    "              and  ( datediff(h.serviceDate, v.vaccine_date) > 0\n",
    "              and     v.vaccine_date is not null) \n",
    "              and ( taken_Moderna_vaccine = 1   \n",
    "                    or taken_Pfizer_vaccine = 1  \n",
    "                    or taken_Janssen_vaccine = 1 )\n",
    "\n",
    "           where    \n",
    "              datediff(h.serviceDate, h.dischargeDate) < 0\n",
    "              and h.length_of_stay > 0\n",
    "              and h.length_of_stay < 2*{stdValue_vac}\n",
    "\n",
    "          ) subquery   \n",
    "          \n",
    "        group by 1, 2\n",
    "        order by 1, 2\n",
    "     \n",
    "\"\"\").toPandas()"
   ]
  },
  {
   "cell_type": "code",
   "execution_count": 8,
   "metadata": {},
   "outputs": [
    {
     "data": {
      "text/html": [
       "<div>\n",
       "<style scoped>\n",
       "    .dataframe tbody tr th:only-of-type {\n",
       "        vertical-align: middle;\n",
       "    }\n",
       "\n",
       "    .dataframe tbody tr th {\n",
       "        vertical-align: top;\n",
       "    }\n",
       "\n",
       "    .dataframe thead th {\n",
       "        text-align: right;\n",
       "    }\n",
       "</style>\n",
       "<table border=\"1\" class=\"dataframe\">\n",
       "  <thead>\n",
       "    <tr style=\"text-align: right;\">\n",
       "      <th></th>\n",
       "      <th>vaccine_name</th>\n",
       "      <th>count_of_vaccinated_patients</th>\n",
       "      <th>mean_length_of_stay</th>\n",
       "    </tr>\n",
       "  </thead>\n",
       "  <tbody>\n",
       "    <tr>\n",
       "      <th>0</th>\n",
       "      <td>Janssen</td>\n",
       "      <td>3</td>\n",
       "      <td>8.00</td>\n",
       "    </tr>\n",
       "    <tr>\n",
       "      <th>1</th>\n",
       "      <td>Moderna</td>\n",
       "      <td>84</td>\n",
       "      <td>5.78</td>\n",
       "    </tr>\n",
       "    <tr>\n",
       "      <th>2</th>\n",
       "      <td>Pfizer</td>\n",
       "      <td>102</td>\n",
       "      <td>4.86</td>\n",
       "    </tr>\n",
       "  </tbody>\n",
       "</table>\n",
       "</div>"
      ],
      "text/plain": [
       "  vaccine_name  count_of_vaccinated_patients  mean_length_of_stay\n",
       "0      Janssen                             3                 8.00\n",
       "1      Moderna                            84                 5.78\n",
       "2       Pfizer                           102                 4.86"
      ]
     },
     "execution_count": 8,
     "metadata": {},
     "output_type": "execute_result"
    }
   ],
   "source": [
    "spark.sql(f\"\"\"\n",
    "    select  vaccine_name\n",
    "          , count(distinct personId) as count_of_vaccinated_patients\n",
    "          , round(mean(length_of_stay),2) as mean_length_of_stay\n",
    "        from (  \n",
    "          select\n",
    "              h.personId\n",
    "              , length_of_stay\n",
    "              , case \n",
    "                when taken_Moderna_vaccine = 1 then \"Moderna\"\n",
    "                when taken_Pfizer_vaccine = 1 then \"Pfizer\"\n",
    "                when taken_Janssen_vaccine = 1 then \"Janssen\"\n",
    "              end as vaccine_name \n",
    "           \n",
    "              \n",
    "        from {userName}.{algorithmName}_Hospital h\n",
    "          \n",
    "        join {userName}.{algorithmName}_Vaccine_Detail v\n",
    "            on h.personid = v.personId\n",
    "              and h.tenant = v.tenant\n",
    "              and  ( datediff(h.serviceDate, v.vaccine_date) > 0\n",
    "              and     v.vaccine_date is not null) \n",
    "              and ( taken_Moderna_vaccine = 1   \n",
    "                    or taken_Pfizer_vaccine = 1  \n",
    "                    or taken_Janssen_vaccine = 1 )\n",
    "\n",
    "           where    \n",
    "              datediff(h.serviceDate, h.dischargeDate) < 0\n",
    "              and h.length_of_stay > 0\n",
    "              and h.length_of_stay < 2*{stdValue_vac}\n",
    "\n",
    "          ) subquery   \n",
    "          \n",
    "        group by 1 \n",
    "        order by 1 \n",
    "     \n",
    "\"\"\").toPandas()"
   ]
  },
  {
   "cell_type": "code",
   "execution_count": null,
   "metadata": {},
   "outputs": [],
   "source": []
  }
 ],
 "metadata": {
  "kernelspec": {
   "display_name": "PySpark",
   "language": "python",
   "name": "pyspark"
  },
  "language_info": {
   "codemirror_mode": {
    "name": "ipython",
    "version": 3
   },
   "file_extension": ".py",
   "mimetype": "text/x-python",
   "name": "python",
   "nbconvert_exporter": "python",
   "pygments_lexer": "ipython3",
   "version": "3.7.6"
  }
 },
 "nbformat": 4,
 "nbformat_minor": 4
}
