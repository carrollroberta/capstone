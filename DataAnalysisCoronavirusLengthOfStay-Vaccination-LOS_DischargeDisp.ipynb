{
 "cells": [
  {
   "cell_type": "markdown",
   "metadata": {},
   "source": [
    "# Coronavirus Data Analysis"
   ]
  },
  {
   "cell_type": "code",
   "execution_count": 1,
   "metadata": {},
   "outputs": [],
   "source": [
    "import pandas as pd\n",
    "import numpy as np"
   ]
  },
  {
   "cell_type": "code",
   "execution_count": 2,
   "metadata": {},
   "outputs": [
    {
     "data": {
      "text/plain": [
       "'application_1636170550178_0011'"
      ]
     },
     "execution_count": 2,
     "metadata": {},
     "output_type": "execute_result"
    }
   ],
   "source": [
    "spark.sparkContext.applicationId"
   ]
  },
  {
   "cell_type": "code",
   "execution_count": 3,
   "metadata": {},
   "outputs": [],
   "source": [
    "pd.options.display.max_columns = 35"
   ]
  },
  {
   "cell_type": "markdown",
   "metadata": {},
   "source": [
    "### Create Variables for Queries"
   ]
  },
  {
   "cell_type": "code",
   "execution_count": 4,
   "metadata": {},
   "outputs": [
    {
     "name": "stdout",
     "output_type": "stream",
     "text": [
      "365\n",
      "365\n",
      "365\n",
      "user_rc047407\n",
      "CoronavirusLengthOfStay_HighLevel\n"
     ]
    }
   ],
   "source": [
    "# Look back days variables\n",
    "daysInterval = 365\n",
    "print(daysInterval)\n",
    "maxDays = 365\n",
    "print(maxDays)\n",
    "oneYearInterval=365\n",
    "print(oneYearInterval)\n",
    "\n",
    "# Username variable\n",
    "user_id = 'rc047407'           ####<-------------------- change to your user id (Ex: tl068507)\n",
    "userName = 'user_' + user_id\n",
    "print(userName)\n",
    "\n",
    "# Algorithm name variable\n",
    "algorithmName='CoronavirusLengthOfStay_HighLevel'\n",
    "print(algorithmName)"
   ]
  },
  {
   "cell_type": "code",
   "execution_count": 5,
   "metadata": {},
   "outputs": [
    {
     "name": "stdout",
     "output_type": "stream",
     "text": [
      "12.8\n"
     ]
    }
   ],
   "source": [
    "stdVar = spark.sql(f\"\"\"\n",
    "  select  round(std(h.length_of_stay),2) as std_length_of_stay\n",
    "       \n",
    "  from {userName}.{algorithmName}_Hospital h\n",
    "  \n",
    "  left join {userName}.{algorithmName}_Vaccine v\n",
    "    on h.personid = v.personId\n",
    "      and h.tenant = v.tenant\n",
    "\n",
    "   where    \n",
    "      datediff(h.serviceDate, h.dischargeDate) < 0\n",
    "      and h.length_of_stay > 0\n",
    "       \n",
    "\"\"\")\n",
    "stdValue = stdVar.first()['std_length_of_stay']\n",
    "print(stdValue)"
   ]
  },
  {
   "cell_type": "code",
   "execution_count": 6,
   "metadata": {},
   "outputs": [
    {
     "name": "stdout",
     "output_type": "stream",
     "text": [
      "12.81\n"
     ]
    }
   ],
   "source": [
    "stdVar = spark.sql(f\"\"\"\n",
    "  select  round(std(h.length_of_stay),2) as std_length_of_stay\n",
    "       \n",
    "  from {userName}.{algorithmName}_Hospital h\n",
    "  \n",
    "  left join {userName}.{algorithmName}_Vaccine v\n",
    "    on h.personid = v.personId\n",
    "      and h.tenant = v.tenant\n",
    "\n",
    "   where    \n",
    "      datediff(h.serviceDate, h.dischargeDate) < 0\n",
    "      and h.length_of_stay > 0\n",
    " \n",
    "      and  ( datediff(h.serviceDate, v.vaccine_date) <= 0\n",
    "             or v.vaccine_date is null) \n",
    "       \n",
    "\"\"\")\n",
    "stdValue_nonVac = stdVar.first()['std_length_of_stay']\n",
    "print(stdValue_nonVac)"
   ]
  },
  {
   "cell_type": "code",
   "execution_count": 7,
   "metadata": {},
   "outputs": [
    {
     "name": "stdout",
     "output_type": "stream",
     "text": [
      "5.62\n"
     ]
    }
   ],
   "source": [
    "stdVar = spark.sql(f\"\"\"\n",
    "  select  round(std(h.length_of_stay),2) as std_length_of_stay\n",
    "       \n",
    "  from {userName}.{algorithmName}_Hospital h\n",
    "  \n",
    "  left join {userName}.{algorithmName}_Vaccine v\n",
    "    on h.personid = v.personId\n",
    "      and h.tenant = v.tenant\n",
    "\n",
    "   where    \n",
    "      datediff(h.serviceDate, h.dischargeDate) < 0\n",
    "      and h.length_of_stay > 0\n",
    "               \n",
    "      and  ( datediff(h.serviceDate, v.vaccine_date) > 0\n",
    "             and v.vaccine_date is not null)        \n",
    "      \n",
    "    \n",
    "\"\"\")\n",
    "stdValue_vac = stdVar.first()['std_length_of_stay']\n",
    "print(stdValue_vac)"
   ]
  },
  {
   "cell_type": "code",
   "execution_count": 8,
   "metadata": {},
   "outputs": [
    {
     "data": {
      "text/html": [
       "<div>\n",
       "<style scoped>\n",
       "    .dataframe tbody tr th:only-of-type {\n",
       "        vertical-align: middle;\n",
       "    }\n",
       "\n",
       "    .dataframe tbody tr th {\n",
       "        vertical-align: top;\n",
       "    }\n",
       "\n",
       "    .dataframe thead th {\n",
       "        text-align: right;\n",
       "    }\n",
       "</style>\n",
       "<table border=\"1\" class=\"dataframe\">\n",
       "  <thead>\n",
       "    <tr style=\"text-align: right;\">\n",
       "      <th></th>\n",
       "      <th>segment</th>\n",
       "      <th>count_of_non_vaccinated_patients</th>\n",
       "      <th>mean_length_of_stay</th>\n",
       "    </tr>\n",
       "  </thead>\n",
       "  <tbody>\n",
       "    <tr>\n",
       "      <th>0</th>\n",
       "      <td>Academic Hospital</td>\n",
       "      <td>17784</td>\n",
       "      <td>7.76</td>\n",
       "    </tr>\n",
       "    <tr>\n",
       "      <th>1</th>\n",
       "      <td>Childrens Hospital</td>\n",
       "      <td>2601</td>\n",
       "      <td>5.83</td>\n",
       "    </tr>\n",
       "    <tr>\n",
       "      <th>2</th>\n",
       "      <td>Community Hospital</td>\n",
       "      <td>3202</td>\n",
       "      <td>6.32</td>\n",
       "    </tr>\n",
       "    <tr>\n",
       "      <th>3</th>\n",
       "      <td>Integrated Delivery Network</td>\n",
       "      <td>226129</td>\n",
       "      <td>7.76</td>\n",
       "    </tr>\n",
       "    <tr>\n",
       "      <th>4</th>\n",
       "      <td>Other</td>\n",
       "      <td>388</td>\n",
       "      <td>5.39</td>\n",
       "    </tr>\n",
       "    <tr>\n",
       "      <th>5</th>\n",
       "      <td>Regional Hospital</td>\n",
       "      <td>43203</td>\n",
       "      <td>7.85</td>\n",
       "    </tr>\n",
       "  </tbody>\n",
       "</table>\n",
       "</div>"
      ],
      "text/plain": [
       "                       segment  count_of_non_vaccinated_patients  \\\n",
       "0            Academic Hospital                             17784   \n",
       "1           Childrens Hospital                              2601   \n",
       "2           Community Hospital                              3202   \n",
       "3  Integrated Delivery Network                            226129   \n",
       "4                        Other                               388   \n",
       "5            Regional Hospital                             43203   \n",
       "\n",
       "   mean_length_of_stay  \n",
       "0                 7.76  \n",
       "1                 5.83  \n",
       "2                 6.32  \n",
       "3                 7.76  \n",
       "4                 5.39  \n",
       "5                 7.85  "
      ]
     },
     "execution_count": 8,
     "metadata": {},
     "output_type": "execute_result"
    }
   ],
   "source": [
    "spark.sql(f\"\"\"\n",
    "\n",
    "          select\n",
    "              case\n",
    "                    when tenant_segment like 'Community%' then \"Community Hospital\"\n",
    "                    when tenant_segment = 'Academic' then 'Academic Hospital'\n",
    "                    when tenant_segment = 'Childrens' then 'Childrens Hospital'\n",
    "                    when tenant_segment = 'IDN' then 'Integrated Delivery Network'\n",
    "                    when tenant_segment = 'Regional Hospital' then 'Regional Hospital'\n",
    "                else 'Other'\n",
    "                end as segment\n",
    "              , count(h.personId) as count_of_non_vaccinated_patients\n",
    "              , round(mean(h.length_of_stay),2) as mean_length_of_stay\n",
    "        from {userName}.{algorithmName}_Hospital h\n",
    "          \n",
    "        left join {userName}.{algorithmName}_Vaccine v\n",
    "            on h.personid = v.personId\n",
    "              and h.tenant = v.tenant\n",
    "\n",
    "           where    \n",
    "              datediff(h.serviceDate, h.dischargeDate) < 0\n",
    "              and h.length_of_stay > 0\n",
    "              and h.length_of_stay < 2*{stdValue_nonVac}\n",
    "\n",
    "              and  ( datediff(h.serviceDate, v.vaccine_date) <= 0\n",
    "                     or v.vaccine_date is null) \n",
    "               \n",
    "        group by 1\n",
    "        order by 1\n",
    "     \n",
    "\"\"\").toPandas()"
   ]
  },
  {
   "cell_type": "code",
   "execution_count": 9,
   "metadata": {},
   "outputs": [
    {
     "data": {
      "text/html": [
       "<div>\n",
       "<style scoped>\n",
       "    .dataframe tbody tr th:only-of-type {\n",
       "        vertical-align: middle;\n",
       "    }\n",
       "\n",
       "    .dataframe tbody tr th {\n",
       "        vertical-align: top;\n",
       "    }\n",
       "\n",
       "    .dataframe thead th {\n",
       "        text-align: right;\n",
       "    }\n",
       "</style>\n",
       "<table border=\"1\" class=\"dataframe\">\n",
       "  <thead>\n",
       "    <tr style=\"text-align: right;\">\n",
       "      <th></th>\n",
       "      <th>count_of_non_vaccinated_patients</th>\n",
       "      <th>mean_length_of_stay</th>\n",
       "    </tr>\n",
       "  </thead>\n",
       "  <tbody>\n",
       "    <tr>\n",
       "      <th>0</th>\n",
       "      <td>8092</td>\n",
       "      <td>7.15</td>\n",
       "    </tr>\n",
       "  </tbody>\n",
       "</table>\n",
       "</div>"
      ],
      "text/plain": [
       "   count_of_non_vaccinated_patients  mean_length_of_stay\n",
       "0                              8092                 7.15"
      ]
     },
     "execution_count": 9,
     "metadata": {},
     "output_type": "execute_result"
    }
   ],
   "source": [
    "spark.sql(f\"\"\"\n",
    "\n",
    "        select count(h.personId) as count_of_non_vaccinated_patients\n",
    "               , round(mean(h.length_of_stay),2) as mean_length_of_stay\n",
    "        from {userName}.{algorithmName}_Hospital h\n",
    "          \n",
    "        left join {userName}.{algorithmName}_Vaccine v\n",
    "            on h.personid = v.personId\n",
    "              and h.tenant = v.tenant\n",
    "\n",
    "           where    \n",
    "              datediff(h.serviceDate, h.dischargeDate) < 0\n",
    "              and h.length_of_stay > 0\n",
    "              and h.length_of_stay < 2*{stdValue_nonVac}\n",
    "\n",
    "              and length(h.dischargeDate) > 3\n",
    "              and length(h.serviceDate) > 3\n",
    "\n",
    "\n",
    "              and  ( datediff(h.serviceDate, v.vaccine_date) <= 0\n",
    "                    or v.vaccine_date is not null)  \n",
    "\n",
    "\"\"\").toPandas()"
   ]
  },
  {
   "cell_type": "code",
   "execution_count": 10,
   "metadata": {},
   "outputs": [
    {
     "data": {
      "text/html": [
       "<div>\n",
       "<style scoped>\n",
       "    .dataframe tbody tr th:only-of-type {\n",
       "        vertical-align: middle;\n",
       "    }\n",
       "\n",
       "    .dataframe tbody tr th {\n",
       "        vertical-align: top;\n",
       "    }\n",
       "\n",
       "    .dataframe thead th {\n",
       "        text-align: right;\n",
       "    }\n",
       "</style>\n",
       "<table border=\"1\" class=\"dataframe\">\n",
       "  <thead>\n",
       "    <tr style=\"text-align: right;\">\n",
       "      <th></th>\n",
       "      <th>segment</th>\n",
       "      <th>count_of_vaccinated_patients</th>\n",
       "      <th>mean_length_of_stay</th>\n",
       "    </tr>\n",
       "  </thead>\n",
       "  <tbody>\n",
       "    <tr>\n",
       "      <th>0</th>\n",
       "      <td>Academic Hospital</td>\n",
       "      <td>18</td>\n",
       "      <td>3.83</td>\n",
       "    </tr>\n",
       "    <tr>\n",
       "      <th>1</th>\n",
       "      <td>Childrens Hospital</td>\n",
       "      <td>2</td>\n",
       "      <td>8.00</td>\n",
       "    </tr>\n",
       "    <tr>\n",
       "      <th>2</th>\n",
       "      <td>Community Hospital</td>\n",
       "      <td>21</td>\n",
       "      <td>5.29</td>\n",
       "    </tr>\n",
       "    <tr>\n",
       "      <th>3</th>\n",
       "      <td>Integrated Delivery Network</td>\n",
       "      <td>186</td>\n",
       "      <td>5.35</td>\n",
       "    </tr>\n",
       "    <tr>\n",
       "      <th>4</th>\n",
       "      <td>Other</td>\n",
       "      <td>2</td>\n",
       "      <td>6.50</td>\n",
       "    </tr>\n",
       "    <tr>\n",
       "      <th>5</th>\n",
       "      <td>Regional Hospital</td>\n",
       "      <td>110</td>\n",
       "      <td>5.31</td>\n",
       "    </tr>\n",
       "  </tbody>\n",
       "</table>\n",
       "</div>"
      ],
      "text/plain": [
       "                       segment  count_of_vaccinated_patients  \\\n",
       "0            Academic Hospital                            18   \n",
       "1           Childrens Hospital                             2   \n",
       "2           Community Hospital                            21   \n",
       "3  Integrated Delivery Network                           186   \n",
       "4                        Other                             2   \n",
       "5            Regional Hospital                           110   \n",
       "\n",
       "   mean_length_of_stay  \n",
       "0                 3.83  \n",
       "1                 8.00  \n",
       "2                 5.29  \n",
       "3                 5.35  \n",
       "4                 6.50  \n",
       "5                 5.31  "
      ]
     },
     "execution_count": 10,
     "metadata": {},
     "output_type": "execute_result"
    }
   ],
   "source": [
    "spark.sql(f\"\"\"\n",
    "\n",
    "          select\n",
    "                case\n",
    "                    when tenant_segment like 'Community%' then \"Community Hospital\"\n",
    "                    when tenant_segment = 'Academic' then 'Academic Hospital'\n",
    "                    when tenant_segment = 'Childrens' then 'Childrens Hospital'\n",
    "                    when tenant_segment = 'IDN' then 'Integrated Delivery Network'\n",
    "                    when tenant_segment = 'Regional Hospital' then 'Regional Hospital'\n",
    "                else 'Other'\n",
    "                end as segment\n",
    "              , count(h.personId) as count_of_vaccinated_patients\n",
    "              , round(mean(h.length_of_stay),2) as mean_length_of_stay\n",
    "        from {userName}.{algorithmName}_Hospital h\n",
    "          \n",
    "        left join {userName}.{algorithmName}_Vaccine v\n",
    "            on h.personid = v.personId\n",
    "              and h.tenant = v.tenant\n",
    "\n",
    "           where    \n",
    "              datediff(h.serviceDate, h.dischargeDate) < 0\n",
    "              and h.length_of_stay > 0\n",
    "              and h.length_of_stay < 2*{stdValue_vac}\n",
    "\n",
    "              and  ( datediff(h.serviceDate, v.vaccine_date) > 0\n",
    "                    and v.vaccine_date is not null)  \n",
    "               \n",
    "        group by 1\n",
    "        order by 1\n",
    "     \n",
    "\"\"\").toPandas()"
   ]
  },
  {
   "cell_type": "code",
   "execution_count": 11,
   "metadata": {},
   "outputs": [
    {
     "data": {
      "text/html": [
       "<div>\n",
       "<style scoped>\n",
       "    .dataframe tbody tr th:only-of-type {\n",
       "        vertical-align: middle;\n",
       "    }\n",
       "\n",
       "    .dataframe tbody tr th {\n",
       "        vertical-align: top;\n",
       "    }\n",
       "\n",
       "    .dataframe thead th {\n",
       "        text-align: right;\n",
       "    }\n",
       "</style>\n",
       "<table border=\"1\" class=\"dataframe\">\n",
       "  <thead>\n",
       "    <tr style=\"text-align: right;\">\n",
       "      <th></th>\n",
       "      <th>count_of_vaccinated_patients</th>\n",
       "      <th>mean_length_of_stay</th>\n",
       "    </tr>\n",
       "  </thead>\n",
       "  <tbody>\n",
       "    <tr>\n",
       "      <th>0</th>\n",
       "      <td>339</td>\n",
       "      <td>5.28</td>\n",
       "    </tr>\n",
       "  </tbody>\n",
       "</table>\n",
       "</div>"
      ],
      "text/plain": [
       "   count_of_vaccinated_patients  mean_length_of_stay\n",
       "0                           339                 5.28"
      ]
     },
     "execution_count": 11,
     "metadata": {},
     "output_type": "execute_result"
    }
   ],
   "source": [
    "spark.sql(f\"\"\"\n",
    "\n",
    "          select count(h.personId) as count_of_vaccinated_patients\n",
    "                , round(mean(h.length_of_stay),2) as mean_length_of_stay\n",
    "        from {userName}.{algorithmName}_Hospital h\n",
    "          \n",
    "        left join {userName}.{algorithmName}_Vaccine v\n",
    "            on h.personid = v.personId\n",
    "              and h.tenant = v.tenant\n",
    "\n",
    "           where    \n",
    "              datediff(h.serviceDate, h.dischargeDate) < 0\n",
    "              and h.length_of_stay > 0\n",
    "              and h.length_of_stay < 2*{stdValue_vac}\n",
    "\n",
    "              and length(h.dischargeDate) > 3\n",
    "              and length(h.serviceDate) > 3\n",
    "\n",
    "\n",
    "              and  ( datediff(h.serviceDate, v.vaccine_date) > 0\n",
    "                    and v.vaccine_date is not null)  \n",
    "               \n",
    "      \n",
    "\"\"\").toPandas()"
   ]
  },
  {
   "cell_type": "code",
   "execution_count": 12,
   "metadata": {},
   "outputs": [
    {
     "data": {
      "text/html": [
       "<div>\n",
       "<style scoped>\n",
       "    .dataframe tbody tr th:only-of-type {\n",
       "        vertical-align: middle;\n",
       "    }\n",
       "\n",
       "    .dataframe tbody tr th {\n",
       "        vertical-align: top;\n",
       "    }\n",
       "\n",
       "    .dataframe thead th {\n",
       "        text-align: right;\n",
       "    }\n",
       "</style>\n",
       "<table border=\"1\" class=\"dataframe\">\n",
       "  <thead>\n",
       "    <tr style=\"text-align: right;\">\n",
       "      <th></th>\n",
       "      <th>segment</th>\n",
       "      <th>count_of_all_patients</th>\n",
       "      <th>mean_length_of_stay</th>\n",
       "    </tr>\n",
       "  </thead>\n",
       "  <tbody>\n",
       "    <tr>\n",
       "      <th>0</th>\n",
       "      <td>Academic Hospital</td>\n",
       "      <td>17807</td>\n",
       "      <td>7.76</td>\n",
       "    </tr>\n",
       "    <tr>\n",
       "      <th>1</th>\n",
       "      <td>Childrens Hospital</td>\n",
       "      <td>2603</td>\n",
       "      <td>5.83</td>\n",
       "    </tr>\n",
       "    <tr>\n",
       "      <th>2</th>\n",
       "      <td>Community Hospital</td>\n",
       "      <td>3229</td>\n",
       "      <td>6.31</td>\n",
       "    </tr>\n",
       "    <tr>\n",
       "      <th>3</th>\n",
       "      <td>Integrated Delivery Network</td>\n",
       "      <td>226360</td>\n",
       "      <td>7.76</td>\n",
       "    </tr>\n",
       "    <tr>\n",
       "      <th>4</th>\n",
       "      <td>Other</td>\n",
       "      <td>390</td>\n",
       "      <td>5.39</td>\n",
       "    </tr>\n",
       "    <tr>\n",
       "      <th>5</th>\n",
       "      <td>Regional Hospital</td>\n",
       "      <td>43326</td>\n",
       "      <td>7.85</td>\n",
       "    </tr>\n",
       "  </tbody>\n",
       "</table>\n",
       "</div>"
      ],
      "text/plain": [
       "                       segment  count_of_all_patients  mean_length_of_stay\n",
       "0            Academic Hospital                  17807                 7.76\n",
       "1           Childrens Hospital                   2603                 5.83\n",
       "2           Community Hospital                   3229                 6.31\n",
       "3  Integrated Delivery Network                 226360                 7.76\n",
       "4                        Other                    390                 5.39\n",
       "5            Regional Hospital                  43326                 7.85"
      ]
     },
     "execution_count": 12,
     "metadata": {},
     "output_type": "execute_result"
    }
   ],
   "source": [
    "spark.sql(f\"\"\"\n",
    "\n",
    "          select\n",
    "                case\n",
    "                    when tenant_segment like 'Community%' then \"Community Hospital\"\n",
    "                    when tenant_segment = 'Academic' then 'Academic Hospital'\n",
    "                    when tenant_segment = 'Childrens' then 'Childrens Hospital'\n",
    "                    when tenant_segment = 'IDN' then 'Integrated Delivery Network'\n",
    "                    when tenant_segment = 'Regional Hospital' then 'Regional Hospital'\n",
    "                else 'Other'\n",
    "                end as segment\n",
    "              , count(h.personId) as count_of_all_patients\n",
    "              , round(mean(h.length_of_stay),2) as mean_length_of_stay\n",
    "        from {userName}.{algorithmName}_Hospital h\n",
    "          \n",
    "        left join {userName}.{algorithmName}_Vaccine v\n",
    "            on h.personid = v.personId\n",
    "              and h.tenant = v.tenant\n",
    "\n",
    "           where    \n",
    "              datediff(h.serviceDate, h.dischargeDate) < 0\n",
    "              and h.length_of_stay > 0\n",
    "              and h.length_of_stay < 2*{stdValue}\n",
    "\n",
    "        group by 1\n",
    "        order by 1\n",
    "     \n",
    "\"\"\").toPandas()"
   ]
  },
  {
   "cell_type": "code",
   "execution_count": 13,
   "metadata": {},
   "outputs": [
    {
     "data": {
      "text/html": [
       "<div>\n",
       "<style scoped>\n",
       "    .dataframe tbody tr th:only-of-type {\n",
       "        vertical-align: middle;\n",
       "    }\n",
       "\n",
       "    .dataframe tbody tr th {\n",
       "        vertical-align: top;\n",
       "    }\n",
       "\n",
       "    .dataframe thead th {\n",
       "        text-align: right;\n",
       "    }\n",
       "</style>\n",
       "<table border=\"1\" class=\"dataframe\">\n",
       "  <thead>\n",
       "    <tr style=\"text-align: right;\">\n",
       "      <th></th>\n",
       "      <th>count_of_all_patients</th>\n",
       "      <th>mean_length_of_stay</th>\n",
       "    </tr>\n",
       "  </thead>\n",
       "  <tbody>\n",
       "    <tr>\n",
       "      <th>0</th>\n",
       "      <td>293715</td>\n",
       "      <td>7.74</td>\n",
       "    </tr>\n",
       "  </tbody>\n",
       "</table>\n",
       "</div>"
      ],
      "text/plain": [
       "   count_of_all_patients  mean_length_of_stay\n",
       "0                 293715                 7.74"
      ]
     },
     "execution_count": 13,
     "metadata": {},
     "output_type": "execute_result"
    }
   ],
   "source": [
    "spark.sql(f\"\"\"\n",
    "\n",
    "        select count(h.personId) as count_of_all_patients\n",
    "              , round(mean(h.length_of_stay),2) as mean_length_of_stay\n",
    "        from {userName}.{algorithmName}_Hospital h\n",
    "          \n",
    "        left join {userName}.{algorithmName}_Vaccine v\n",
    "            on h.personid = v.personId\n",
    "              and h.tenant = v.tenant\n",
    "\n",
    "           where    \n",
    "              datediff(h.serviceDate, h.dischargeDate) < 0\n",
    "              and h.length_of_stay > 0\n",
    "              and h.length_of_stay < 2*{stdValue}\n",
    "\n",
    "              and length(h.dischargeDate) > 3\n",
    "              and length(h.serviceDate) > 3\n",
    "\n",
    "     \n",
    "\"\"\").toPandas()"
   ]
  },
  {
   "cell_type": "code",
   "execution_count": null,
   "metadata": {},
   "outputs": [],
   "source": []
  },
  {
   "cell_type": "code",
   "execution_count": null,
   "metadata": {},
   "outputs": [],
   "source": []
  }
 ],
 "metadata": {
  "kernelspec": {
   "display_name": "PySpark",
   "language": "python",
   "name": "pyspark"
  },
  "language_info": {
   "codemirror_mode": {
    "name": "ipython",
    "version": 3
   },
   "file_extension": ".py",
   "mimetype": "text/x-python",
   "name": "python",
   "nbconvert_exporter": "python",
   "pygments_lexer": "ipython3",
   "version": "3.7.6"
  }
 },
 "nbformat": 4,
 "nbformat_minor": 4
}
