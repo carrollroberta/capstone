{
 "cells": [
  {
   "cell_type": "markdown",
   "metadata": {},
   "source": [
    "# Coronavirus Data Analysis"
   ]
  },
  {
   "cell_type": "code",
   "execution_count": 1,
   "metadata": {},
   "outputs": [],
   "source": [
    "import pandas as pd\n",
    "import numpy as np"
   ]
  },
  {
   "cell_type": "code",
   "execution_count": 2,
   "metadata": {},
   "outputs": [
    {
     "data": {
      "text/plain": [
       "'application_1631937024592_0319'"
      ]
     },
     "execution_count": 2,
     "metadata": {},
     "output_type": "execute_result"
    }
   ],
   "source": [
    "spark.sparkContext.applicationId"
   ]
  },
  {
   "cell_type": "code",
   "execution_count": 3,
   "metadata": {},
   "outputs": [],
   "source": [
    "pd.options.display.max_columns = 35"
   ]
  },
  {
   "cell_type": "code",
   "execution_count": 4,
   "metadata": {},
   "outputs": [
    {
     "name": "stdout",
     "output_type": "stream",
     "text": [
      "DA0ACEE61E2E43849FC7A58C259D0C50\n",
      "5E259FD575B54D4982D32D4E92DCA831\n"
     ]
    }
   ],
   "source": [
    "from foresight.discern import broadcast_discern, push_discern, pop_discern\n",
    "\n",
    "### care management new default will be 5e259fd5-75b5-4d49-82d3-2d4e92dca831 for any new clients or \n",
    "###  any algorithm wiki not line for line with Cerner Standard then would be using the new context  \n",
    "\n",
    "pd.set_option('display.max_colwidth', None)\n",
    "\n",
    "# Location of the discernontology database\n",
    "root = 's3://consult-datalab-persistence-s3-data/discernontology/v1/'   ##<------------- change it to your stack without the v1/\n",
    "\n",
    "contextid = ['da0acee6-1e2e-4384-9fc7-a58c259d0c50', '5E259FD575B54D4982D32D4E92DCA831'] \n",
    "\n",
    "# Loop that removes all hypthens and captializes all letters. Sets up the file location\n",
    "for contextid in contextid:\n",
    "    contextid = contextid.upper().replace(\"-\", \"\")\n",
    "    push_discern(spark, contextid, discern_root=root)\n",
    "    print(contextid)\n",
    "\n",
    "defaultcontext = 'DA0ACEE61E2E43849FC7A58C259D0C50'   \n",
    "defaultcontext1 = '5E259FD575B54D4982D32D4E92DCA831' "
   ]
  },
  {
   "cell_type": "code",
   "execution_count": 5,
   "metadata": {},
   "outputs": [
    {
     "name": "stdout",
     "output_type": "stream",
     "text": [
      "Using database: real_world_data_2021_Q2,\n"
     ]
    }
   ],
   "source": [
    "db = \"real_world_data_2021_Q2\"\n",
    "spark.sql(\"USE {}\".format(db))\n",
    "print(\"Using database: {},\".format(db))"
   ]
  },
  {
   "cell_type": "code",
   "execution_count": 6,
   "metadata": {},
   "outputs": [
    {
     "data": {
      "text/html": [
       "<div>\n",
       "<style scoped>\n",
       "    .dataframe tbody tr th:only-of-type {\n",
       "        vertical-align: middle;\n",
       "    }\n",
       "\n",
       "    .dataframe tbody tr th {\n",
       "        vertical-align: top;\n",
       "    }\n",
       "\n",
       "    .dataframe thead th {\n",
       "        text-align: right;\n",
       "    }\n",
       "</style>\n",
       "<table border=\"1\" class=\"dataframe\">\n",
       "  <thead>\n",
       "    <tr style=\"text-align: right;\">\n",
       "      <th></th>\n",
       "      <th>database</th>\n",
       "      <th>tableName</th>\n",
       "      <th>isTemporary</th>\n",
       "    </tr>\n",
       "  </thead>\n",
       "  <tbody>\n",
       "    <tr>\n",
       "      <th>0</th>\n",
       "      <td>real_world_data_2021_q2</td>\n",
       "      <td>allergy</td>\n",
       "      <td>False</td>\n",
       "    </tr>\n",
       "    <tr>\n",
       "      <th>1</th>\n",
       "      <td>real_world_data_2021_q2</td>\n",
       "      <td>clinical_event</td>\n",
       "      <td>False</td>\n",
       "    </tr>\n",
       "    <tr>\n",
       "      <th>2</th>\n",
       "      <td>real_world_data_2021_q2</td>\n",
       "      <td>condition</td>\n",
       "      <td>False</td>\n",
       "    </tr>\n",
       "    <tr>\n",
       "      <th>3</th>\n",
       "      <td>real_world_data_2021_q2</td>\n",
       "      <td>demographics</td>\n",
       "      <td>False</td>\n",
       "    </tr>\n",
       "    <tr>\n",
       "      <th>4</th>\n",
       "      <td>real_world_data_2021_q2</td>\n",
       "      <td>encounter</td>\n",
       "      <td>False</td>\n",
       "    </tr>\n",
       "    <tr>\n",
       "      <th>5</th>\n",
       "      <td>real_world_data_2021_q2</td>\n",
       "      <td>immunization</td>\n",
       "      <td>False</td>\n",
       "    </tr>\n",
       "    <tr>\n",
       "      <th>6</th>\n",
       "      <td>real_world_data_2021_q2</td>\n",
       "      <td>lab</td>\n",
       "      <td>False</td>\n",
       "    </tr>\n",
       "    <tr>\n",
       "      <th>7</th>\n",
       "      <td>real_world_data_2021_q2</td>\n",
       "      <td>measurement</td>\n",
       "      <td>False</td>\n",
       "    </tr>\n",
       "    <tr>\n",
       "      <th>8</th>\n",
       "      <td>real_world_data_2021_q2</td>\n",
       "      <td>medication</td>\n",
       "      <td>False</td>\n",
       "    </tr>\n",
       "    <tr>\n",
       "      <th>9</th>\n",
       "      <td>real_world_data_2021_q2</td>\n",
       "      <td>medication_administration</td>\n",
       "      <td>False</td>\n",
       "    </tr>\n",
       "    <tr>\n",
       "      <th>10</th>\n",
       "      <td>real_world_data_2021_q2</td>\n",
       "      <td>order_list</td>\n",
       "      <td>False</td>\n",
       "    </tr>\n",
       "    <tr>\n",
       "      <th>11</th>\n",
       "      <td>real_world_data_2021_q2</td>\n",
       "      <td>problem_list</td>\n",
       "      <td>False</td>\n",
       "    </tr>\n",
       "    <tr>\n",
       "      <th>12</th>\n",
       "      <td>real_world_data_2021_q2</td>\n",
       "      <td>procedure</td>\n",
       "      <td>False</td>\n",
       "    </tr>\n",
       "    <tr>\n",
       "      <th>13</th>\n",
       "      <td>real_world_data_2021_q2</td>\n",
       "      <td>questionnaire</td>\n",
       "      <td>False</td>\n",
       "    </tr>\n",
       "    <tr>\n",
       "      <th>14</th>\n",
       "      <td>real_world_data_2021_q2</td>\n",
       "      <td>tenant_attributes</td>\n",
       "      <td>False</td>\n",
       "    </tr>\n",
       "  </tbody>\n",
       "</table>\n",
       "</div>"
      ],
      "text/plain": [
       "                   database                  tableName  isTemporary\n",
       "0   real_world_data_2021_q2                    allergy        False\n",
       "1   real_world_data_2021_q2             clinical_event        False\n",
       "2   real_world_data_2021_q2                  condition        False\n",
       "3   real_world_data_2021_q2               demographics        False\n",
       "4   real_world_data_2021_q2                  encounter        False\n",
       "5   real_world_data_2021_q2               immunization        False\n",
       "6   real_world_data_2021_q2                        lab        False\n",
       "7   real_world_data_2021_q2                measurement        False\n",
       "8   real_world_data_2021_q2                 medication        False\n",
       "9   real_world_data_2021_q2  medication_administration        False\n",
       "10  real_world_data_2021_q2                 order_list        False\n",
       "11  real_world_data_2021_q2               problem_list        False\n",
       "12  real_world_data_2021_q2                  procedure        False\n",
       "13  real_world_data_2021_q2              questionnaire        False\n",
       "14  real_world_data_2021_q2          tenant_attributes        False"
      ]
     },
     "execution_count": 6,
     "metadata": {},
     "output_type": "execute_result"
    }
   ],
   "source": [
    "spark.sql('show tables').toPandas()"
   ]
  },
  {
   "cell_type": "markdown",
   "metadata": {},
   "source": [
    "### Create Variables for Queries"
   ]
  },
  {
   "cell_type": "code",
   "execution_count": 7,
   "metadata": {},
   "outputs": [
    {
     "name": "stdout",
     "output_type": "stream",
     "text": [
      "365\n",
      "365\n",
      "365\n",
      "user_rc047407\n",
      "CoronavirusLengthOfStay\n"
     ]
    }
   ],
   "source": [
    "# Look back days variables\n",
    "daysInterval = 365\n",
    "print(daysInterval)\n",
    "maxDays = 365\n",
    "print(maxDays)\n",
    "oneYearInterval=365\n",
    "print(oneYearInterval)\n",
    "\n",
    "# Username variable\n",
    "user_id = 'rc047407'           ####<-------------------- change to your user id (Ex: tl068507)\n",
    "userName = 'user_' + user_id\n",
    "print(userName)\n",
    "\n",
    "# Algorithm name variable\n",
    "algorithmName='CoronavirusLengthOfStay'\n",
    "print(algorithmName)"
   ]
  },
  {
   "cell_type": "code",
   "execution_count": 8,
   "metadata": {},
   "outputs": [
    {
     "name": "stdout",
     "output_type": "stream",
     "text": [
      "++\n",
      "||\n",
      "++\n",
      "++\n",
      "\n"
     ]
    }
   ],
   "source": [
    "spark.sql(\"\"\"CREATE SCHEMA IF NOT EXISTS {userName}\"\"\".format(**{\n",
    "    'userName':userName\n",
    "})).show()"
   ]
  },
  {
   "cell_type": "code",
   "execution_count": 9,
   "metadata": {},
   "outputs": [
    {
     "name": "stdout",
     "output_type": "stream",
     "text": [
      "root\n",
      " |-- questionnaireid: string (nullable = true)\n",
      " |-- personid: string (nullable = true)\n",
      " |-- name: struct (nullable = true)\n",
      " |    |-- standard: struct (nullable = true)\n",
      " |    |    |-- id: string (nullable = true)\n",
      " |    |    |-- codingSystemId: string (nullable = true)\n",
      " |    |    |-- primaryDisplay: string (nullable = true)\n",
      " |    |-- standardCodings: array (nullable = true)\n",
      " |    |    |-- element: struct (containsNull = true)\n",
      " |    |    |    |-- id: string (nullable = true)\n",
      " |    |    |    |-- codingSystemId: string (nullable = true)\n",
      " |    |    |    |-- primaryDisplay: string (nullable = true)\n",
      " |-- status: struct (nullable = true)\n",
      " |    |-- standard: struct (nullable = true)\n",
      " |    |    |-- id: string (nullable = true)\n",
      " |    |    |-- codingSystemId: string (nullable = true)\n",
      " |    |    |-- primaryDisplay: string (nullable = true)\n",
      " |    |-- standardCodings: array (nullable = true)\n",
      " |    |    |-- element: struct (containsNull = true)\n",
      " |    |    |    |-- id: string (nullable = true)\n",
      " |    |    |    |-- codingSystemId: string (nullable = true)\n",
      " |    |    |    |-- primaryDisplay: string (nullable = true)\n",
      " |-- authortype: string (nullable = true)\n",
      " |-- recordingprovider: string (nullable = true)\n",
      " |-- recordeddate: string (nullable = true)\n",
      " |-- actions: array (nullable = true)\n",
      " |    |-- element: struct (containsNull = true)\n",
      " |    |    |-- standard: struct (nullable = true)\n",
      " |    |    |    |-- id: string (nullable = true)\n",
      " |    |    |    |-- codingSystemId: string (nullable = true)\n",
      " |    |    |    |-- primaryDisplay: string (nullable = true)\n",
      " |    |    |-- standardCodings: array (nullable = true)\n",
      " |    |    |    |-- element: struct (containsNull = true)\n",
      " |    |    |    |    |-- id: string (nullable = true)\n",
      " |    |    |    |    |-- codingSystemId: string (nullable = true)\n",
      " |    |    |    |    |-- primaryDisplay: string (nullable = true)\n",
      " |-- active: boolean (nullable = true)\n",
      " |-- source: string (nullable = true)\n",
      " |-- questiongroup: struct (nullable = true)\n",
      " |    |-- name: struct (nullable = true)\n",
      " |    |    |-- standard: struct (nullable = true)\n",
      " |    |    |    |-- id: string (nullable = true)\n",
      " |    |    |    |-- codingSystemId: string (nullable = true)\n",
      " |    |    |    |-- primaryDisplay: string (nullable = true)\n",
      " |    |    |-- standardCodings: array (nullable = true)\n",
      " |    |    |    |-- element: struct (containsNull = true)\n",
      " |    |    |    |    |-- id: string (nullable = true)\n",
      " |    |    |    |    |-- codingSystemId: string (nullable = true)\n",
      " |    |    |    |    |-- primaryDisplay: string (nullable = true)\n",
      " |-- question: struct (nullable = true)\n",
      " |    |-- name: struct (nullable = true)\n",
      " |    |    |-- standard: struct (nullable = true)\n",
      " |    |    |    |-- id: string (nullable = true)\n",
      " |    |    |    |-- codingSystemId: string (nullable = true)\n",
      " |    |    |    |-- primaryDisplay: string (nullable = true)\n",
      " |    |    |-- standardCodings: array (nullable = true)\n",
      " |    |    |    |-- element: struct (containsNull = true)\n",
      " |    |    |    |    |-- id: string (nullable = true)\n",
      " |    |    |    |    |-- codingSystemId: string (nullable = true)\n",
      " |    |    |    |    |-- primaryDisplay: string (nullable = true)\n",
      " |-- answer: struct (nullable = true)\n",
      " |    |-- type: string (nullable = true)\n",
      " |    |-- numericvalue: struct (nullable = true)\n",
      " |    |    |-- value: string (nullable = true)\n",
      " |    |    |-- modifier: string (nullable = true)\n",
      " |    |-- datevalue: struct (nullable = true)\n",
      " |    |    |-- date: string (nullable = true)\n",
      " |    |-- unitofmeasure: struct (nullable = true)\n",
      " |    |    |-- standard: struct (nullable = true)\n",
      " |    |    |    |-- id: string (nullable = true)\n",
      " |    |    |    |-- codingSystemId: string (nullable = true)\n",
      " |    |    |    |-- primaryDisplay: string (nullable = true)\n",
      " |    |    |-- standardCodings: array (nullable = true)\n",
      " |    |    |    |-- element: struct (containsNull = true)\n",
      " |    |    |    |    |-- id: string (nullable = true)\n",
      " |    |    |    |    |-- codingSystemId: string (nullable = true)\n",
      " |    |    |    |    |-- primaryDisplay: string (nullable = true)\n",
      " |    |-- codifiedvalues: struct (nullable = true)\n",
      " |    |    |-- values: array (nullable = true)\n",
      " |    |    |    |-- element: struct (containsNull = true)\n",
      " |    |    |    |    |-- value: struct (nullable = true)\n",
      " |    |    |    |    |    |-- standard: struct (nullable = true)\n",
      " |    |    |    |    |    |    |-- id: string (nullable = true)\n",
      " |    |    |    |    |    |    |-- codingSystemId: string (nullable = true)\n",
      " |    |    |    |    |    |    |-- primaryDisplay: string (nullable = true)\n",
      " |    |    |    |    |    |-- standardCodings: array (nullable = true)\n",
      " |    |    |    |    |    |    |-- element: struct (containsNull = true)\n",
      " |    |    |    |    |    |    |    |-- id: string (nullable = true)\n",
      " |    |    |    |    |    |    |    |-- codingSystemId: string (nullable = true)\n",
      " |    |    |    |    |    |    |    |-- primaryDisplay: string (nullable = true)\n",
      " |-- tenant: integer (nullable = true)\n",
      "\n"
     ]
    }
   ],
   "source": [
    "spark.sql(\"\"\"select * from questionnaire \"\"\").printSchema()"
   ]
  },
  {
   "cell_type": "code",
   "execution_count": 10,
   "metadata": {},
   "outputs": [
    {
     "name": "stdout",
     "output_type": "stream",
     "text": [
      "root\n",
      " |-- personid: string (nullable = true)\n",
      " |-- birthdate: string (nullable = true)\n",
      " |-- dateofdeath: string (nullable = true)\n",
      " |-- gender: struct (nullable = true)\n",
      " |    |-- standard: struct (nullable = true)\n",
      " |    |    |-- id: string (nullable = true)\n",
      " |    |    |-- codingSystemId: string (nullable = true)\n",
      " |    |    |-- primaryDisplay: string (nullable = true)\n",
      " |    |-- standardCodings: array (nullable = true)\n",
      " |    |    |-- element: struct (containsNull = true)\n",
      " |    |    |    |-- id: string (nullable = true)\n",
      " |    |    |    |-- codingSystemId: string (nullable = true)\n",
      " |    |    |    |-- primaryDisplay: string (nullable = true)\n",
      " |-- birthsex: struct (nullable = true)\n",
      " |    |-- standard: struct (nullable = true)\n",
      " |    |    |-- id: string (nullable = true)\n",
      " |    |    |-- codingSystemId: string (nullable = true)\n",
      " |    |    |-- primaryDisplay: string (nullable = true)\n",
      " |    |-- standardCodings: array (nullable = true)\n",
      " |    |    |-- element: struct (containsNull = true)\n",
      " |    |    |    |-- id: string (nullable = true)\n",
      " |    |    |    |-- codingSystemId: string (nullable = true)\n",
      " |    |    |    |-- primaryDisplay: string (nullable = true)\n",
      " |-- maritalstatus: struct (nullable = true)\n",
      " |    |-- standard: struct (nullable = true)\n",
      " |    |    |-- id: string (nullable = true)\n",
      " |    |    |-- codingSystemId: string (nullable = true)\n",
      " |    |    |-- primaryDisplay: string (nullable = true)\n",
      " |    |-- standardCodings: array (nullable = true)\n",
      " |    |    |-- element: struct (containsNull = true)\n",
      " |    |    |    |-- id: string (nullable = true)\n",
      " |    |    |    |-- codingSystemId: string (nullable = true)\n",
      " |    |    |    |-- primaryDisplay: string (nullable = true)\n",
      " |-- races: array (nullable = true)\n",
      " |    |-- element: struct (containsNull = true)\n",
      " |    |    |-- standard: struct (nullable = true)\n",
      " |    |    |    |-- id: string (nullable = true)\n",
      " |    |    |    |-- codingSystemId: string (nullable = true)\n",
      " |    |    |    |-- primaryDisplay: string (nullable = true)\n",
      " |    |    |-- standardCodings: array (nullable = true)\n",
      " |    |    |    |-- element: struct (containsNull = true)\n",
      " |    |    |    |    |-- id: string (nullable = true)\n",
      " |    |    |    |    |-- codingSystemId: string (nullable = true)\n",
      " |    |    |    |    |-- primaryDisplay: string (nullable = true)\n",
      " |-- ethnicities: array (nullable = true)\n",
      " |    |-- element: struct (containsNull = true)\n",
      " |    |    |-- standard: struct (nullable = true)\n",
      " |    |    |    |-- id: string (nullable = true)\n",
      " |    |    |    |-- codingSystemId: string (nullable = true)\n",
      " |    |    |    |-- primaryDisplay: string (nullable = true)\n",
      " |    |    |-- standardCodings: array (nullable = true)\n",
      " |    |    |    |-- element: struct (containsNull = true)\n",
      " |    |    |    |    |-- id: string (nullable = true)\n",
      " |    |    |    |    |-- codingSystemId: string (nullable = true)\n",
      " |    |    |    |    |-- primaryDisplay: string (nullable = true)\n",
      " |-- deceased: boolean (nullable = true)\n",
      " |-- source: string (nullable = true)\n",
      " |-- zip_code: string (nullable = true)\n",
      " |-- active: boolean (nullable = true)\n",
      " |-- tenant: integer (nullable = true)\n",
      "\n"
     ]
    }
   ],
   "source": [
    "spark.sql(\"\"\"select * from demographics\"\"\").printSchema()"
   ]
  },
  {
   "cell_type": "code",
   "execution_count": 11,
   "metadata": {},
   "outputs": [
    {
     "name": "stdout",
     "output_type": "stream",
     "text": [
      "root\n",
      " |-- encounterid: string (nullable = true)\n",
      " |-- personid: string (nullable = true)\n",
      " |-- reasonforvisit: struct (nullable = true)\n",
      " |    |-- standard: struct (nullable = true)\n",
      " |    |    |-- id: string (nullable = true)\n",
      " |    |    |-- codingSystemId: string (nullable = true)\n",
      " |    |    |-- primaryDisplay: string (nullable = true)\n",
      " |    |-- standardCodings: array (nullable = true)\n",
      " |    |    |-- element: struct (containsNull = true)\n",
      " |    |    |    |-- id: string (nullable = true)\n",
      " |    |    |    |-- codingSystemId: string (nullable = true)\n",
      " |    |    |    |-- primaryDisplay: string (nullable = true)\n",
      " |-- financialclass: struct (nullable = true)\n",
      " |    |-- standard: struct (nullable = true)\n",
      " |    |    |-- id: string (nullable = true)\n",
      " |    |    |-- codingSystemId: string (nullable = true)\n",
      " |    |    |-- primaryDisplay: string (nullable = true)\n",
      " |    |-- standardCodings: array (nullable = true)\n",
      " |    |    |-- element: struct (containsNull = true)\n",
      " |    |    |    |-- id: string (nullable = true)\n",
      " |    |    |    |-- codingSystemId: string (nullable = true)\n",
      " |    |    |    |-- primaryDisplay: string (nullable = true)\n",
      " |-- hospitalservice: struct (nullable = true)\n",
      " |    |-- standard: struct (nullable = true)\n",
      " |    |    |-- id: string (nullable = true)\n",
      " |    |    |-- codingSystemId: string (nullable = true)\n",
      " |    |    |-- primaryDisplay: string (nullable = true)\n",
      " |    |-- standardCodings: array (nullable = true)\n",
      " |    |    |-- element: struct (containsNull = true)\n",
      " |    |    |    |-- id: string (nullable = true)\n",
      " |    |    |    |-- codingSystemId: string (nullable = true)\n",
      " |    |    |    |-- primaryDisplay: string (nullable = true)\n",
      " |-- classification: struct (nullable = true)\n",
      " |    |-- standard: struct (nullable = true)\n",
      " |    |    |-- id: string (nullable = true)\n",
      " |    |    |-- codingSystemId: string (nullable = true)\n",
      " |    |    |-- primaryDisplay: string (nullable = true)\n",
      " |    |-- standardCodings: array (nullable = true)\n",
      " |    |    |-- element: struct (containsNull = true)\n",
      " |    |    |    |-- id: string (nullable = true)\n",
      " |    |    |    |-- codingSystemId: string (nullable = true)\n",
      " |    |    |    |-- primaryDisplay: string (nullable = true)\n",
      " |-- type: struct (nullable = true)\n",
      " |    |-- standard: struct (nullable = true)\n",
      " |    |    |-- id: string (nullable = true)\n",
      " |    |    |-- codingSystemId: string (nullable = true)\n",
      " |    |    |-- primaryDisplay: string (nullable = true)\n",
      " |    |-- standardCodings: array (nullable = true)\n",
      " |    |    |-- element: struct (containsNull = true)\n",
      " |    |    |    |-- id: string (nullable = true)\n",
      " |    |    |    |-- codingSystemId: string (nullable = true)\n",
      " |    |    |    |-- primaryDisplay: string (nullable = true)\n",
      " |-- dischargedisposition: struct (nullable = true)\n",
      " |    |-- standard: struct (nullable = true)\n",
      " |    |    |-- id: string (nullable = true)\n",
      " |    |    |-- codingSystemId: string (nullable = true)\n",
      " |    |    |-- primaryDisplay: string (nullable = true)\n",
      " |    |-- standardCodings: array (nullable = true)\n",
      " |    |    |-- element: struct (containsNull = true)\n",
      " |    |    |    |-- id: string (nullable = true)\n",
      " |    |    |    |-- codingSystemId: string (nullable = true)\n",
      " |    |    |    |-- primaryDisplay: string (nullable = true)\n",
      " |-- dischargetolocation: struct (nullable = true)\n",
      " |    |-- standard: struct (nullable = true)\n",
      " |    |    |-- id: string (nullable = true)\n",
      " |    |    |-- codingSystemId: string (nullable = true)\n",
      " |    |    |-- primaryDisplay: string (nullable = true)\n",
      " |    |-- standardCodings: array (nullable = true)\n",
      " |    |    |-- element: struct (containsNull = true)\n",
      " |    |    |    |-- id: string (nullable = true)\n",
      " |    |    |    |-- codingSystemId: string (nullable = true)\n",
      " |    |    |    |-- primaryDisplay: string (nullable = true)\n",
      " |-- admissionsource: struct (nullable = true)\n",
      " |    |-- standard: struct (nullable = true)\n",
      " |    |    |-- id: string (nullable = true)\n",
      " |    |    |-- codingSystemId: string (nullable = true)\n",
      " |    |    |-- primaryDisplay: string (nullable = true)\n",
      " |    |-- standardCodings: array (nullable = true)\n",
      " |    |    |-- element: struct (containsNull = true)\n",
      " |    |    |    |-- id: string (nullable = true)\n",
      " |    |    |    |-- codingSystemId: string (nullable = true)\n",
      " |    |    |    |-- primaryDisplay: string (nullable = true)\n",
      " |-- hospitalizationstartdate: string (nullable = true)\n",
      " |-- readmission: boolean (nullable = true)\n",
      " |-- servicedate: string (nullable = true)\n",
      " |-- dischargedate: string (nullable = true)\n",
      " |-- encountertypes: array (nullable = true)\n",
      " |    |-- element: struct (containsNull = true)\n",
      " |    |    |-- type: struct (nullable = true)\n",
      " |    |    |    |-- standard: struct (nullable = true)\n",
      " |    |    |    |    |-- id: string (nullable = true)\n",
      " |    |    |    |    |-- codingSystemId: string (nullable = true)\n",
      " |    |    |    |    |-- primaryDisplay: string (nullable = true)\n",
      " |    |    |    |-- standardCodings: array (nullable = true)\n",
      " |    |    |    |    |-- element: struct (containsNull = true)\n",
      " |    |    |    |    |    |-- id: string (nullable = true)\n",
      " |    |    |    |    |    |-- codingSystemId: string (nullable = true)\n",
      " |    |    |    |    |    |-- primaryDisplay: string (nullable = true)\n",
      " |    |    |-- classification: struct (nullable = true)\n",
      " |    |    |    |-- standard: struct (nullable = true)\n",
      " |    |    |    |    |-- id: string (nullable = true)\n",
      " |    |    |    |    |-- codingSystemId: string (nullable = true)\n",
      " |    |    |    |    |-- primaryDisplay: string (nullable = true)\n",
      " |    |    |    |-- standardCodings: array (nullable = true)\n",
      " |    |    |    |    |-- element: struct (containsNull = true)\n",
      " |    |    |    |    |    |-- id: string (nullable = true)\n",
      " |    |    |    |    |    |-- codingSystemId: string (nullable = true)\n",
      " |    |    |    |    |    |-- primaryDisplay: string (nullable = true)\n",
      " |    |    |-- beginDate: string (nullable = true)\n",
      " |    |    |-- endDate: string (nullable = true)\n",
      " |-- hospitalservices: array (nullable = true)\n",
      " |    |-- element: struct (containsNull = true)\n",
      " |    |    |-- service: struct (nullable = true)\n",
      " |    |    |    |-- standard: struct (nullable = true)\n",
      " |    |    |    |    |-- id: string (nullable = true)\n",
      " |    |    |    |    |-- codingSystemId: string (nullable = true)\n",
      " |    |    |    |    |-- primaryDisplay: string (nullable = true)\n",
      " |    |    |    |-- standardCodings: array (nullable = true)\n",
      " |    |    |    |    |-- element: struct (containsNull = true)\n",
      " |    |    |    |    |    |-- id: string (nullable = true)\n",
      " |    |    |    |    |    |-- codingSystemId: string (nullable = true)\n",
      " |    |    |    |    |    |-- primaryDisplay: string (nullable = true)\n",
      " |    |    |-- beginDate: string (nullable = true)\n",
      " |    |    |-- endDate: string (nullable = true)\n",
      " |-- admissiontype: struct (nullable = true)\n",
      " |    |-- standard: struct (nullable = true)\n",
      " |    |    |-- id: string (nullable = true)\n",
      " |    |    |-- codingSystemId: string (nullable = true)\n",
      " |    |    |-- primaryDisplay: string (nullable = true)\n",
      " |    |-- standardCodings: array (nullable = true)\n",
      " |    |    |-- element: struct (containsNull = true)\n",
      " |    |    |    |-- id: string (nullable = true)\n",
      " |    |    |    |-- codingSystemId: string (nullable = true)\n",
      " |    |    |    |-- primaryDisplay: string (nullable = true)\n",
      " |-- status: struct (nullable = true)\n",
      " |    |-- standard: struct (nullable = true)\n",
      " |    |    |-- id: string (nullable = true)\n",
      " |    |    |-- codingSystemId: string (nullable = true)\n",
      " |    |    |-- primaryDisplay: string (nullable = true)\n",
      " |    |-- standardCodings: array (nullable = true)\n",
      " |    |    |-- element: struct (containsNull = true)\n",
      " |    |    |    |-- id: string (nullable = true)\n",
      " |    |    |    |-- codingSystemId: string (nullable = true)\n",
      " |    |    |    |-- primaryDisplay: string (nullable = true)\n",
      " |-- estimatedarrivaldate: string (nullable = true)\n",
      " |-- estimateddeparturedate: string (nullable = true)\n",
      " |-- actualarrivaldate: string (nullable = true)\n",
      " |-- relatedproviders: array (nullable = true)\n",
      " |    |-- element: struct (containsNull = true)\n",
      " |    |    |-- providerId: string (nullable = true)\n",
      " |    |    |-- type: string (nullable = true)\n",
      " |-- source: string (nullable = true)\n",
      " |-- active: boolean (nullable = true)\n",
      " |-- tenant: integer (nullable = true)\n",
      "\n"
     ]
    }
   ],
   "source": [
    "spark.sql(\"\"\"select * from encounter\"\"\").printSchema()"
   ]
  },
  {
   "cell_type": "code",
   "execution_count": 12,
   "metadata": {},
   "outputs": [
    {
     "name": "stdout",
     "output_type": "stream",
     "text": [
      "root\n",
      " |-- medicationid: string (nullable = true)\n",
      " |-- encounterid: string (nullable = true)\n",
      " |-- personid: string (nullable = true)\n",
      " |-- intendeddispenser: string (nullable = true)\n",
      " |-- startdate: string (nullable = true)\n",
      " |-- intendedadministrator: string (nullable = true)\n",
      " |-- doseunit: struct (nullable = true)\n",
      " |    |-- standard: struct (nullable = true)\n",
      " |    |    |-- id: string (nullable = true)\n",
      " |    |    |-- codingSystemId: string (nullable = true)\n",
      " |    |    |-- primaryDisplay: string (nullable = true)\n",
      " |    |-- standardCodings: array (nullable = true)\n",
      " |    |    |-- element: struct (containsNull = true)\n",
      " |    |    |    |-- id: string (nullable = true)\n",
      " |    |    |    |-- codingSystemId: string (nullable = true)\n",
      " |    |    |    |-- primaryDisplay: string (nullable = true)\n",
      " |-- stopdate: string (nullable = true)\n",
      " |-- category: struct (nullable = true)\n",
      " |    |-- standard: struct (nullable = true)\n",
      " |    |    |-- id: string (nullable = true)\n",
      " |    |    |-- codingSystemId: string (nullable = true)\n",
      " |    |    |-- primaryDisplay: string (nullable = true)\n",
      " |    |-- standardCodings: array (nullable = true)\n",
      " |    |    |-- element: struct (containsNull = true)\n",
      " |    |    |    |-- id: string (nullable = true)\n",
      " |    |    |    |-- codingSystemId: string (nullable = true)\n",
      " |    |    |    |-- primaryDisplay: string (nullable = true)\n",
      " |-- active: boolean (nullable = true)\n",
      " |-- frequency: struct (nullable = true)\n",
      " |    |-- standard: struct (nullable = true)\n",
      " |    |    |-- id: string (nullable = true)\n",
      " |    |    |-- codingSystemId: string (nullable = true)\n",
      " |    |    |-- primaryDisplay: string (nullable = true)\n",
      " |    |-- standardCodings: array (nullable = true)\n",
      " |    |    |-- element: struct (containsNull = true)\n",
      " |    |    |    |-- id: string (nullable = true)\n",
      " |    |    |    |-- codingSystemId: string (nullable = true)\n",
      " |    |    |    |-- primaryDisplay: string (nullable = true)\n",
      " |-- status: struct (nullable = true)\n",
      " |    |-- standard: struct (nullable = true)\n",
      " |    |    |-- id: string (nullable = true)\n",
      " |    |    |-- codingSystemId: string (nullable = true)\n",
      " |    |    |-- primaryDisplay: string (nullable = true)\n",
      " |    |-- standardCodings: array (nullable = true)\n",
      " |    |    |-- element: struct (containsNull = true)\n",
      " |    |    |    |-- id: string (nullable = true)\n",
      " |    |    |    |-- codingSystemId: string (nullable = true)\n",
      " |    |    |    |-- primaryDisplay: string (nullable = true)\n",
      " |-- route: struct (nullable = true)\n",
      " |    |-- standard: struct (nullable = true)\n",
      " |    |    |-- id: string (nullable = true)\n",
      " |    |    |-- codingSystemId: string (nullable = true)\n",
      " |    |    |-- primaryDisplay: string (nullable = true)\n",
      " |    |-- standardCodings: array (nullable = true)\n",
      " |    |    |-- element: struct (containsNull = true)\n",
      " |    |    |    |-- id: string (nullable = true)\n",
      " |    |    |    |-- codingSystemId: string (nullable = true)\n",
      " |    |    |    |-- primaryDisplay: string (nullable = true)\n",
      " |-- drugcode: struct (nullable = true)\n",
      " |    |-- standard: struct (nullable = true)\n",
      " |    |    |-- id: string (nullable = true)\n",
      " |    |    |-- codingSystemId: string (nullable = true)\n",
      " |    |    |-- primaryDisplay: string (nullable = true)\n",
      " |    |-- standardCodings: array (nullable = true)\n",
      " |    |    |-- element: struct (containsNull = true)\n",
      " |    |    |    |-- id: string (nullable = true)\n",
      " |    |    |    |-- codingSystemId: string (nullable = true)\n",
      " |    |    |    |-- primaryDisplay: string (nullable = true)\n",
      " |-- prescribingprovider: string (nullable = true)\n",
      " |-- dosequantity: string (nullable = true)\n",
      " |-- source: string (nullable = true)\n",
      " |-- asneeded: boolean (nullable = true)\n",
      " |-- tenant: integer (nullable = true)\n",
      "\n"
     ]
    }
   ],
   "source": [
    "spark.sql(\"\"\"select * from medication\"\"\").printSchema()"
   ]
  },
  {
   "cell_type": "code",
   "execution_count": 13,
   "metadata": {},
   "outputs": [],
   "source": [
    "statsDf = spark.sql(f\"\"\"\n",
    "\n",
    "  SELECT \n",
    "      round(mean(length_of_stay),2) as mean_length_of_stay\n",
    "     ,round(std(length_of_stay),2) as std_length_of_stay\n",
    "     ,max(length_of_stay) as max_length_of_stay\n",
    "  FROM (\n",
    "    SELECT datediff(e.dischargeDate, e.serviceDate)+1 as length_of_stay\n",
    "\n",
    "        FROM {db}.encounter e\n",
    "\n",
    "        JOIN {db}.demographics d\n",
    "            ON e.personId = d.personId\n",
    "               and (d.deceased = false or d.deceased is null)\n",
    "               \n",
    "        JOIN {db}.condition c\n",
    "            ON e.personId = c.personId\n",
    "              and e.encounterId = c.encounterId\n",
    "              and ( HAS_ANY_CONCEPT_IN_CONTEXT(c.conditionCode, array('CORONAVIRUS_COVID_19_DISEASE_CLIN',\n",
    "                    'CORONAVIRUS_COVID_19_POSITIVE_CLIN', 'CORONAVIRUS_COVID_19_EXPOSURE_TO_CLIN',\n",
    "                    'CORONAVIRUS_COVID_19_TRAVEL_TO_AREA_AFFECTED_CLIN'), '{defaultcontext}' ) )  \n",
    "\n",
    "        WHERE  ( HAS_ANY_CONCEPT_IN_CONTEXT(e.encounterTypes.type, array('INPATIENT_VISIT_ENC'), '{defaultcontext}' ) \n",
    "                  or HAS_ANY_CONCEPT_IN_CONTEXT(e.type, array('INPATIENT_VISIT_ENC'), '{defaultcontext}' ) )\n",
    "            and e.dischargeDate is not null\n",
    "        )\n",
    "    WHERE length_of_stay > 0    \n",
    "\n",
    "\n",
    "\"\"\")"
   ]
  },
  {
   "cell_type": "code",
   "execution_count": 14,
   "metadata": {},
   "outputs": [
    {
     "name": "stdout",
     "output_type": "stream",
     "text": [
      "7.5\n"
     ]
    }
   ],
   "source": [
    "mean_length_of_stay = statsDf.first().mean_length_of_stay\n",
    "print(mean_length_of_stay)"
   ]
  },
  {
   "cell_type": "code",
   "execution_count": 15,
   "metadata": {},
   "outputs": [
    {
     "name": "stdout",
     "output_type": "stream",
     "text": [
      "10.25\n"
     ]
    }
   ],
   "source": [
    "std_length_of_stay = statsDf.first().std_length_of_stay\n",
    "print(std_length_of_stay)"
   ]
  },
  {
   "cell_type": "code",
   "execution_count": 16,
   "metadata": {},
   "outputs": [],
   "source": [
    "max_length_Of_stay = statsDf.first().max_length_of_stay"
   ]
  },
  {
   "cell_type": "code",
   "execution_count": 17,
   "metadata": {},
   "outputs": [
    {
     "name": "stdout",
     "output_type": "stream",
     "text": [
      "4059\n"
     ]
    }
   ],
   "source": [
    "print(max_length_Of_stay)"
   ]
  },
  {
   "cell_type": "code",
   "execution_count": 18,
   "metadata": {},
   "outputs": [],
   "source": [
    "max_length_of_stay = mean_length_of_stay + (std_length_of_stay)*4"
   ]
  },
  {
   "cell_type": "code",
   "execution_count": 19,
   "metadata": {},
   "outputs": [
    {
     "name": "stdout",
     "output_type": "stream",
     "text": [
      "48.5\n"
     ]
    }
   ],
   "source": [
    "print(max_length_of_stay)"
   ]
  },
  {
   "cell_type": "code",
   "execution_count": 22,
   "metadata": {},
   "outputs": [],
   "source": [
    "statsDf = spark.sql(f\"\"\"\n",
    "\n",
    "  SELECT \n",
    "      round(mean(length_of_stay),2) as mean_length_of_stay\n",
    "     ,round(std(length_of_stay),2) as std_length_of_stay\n",
    "  FROM (\n",
    "    SELECT datediff(e.dischargeDate, e.serviceDate)+1 as length_of_stay\n",
    "\n",
    "        FROM {db}.encounter e\n",
    "\n",
    "        JOIN {db}.demographics d\n",
    "            ON e.personId = d.personId\n",
    "               and (d.deceased = false or d.deceased is null)\n",
    "               \n",
    "        JOIN {db}.condition c\n",
    "            ON e.personId = c.personId\n",
    "              and e.encounterId = c.encounterId\n",
    "              and ( HAS_ANY_CONCEPT_IN_CONTEXT(c.conditionCode, array('CORONAVIRUS_COVID_19_DISEASE_CLIN',\n",
    "                    'CORONAVIRUS_COVID_19_POSITIVE_CLIN', 'CORONAVIRUS_COVID_19_EXPOSURE_TO_CLIN',\n",
    "                    'CORONAVIRUS_COVID_19_TRAVEL_TO_AREA_AFFECTED_CLIN'), '{defaultcontext}' ) )     \n",
    "             \n",
    "            \n",
    "\n",
    "        WHERE  ( HAS_ANY_CONCEPT_IN_CONTEXT(e.encounterTypes.type, array('INPATIENT_VISIT_ENC'), '{defaultcontext}' ) \n",
    "                  or HAS_ANY_CONCEPT_IN_CONTEXT(e.type, array('INPATIENT_VISIT_ENC'), '{defaultcontext}' ) )\n",
    "            and e.dischargeDate is not null\n",
    "            \n",
    "            \n",
    "            and  ( exists (select * from medication m\n",
    "                        where e.personId = m.personId\n",
    "                          AND HAS_ANY_CONCEPT_IN_CONTEXT(m.drugCode,\n",
    "                            array('SARS_COV2_COVID19_CVX_207_MED','SARS_COV2_COVID19_CVX_207_VAC',\n",
    "                            'SARS_COV2_COVID19_CVX_208_MED','SARS_COV2_COVID19_CVX_208_VAC',\n",
    "                            'SARS_COV2_COVID19_CVX_210_MED','SARS_COV2_COVID19_CVX_210_VAC',\n",
    "                            'SARS_COV2_COVID19_CVX_212_MED','SARS_COV2_COVID19_CVX_212_VAC',\n",
    "                            'SARS_COV2_COVID19_CVX_213_MED','SARS_COV2_COVID19_CVX_213_VAC',\n",
    "                            'SARS_COV2_COVID19_CVX_500_MED','SARS_COV2_COVID19_CVX_500_VAC',\n",
    "                            'SARS_COV2_COVID19_CVX_510_MED','SARS_COV2_COVID19_CVX_510_VAC',\n",
    "                            'SARS_COV2_COVID19_CVX_511_MED','SARS_COV2_COVID19_CVX_511_VAC'), '{defaultcontext}' )\n",
    "                          AND datediff(m.startdate, e.serviceDate) <=0  )\n",
    "                   or exists (select * from procedure p\n",
    "                        where e.personId = p.personId\n",
    "                          AND HAS_ANY_CONCEPT_IN_CONTEXT(p.procedureCode,\n",
    "                            array('SARS_COV2_COVID19_SINGLE_DOSE_VACCINE_PROC','SARS_COV2_COVID19_VACCINE_PROC'),\n",
    "                               '{defaultcontext}' )   \n",
    "                             AND datediff(p.serviceStartDate, e.serviceDate) <=0  )  \n",
    "                            \n",
    "                 )\n",
    "                 \n",
    "                 \n",
    "        )\n",
    "    WHERE length_of_stay > 0    \n",
    "\n",
    "\n",
    "\"\"\")"
   ]
  },
  {
   "cell_type": "code",
   "execution_count": 23,
   "metadata": {},
   "outputs": [
    {
     "name": "stdout",
     "output_type": "stream",
     "text": [
      "7.12\n"
     ]
    }
   ],
   "source": [
    "mean_length_of_stay_with_vaccine = statsDf.first().mean_length_of_stay\n",
    "print(mean_length_of_stay_with_vaccine)"
   ]
  },
  {
   "cell_type": "code",
   "execution_count": 24,
   "metadata": {},
   "outputs": [
    {
     "name": "stdout",
     "output_type": "stream",
     "text": [
      "5.0\n"
     ]
    }
   ],
   "source": [
    "std_length_of_stay_with_vaccine = statsDf.first().std_length_of_stay\n",
    "print(std_length_of_stay_with_vaccine)"
   ]
  },
  {
   "cell_type": "code",
   "execution_count": 25,
   "metadata": {},
   "outputs": [],
   "source": [
    "statsDf = spark.sql(f\"\"\"\n",
    "\n",
    "  SELECT \n",
    "      round(mean(length_of_stay),2) as mean_length_of_stay\n",
    "     ,round(std(length_of_stay),2) as std_length_of_stay\n",
    "  FROM (\n",
    "    SELECT datediff(e.dischargeDate, e.serviceDate)+1 as length_of_stay\n",
    "\n",
    "        FROM {db}.encounter e\n",
    "\n",
    "        JOIN {db}.demographics d\n",
    "            ON e.personId = d.personId\n",
    "               and (d.deceased = false or d.deceased is null)\n",
    "               \n",
    "        JOIN {db}.condition c\n",
    "            ON e.personId = c.personId\n",
    "              and e.encounterId = c.encounterId\n",
    "              and ( HAS_ANY_CONCEPT_IN_CONTEXT(c.conditionCode, array('CORONAVIRUS_COVID_19_DISEASE_CLIN',\n",
    "                    'CORONAVIRUS_COVID_19_POSITIVE_CLIN', 'CORONAVIRUS_COVID_19_EXPOSURE_TO_CLIN',\n",
    "                    'CORONAVIRUS_COVID_19_TRAVEL_TO_AREA_AFFECTED_CLIN'), '{defaultcontext}' ) )     \n",
    "             \n",
    "            \n",
    "\n",
    "        WHERE  ( HAS_ANY_CONCEPT_IN_CONTEXT(e.encounterTypes.type, array('INPATIENT_VISIT_ENC'), '{defaultcontext}' ) \n",
    "                  or HAS_ANY_CONCEPT_IN_CONTEXT(e.type, array('INPATIENT_VISIT_ENC'), '{defaultcontext}' ) )\n",
    "            and e.dischargeDate is not null\n",
    "            \n",
    "            \n",
    "            and ( not exists (select * from medication m\n",
    "                        where e.personId = m.personId\n",
    "                          AND HAS_ANY_CONCEPT_IN_CONTEXT(m.drugCode,\n",
    "                            array('SARS_COV2_COVID19_CVX_207_MED','SARS_COV2_COVID19_CVX_207_VAC',\n",
    "                            'SARS_COV2_COVID19_CVX_208_MED','SARS_COV2_COVID19_CVX_208_VAC',\n",
    "                            'SARS_COV2_COVID19_CVX_210_MED','SARS_COV2_COVID19_CVX_210_VAC',\n",
    "                            'SARS_COV2_COVID19_CVX_212_MED','SARS_COV2_COVID19_CVX_212_VAC',\n",
    "                            'SARS_COV2_COVID19_CVX_213_MED','SARS_COV2_COVID19_CVX_213_VAC',\n",
    "                            'SARS_COV2_COVID19_CVX_500_MED','SARS_COV2_COVID19_CVX_500_VAC',\n",
    "                            'SARS_COV2_COVID19_CVX_510_MED','SARS_COV2_COVID19_CVX_510_VAC',\n",
    "                            'SARS_COV2_COVID19_CVX_511_MED','SARS_COV2_COVID19_CVX_511_VAC'), '{defaultcontext}' ) )\n",
    "                   and not exists (select * from procedure p\n",
    "                        where e.personId = p.personId\n",
    "                          AND HAS_ANY_CONCEPT_IN_CONTEXT(p.procedureCode,\n",
    "                            array('SARS_COV2_COVID19_SINGLE_DOSE_VACCINE_PROC','SARS_COV2_COVID19_VACCINE_PROC'),\n",
    "                               '{defaultcontext}' )  )        \n",
    "                            \n",
    "                 )\n",
    "        )\n",
    "    WHERE length_of_stay > 0    \n",
    "\n",
    "\n",
    "\"\"\")"
   ]
  },
  {
   "cell_type": "code",
   "execution_count": 26,
   "metadata": {},
   "outputs": [
    {
     "name": "stdout",
     "output_type": "stream",
     "text": [
      "7.5\n"
     ]
    }
   ],
   "source": [
    "mean_length_of_stay_without_vaccine = statsDf.first().mean_length_of_stay\n",
    "print(mean_length_of_stay_without_vaccine)"
   ]
  },
  {
   "cell_type": "code",
   "execution_count": 27,
   "metadata": {},
   "outputs": [
    {
     "ename": "NameError",
     "evalue": "name 'std_length_of_stay_without_vaccine' is not defined",
     "output_type": "error",
     "traceback": [
      "\u001b[0;31m---------------------------------------------------------------------------\u001b[0m",
      "\u001b[0;31mNameError\u001b[0m                                 Traceback (most recent call last)",
      "\u001b[0;32m<ipython-input-27-485eed5b721d>\u001b[0m in \u001b[0;36m<module>\u001b[0;34m\u001b[0m\n\u001b[1;32m      1\u001b[0m \u001b[0mstd_length_of_stay_with_vaccine\u001b[0m \u001b[0;34m=\u001b[0m \u001b[0mstatsDf\u001b[0m\u001b[0;34m.\u001b[0m\u001b[0mfirst\u001b[0m\u001b[0;34m(\u001b[0m\u001b[0;34m)\u001b[0m\u001b[0;34m.\u001b[0m\u001b[0mstd_length_of_stay\u001b[0m\u001b[0;34m\u001b[0m\u001b[0;34m\u001b[0m\u001b[0m\n\u001b[0;32m----> 2\u001b[0;31m \u001b[0mprint\u001b[0m\u001b[0;34m(\u001b[0m\u001b[0mstd_length_of_stay_without_vaccine\u001b[0m\u001b[0;34m)\u001b[0m\u001b[0;34m\u001b[0m\u001b[0;34m\u001b[0m\u001b[0m\n\u001b[0m",
      "\u001b[0;31mNameError\u001b[0m: name 'std_length_of_stay_without_vaccine' is not defined"
     ]
    }
   ],
   "source": [
    "std_length_of_stay_with_vaccine = statsDf.first().std_length_of_stay\n",
    "print(std_length_of_stay_without_vaccine)"
   ]
  },
  {
   "cell_type": "code",
   "execution_count": null,
   "metadata": {},
   "outputs": [],
   "source": [
    "import matplotlib.pyplot as plt\n",
    "from scipy.stats import norm"
   ]
  },
  {
   "cell_type": "code",
   "execution_count": null,
   "metadata": {},
   "outputs": [],
   "source": [
    "# generating multiple normal distributions\n",
    "domain = np.linspace(0, max_length_of_stay, 100) # dividing the distance between 0 and max_length_of_stay into 100 points\n",
    "\n",
    "means = [mean_length_of_stay, mean_length_of_stay_with_vaccine, mean_length_of_stay_without_vaccine]\n",
    "std_values = [std_length_of_stay, std_length_of_stay_with_vaccine, std_length_of_stay_without_vaccine]\n",
    "title_values = [\"all\", \"with vaccination\", \"without vaccination\"]\n",
    "\n",
    "plt.figure(figsize=(16, 9))\n",
    "for title, mu, std in zip(title_values, means, std_values):\n",
    "    # pdf stands for Probability Density Function, which is the plot the probabilities of each range of values\n",
    "    probabilities = norm.pdf(domain, mu, std)\n",
    "    plt.plot(domain, probabilities, label=f\"title={title}$\\n$\\mu={mu}$\\n$\\sigma={std}$\\n\")\n",
    "\n",
    "plt.legend()\n",
    "plt.xlabel(\"Value\")\n",
    "plt.ylabel(\"Probability\")\n",
    "plt.show()"
   ]
  },
  {
   "cell_type": "code",
   "execution_count": null,
   "metadata": {},
   "outputs": [],
   "source": [
    "import matplotlib.pyplot as plt\n",
    "import numpy as np\n",
    "\n",
    "data1 = np.random.normal(0, 1, 3000)\n",
    "data2 = np.random.normal(-2.6, 1.8, 3000)\n",
    "data3 = np.random.normal(2.4, 1.5, 3000)\n",
    "\n",
    "fig, axe = plt.subplots(dpi=800)\n",
    "axe.hist(data1, bins=40, density=True, histtype='stepfilled', alpha=0.3, label=\"mu=0,std=1\")\n",
    "axe.hist(data2, bins=40, density=True, histtype='stepfilled', alpha=0.3, label=\"mu=-2.6,std=1.8\")\n",
    "axe.hist(data3, bins=40, density=True, histtype='stepfilled', alpha=0.3, label=\"mu=2.4,std=1.5\")\n",
    "axe.legend()\n",
    "fig.savefig(\"output/output.png\")\n",
    "plt.close(fig)"
   ]
  },
  {
   "cell_type": "code",
   "execution_count": null,
   "metadata": {},
   "outputs": [],
   "source": [
    "import matplotlib.pyplot as plt\n",
    "import numpy as np\n",
    "\n",
    "sigma = 1\n",
    "mu = 0\n",
    "fig, axe = plt.subplots(dpi=800)\n",
    "data = np.random.normal(mu, sigma, 3000)\n",
    "n, bins, _ = axe.hist(data, bins=40, density=True)\n",
    "y = ((1 / (np.sqrt(2 * np.pi) * sigma)) *\n",
    "     np.exp(-0.5 * (1 / sigma * (bins - mu))**2))\n",
    "axe.plot(bins, y, '--', color='r')\n",
    "fig.savefig(\"output/output.png\")\n",
    "plt.close(fig)"
   ]
  },
  {
   "cell_type": "code",
   "execution_count": null,
   "metadata": {},
   "outputs": [],
   "source": [
    "# Solution\n",
    "import seaborn as sns\n",
    "df = sns.load_dataset('iris')\n",
    "\n",
    "plt.subplots(figsize=(7,6), dpi=100)\n",
    "sns.distplot( df.loc[df.species=='setosa', \"sepal_length\"] , color=\"dodgerblue\", label=\"Setosa\")\n",
    "sns.distplot( df.loc[df.species=='virginica', \"sepal_length\"] , color=\"orange\", label=\"virginica\")\n",
    "sns.distplot( df.loc[df.species=='versicolor', \"sepal_length\"] , color=\"deeppink\", label=\"versicolor\")\n",
    "\n",
    "plt.title('Iris Histogram')\n",
    "plt.legend();"
   ]
  },
  {
   "cell_type": "code",
   "execution_count": null,
   "metadata": {},
   "outputs": [],
   "source": []
  },
  {
   "cell_type": "code",
   "execution_count": null,
   "metadata": {},
   "outputs": [],
   "source": []
  },
  {
   "cell_type": "code",
   "execution_count": null,
   "metadata": {},
   "outputs": [],
   "source": []
  }
 ],
 "metadata": {
  "kernelspec": {
   "display_name": "PySpark",
   "language": "python",
   "name": "pyspark"
  },
  "language_info": {
   "codemirror_mode": {
    "name": "ipython",
    "version": 3
   },
   "file_extension": ".py",
   "mimetype": "text/x-python",
   "name": "python",
   "nbconvert_exporter": "python",
   "pygments_lexer": "ipython3",
   "version": "3.7.6"
  }
 },
 "nbformat": 4,
 "nbformat_minor": 4
}
